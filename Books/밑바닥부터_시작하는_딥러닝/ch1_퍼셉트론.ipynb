{
 "cells": [
  {
   "cell_type": "markdown",
   "source": [
    "### Perceptron 구현 실습"
   ],
   "metadata": {
    "collapsed": false
   }
  },
  {
   "cell_type": "markdown",
   "source": [
    "### 정의\n",
    "\n",
    "퍼셉트론이란 인공뉴런으로 인공지능의 뇌를 이루는 작은 단위의 흐름이다. 사람은 뉴런에게 신호를 보내는 방법을 굳이 생각하지 않는다. 하지만, 컴퓨터는 퍼셉트론에 신호를 보내는 방법을 사람이 알려주어야 한다. 퍼셉트론은 컴퓨터의 신호를 전달하는 인공뉴런 간 흐름의 가장 작은 단위이다. 그리고 컴퓨터는 1과 0로 뉴런 간에 흐름이 있다 없다를 판단한다. 이때 1과 0의 값을 산출하기 위해 입력신호의 값, 가중치, 그리고 임계값이라는 단어가 등장하게 된다.\n",
    "\n",
    "뇌의 뉴런은 신호를 전달하기 위해 전기적인 작용을 한다. 컴퓨터로 구현하기 위해서는 이러한 전기적인 작용을 수치화해야하며, 이로 인해 아래와 같은 퍼셉트론의 동작원리 식을 이해해야 한다. 기본적으로 입력 신호는 컴퓨터의 학습 데이터를 의미하며, 가중치와 임계값을 매계변수로 결과값에 변화를 준다.\n",
    "\n",
    "- -\n",
    "\n",
    "\n",
    "    | 단어 | 기호 | 용어 | 내용 |\n",
    "    | --- | --- | --- | --- |\n",
    "    | 퍼셉트론 | - | 인공뉴런 or 단순 퍼셉트론 | 다수의 입력신호를 받아 하나의 출력신호를 내보내는 일종의 흐름이다 |\n",
    "    | 신호 | x, y | 뉴련 or 노드 | 퍼셉트론의 각 신호는 흐른다(1), 안흐른다(0) 의 값만 가질 수 있다  |\n",
    "    | 가중치 | w | - | 입력신호는 신호의 고유한 가중치가 곱해져서 뉴런(출력신호)으로 보내진다 |\n",
    "    | 임계값 | θ | - | 고유한 가중치가 곱해진 입력신호들의 총 합이 가진 출력신호의 정해진 한계\n",
    "     |\n",
    "    | 편향 | -θ |  | 임계값을 좌변으로 이동시켜 우변을 0으로 만드는 방식 |\n",
    "    | 모델 |  | 퍼셉트론의 구조 |  |\n",
    "    - 진리표의 의미: 학습 데이터\n",
    "    - 매계변수( 가중치, 임계값 ): 학습 데이트를 기반으로 사람이 수동으로 입력하는 값\n",
    "    - 기계학습이란: 학습 데이터를 기반으로 컴퓨터가 자동으로 매계변수를 정하는 것\n",
    "        - 학습이란: 적절한 매계변수 값을 정하는 작업\n",
    "    - 기계학습에서 사람은 퍼셉트론의 구조(모델)를 고민하고 학습할 데이터를 주는 일을 한다\n",
    "\n",
    "```mermaid\n",
    "stateDiagram-v2\n",
    "    x1(입력신호) --> y(출력신호): w1(가중치)\n",
    "\t\tx2(입력신호) --> y(출력신호): w2(가중치)\n",
    "```\n",
    "\n",
    "![스크린샷 2022-09-21 오후 1.11.01.png](https://s3-us-west-2.amazonaws.com/secure.notion-static.com/bcd3686c-2fcb-404d-a7d5-7f33cb6e443a/%E1%84%89%E1%85%B3%E1%84%8F%E1%85%B3%E1%84%85%E1%85%B5%E1%86%AB%E1%84%89%E1%85%A3%E1%86%BA_2022-09-21_%E1%84%8B%E1%85%A9%E1%84%92%E1%85%AE_1.11.01.png)\n",
    "\n",
    "## 논리회로\n",
    "\n",
    "퍼셉트론의 동작원리 식을 통해 산출된 결과는 출력 신호로서 1 혹은 0의 값을 가지게 된다. 그리고 다수의 입력, 출력신호의 x, y값을 표로 흐름의 유무 쉽게 판단하기 위해 작성하는 것을 진리표라고 한다. 여기서 기본 논리회로는 입력신호가 2개인 퍼셉트론의 진리표를 말하며, 여러개의 기본 논리회로로 생성된 흐름을 다층 퍼셉트론이라고 한다.\n",
    "\n",
    "기본 퍼셉트론의 종류는 아래의 AND, NotAND, OR이 존재하지만, 코드상으로는 기본 퍼셉트론의 함수는 같은 모양을 가지고 있다. 이는 매계변수인 가중치(w)와 임계값(**θ**)으로 논리회로의 종류가 달라지기 때문이다.\n",
    "\n",
    "- -\n",
    "    - 기본 논리회로는 단일 퍼셉트론으로 표현 가능한 논리회로를 말한다.\n",
    "    - `AND`, `NotAND`, `OR` 논리회로는 편향을 통해 같은 함수로 표현이 가능하다\n",
    "        - 주어지는 가중치(w)와 임계값(**θ**)으로 진리표의 결과가 달라진다\n",
    "\n",
    "    ```python\n",
    "    # x = 0 ~ 1 사이의 실수\n",
    "    def Add(x1, x2):\n",
    "        x = np.array([ x1, x2 ])\n",
    "        w = np.array([ 0.5, 0.5 ])\n",
    "        b = -0.7\n",
    "\n",
    "     # ( x1 * w1 + x2 * w2 ) + b\n",
    "    r = np.sum(x * w) + b\n",
    "        if r > 0:\n",
    "            return 1\n",
    "    \t\telif r <= 0:\n",
    "            return 0\n",
    "    ```\n",
    "\n",
    "    - 기본 논리회로의 종류\n",
    "        - `AND`: 입력신호가 모두 1인 경우 1, 아니면 0을 출력\n",
    "        - `NotAND`: 입력신호가 모두 1인 경우 0, 아니면 1을 출력\n",
    "        - `OR`: 입력 신호 중 1이 있다면 1, 없다면 0을 출력\n",
    "    - 다층 퍼셉트론 예시\n",
    "        - XOR:\n",
    "\n",
    "## 활성화 함수 h(x)\n",
    "\n",
    "### 퍼셉트론\n",
    "\n",
    "- 계단 함수\n",
    "\n",
    "    ```python\n",
    "    def step_function (x):\n",
    "        return np.array(x > 0, dtype=int)\n",
    "    ```\n",
    "\n",
    "\n",
    "### 신경망\n",
    "\n",
    "- 시그모이드 함수\n",
    "\n",
    "    ```python\n",
    "    def sigmoid(x):\n",
    "        return 1 / (1 + np.exp(-x))\n",
    "    ```\n",
    "\n",
    "- ReLU 함수\n",
    "\n",
    "    ```python\n",
    "    def relu(x):\n",
    "        return np.maximum(0, x)\n",
    "    ```\n",
    "\n",
    "\n",
    "### 계단함수와 시그모이드 함수 비교\n",
    "\n",
    "- 활성화 함수는 뉴런의 내부에서 입력 신호의 총 합이 입계값과의 비교 결과를 내보내는 함수를 의미한다.\n",
    "- 활성화 함수의 결과에 따라 결국 0 ~ 1 사이의 실수가 출력되기 때문에 흐름의 유무를 판단하게 된다"
   ],
   "metadata": {
    "collapsed": false
   }
  },
  {
   "cell_type": "code",
   "execution_count": 34,
   "outputs": [
    {
     "name": "stdout",
     "output_type": "stream",
     "text": [
      "편향을 통해 퍼셉트론 임계값 구하기\n",
      "-------------------\n",
      "x1 = 0, x2 = 0 | 0\n",
      "x1 = 1, x2 = 0 | 0\n",
      "x1 = 0, x2 = 1 | 0\n",
      "x1 = 1, x2 = 1 | 1\n",
      "-------------------\n"
     ]
    }
   ],
   "source": [
    "import numpy as np\n",
    "# print(\"AND 게이트\")\n",
    "# def And(x1, x2):\n",
    "#     w1, w2, theta = 0.5, 0.5, 0.7\n",
    "#\n",
    "#     tmp = x1 * w1 + x2 * w2\n",
    "#\n",
    "#     if tmp > theta:\n",
    "#         return 1\n",
    "#     elif tmp <= theta:\n",
    "#         return 0\n",
    "#\n",
    "# print(\"-------------------\")\n",
    "# print(\"x1 = 0, x2 = 0\", \"|\", And(0, 0))\n",
    "# print(\"x1 = 1, x2 = 0\", \"|\", And(1, 0))\n",
    "# print(\"x1 = 0, x2 = 1\", \"|\", And(0, 1))\n",
    "# print(\"x1 = 1, x2 = 1\", \"|\", And(1, 1))\n",
    "# print(\"-------------------\")\n",
    "\n",
    "print(\"편향을 통해 퍼셉트론 임계값 구하기\")\n",
    "def BiasAddGate(x1, x2):\n",
    "    x = np.array([ x1, x2 ])\n",
    "    w = np.array([ 0.5, 0.5 ])\n",
    "    b = -0.7\n",
    "\n",
    "    r = np.sum(x * w) + b # x1*w1 + x2*w2\n",
    "    if r > 0:\n",
    "        return 1\n",
    "    elif r <= 0:\n",
    "        return 0\n",
    "\n",
    "print(\"-------------------\")\n",
    "print(\"x1 = 0, x2 = 0\", \"|\", BiasAddGate(0, 0))\n",
    "print(\"x1 = 1, x2 = 0\", \"|\", BiasAddGate(1, 0))\n",
    "print(\"x1 = 0, x2 = 1\", \"|\", BiasAddGate(0, 1))\n",
    "print(\"x1 = 1, x2 = 1\", \"|\", BiasAddGate(1, 1))\n",
    "print(\"-------------------\")\n"
   ],
   "metadata": {
    "collapsed": false
   }
  },
  {
   "cell_type": "code",
   "execution_count": 35,
   "outputs": [
    {
     "name": "stdout",
     "output_type": "stream",
     "text": [
      "NotAND 게이트\n",
      "-------------------\n",
      "x1 = 0, x2 = 0 | 1\n",
      "x1 = 1, x2 = 0 | 1\n",
      "x1 = 0, x2 = 1 | 1\n",
      "x1 = 1, x2 = 1 | 0\n",
      "-------------------\n"
     ]
    }
   ],
   "source": [
    "import numpy as np\n",
    "\n",
    "print(\"NotAND 게이트\")\n",
    "def NotAND(x1, x2):\n",
    "    x = np.array([x1, x2])\n",
    "    w = np.array([-0.5, -0.5])\n",
    "    b = 0.7\n",
    "\n",
    "    r = np.sum(x * w) + b\n",
    "\n",
    "    if r > 0:\n",
    "        return 1\n",
    "    elif r <= 0:\n",
    "        return 0\n",
    "\n",
    "print(\"-------------------\")\n",
    "print(\"x1 = 0, x2 = 0\", \"|\", NotAND(0, 0))\n",
    "print(\"x1 = 1, x2 = 0\", \"|\", NotAND(1, 0))\n",
    "print(\"x1 = 0, x2 = 1\", \"|\", NotAND(0, 1))\n",
    "print(\"x1 = 1, x2 = 1\", \"|\", NotAND(1, 1))\n",
    "print(\"-------------------\")"
   ],
   "metadata": {
    "collapsed": false
   }
  },
  {
   "cell_type": "code",
   "execution_count": 36,
   "outputs": [
    {
     "name": "stdout",
     "output_type": "stream",
     "text": [
      "OR 게이트\n",
      "-------------------\n",
      "x1 = 0, x2 = 0 | 0\n",
      "x1 = 1, x2 = 0 | 1\n",
      "x1 = 0, x2 = 1 | 1\n",
      "x1 = 1, x2 = 1 | 1\n",
      "-------------------\n"
     ]
    }
   ],
   "source": [
    "import numpy as np\n",
    "print(\"OR 게이트\")\n",
    "def OR(x1, x2):\n",
    "    x = np.array([ x1, x2 ])\n",
    "    w = np.array([ 0.5, 0.5 ])\n",
    "    b = -0.2\n",
    "\n",
    "    r = np.sum(x * w) + b\n",
    "    if r > 0:\n",
    "        return 1\n",
    "    elif r <= 0:\n",
    "        return 0\n",
    "\n",
    "print(\"-------------------\")\n",
    "print(\"x1 = 0, x2 = 0\", \"|\", OR(0, 0))\n",
    "print(\"x1 = 1, x2 = 0\", \"|\", OR(1, 0))\n",
    "print(\"x1 = 0, x2 = 1\", \"|\", OR(0, 1))\n",
    "print(\"x1 = 1, x2 = 1\", \"|\", OR(1, 1))\n",
    "print(\"-------------------\")"
   ],
   "metadata": {
    "collapsed": false
   }
  },
  {
   "cell_type": "code",
   "execution_count": 37,
   "outputs": [
    {
     "name": "stdout",
     "output_type": "stream",
     "text": [
      "XOR 게이트\n",
      "-------------------\n",
      "x1 | x2 || s1 | s2  || y\n",
      "0  |  0 ||             0\n",
      "1  |  0 ||             1\n",
      "0  |  1 ||             1\n",
      "1  |  1 ||             0\n",
      "-------------------\n"
     ]
    }
   ],
   "source": [
    "print(\"XOR 게이트\")\n",
    "\n",
    "def XOR(x1, x2):\n",
    "    s1 = NotAND(x1, x2)\n",
    "    s2 = OR(x1, x2)\n",
    "    r = BiasAddGate(s1, s2)\n",
    "    return r\n",
    "\n",
    "print(\"-------------------\")\n",
    "print(\"x1 | x2 || s1 | s2  || y\")\n",
    "print(\"0  |  0\", \"||\", \"           \",  XOR(0, 0))\n",
    "print(\"1  |  0\", \"||\", \"           \",  XOR(1, 0))\n",
    "print(\"0  |  1\", \"||\", \"           \",  XOR(0, 1))\n",
    "print(\"1  |  1\", \"||\", \"           \",  XOR(1, 1))\n",
    "print(\"-------------------\")"
   ],
   "metadata": {
    "collapsed": false
   }
  },
  {
   "cell_type": "code",
   "execution_count": 37,
   "outputs": [],
   "source": [],
   "metadata": {
    "collapsed": false
   }
  }
 ],
 "metadata": {
  "kernelspec": {
   "display_name": "Python 3",
   "language": "python",
   "name": "python3"
  },
  "language_info": {
   "codemirror_mode": {
    "name": "ipython",
    "version": 2
   },
   "file_extension": ".py",
   "mimetype": "text/x-python",
   "name": "python",
   "nbconvert_exporter": "python",
   "pygments_lexer": "ipython2",
   "version": "2.7.6"
  }
 },
 "nbformat": 4,
 "nbformat_minor": 0
}
