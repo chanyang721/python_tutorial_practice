{
 "cells": [
  {
   "cell_type": "markdown",
   "source": [
    "#### 오차제곱합 실습"
   ],
   "metadata": {
    "collapsed": false,
    "pycharm": {
     "name": "#%% md\n"
    }
   }
  },
  {
   "cell_type": "code",
   "execution_count": 3,
   "outputs": [
    {
     "data": {
      "text/plain": "0.5975"
     },
     "execution_count": 3,
     "metadata": {},
     "output_type": "execute_result"
    }
   ],
   "source": [
    "import numpy as np\n",
    "\n",
    "## y = 소프트맥스 함수의 출력값\n",
    "y = [ 0.1, 0.05, 0.6, 0.0, 0.05, 0.1, 0.0, 0.1, 0.0, 0.0 ] # 정답이 2일 확률이 60%를 표현\n",
    "\n",
    "## t = 원-핫 인코딩 표기법: 하나의 원소만 1이고 나머지는 0으로 나타내는 표기법\n",
    "t = [ 0, 0, 1, 0, 0, 0, 0, 0, 0, 0 ] # 1원소가 2번 인덱스 이므로 정답이 2인것을 표현\n",
    "\n",
    "## 오차제곱합의 수식\n",
    "### 오차제곱합의 수식의 결과값이 낮을 수록 정답에 가까울 확률이 높다는 것을 의미한다\n",
    "def sum_squares_error (y, t):\n",
    "    return 0.5 * np.sum( (y - t) ** 2 )\n",
    "\n",
    "sum_squares_error(np.array(y), np.array(t)) # -> 0.09750000000000003\n",
    "\n",
    "y = [ 0.1, 0.05, 0.1, 0.0, 0.05, 0.1, 0.0, 0.6, 0.0, 0.0 ] # 정답이 7일 확률이 60%를 표현\n",
    "sum_squares_error(np.array(y), np.array(t)) # -> 0.5975\n",
    "\n",
    "\n",
    "##### N개의 훈련 데이터를 오차제곱합의 수식 ######\n"
   ],
   "metadata": {
    "collapsed": false,
    "pycharm": {
     "name": "#%%\n"
    }
   }
  },
  {
   "cell_type": "code",
   "execution_count": 6,
   "outputs": [
    {
     "data": {
      "text/plain": "2.302584092994546"
     },
     "execution_count": 6,
     "metadata": {},
     "output_type": "execute_result"
    }
   ],
   "source": [
    "## 교차 엔트로피 오차\n",
    "## 오차제곰합과 마찬가지로 결과값이 작을수록 정답일 확률이 높아진다는 의미\n",
    "## 수식에는 없는 델타값은 더한 이유: np.log() 함수에 0을 입력하면 -inf(음의 무한대)가 되어 계산이 불가능해지기 때문에\n",
    "##                          아주 작은 값을 더해 음의 무한대 값을 피한다\n",
    "def cross_entropy_erro(y, t):\n",
    "    delta = 1e-7\n",
    "    return -np.sum( ( t * np.log(y + delta) ) )\n",
    "\n",
    "y = [ 0.1, 0.05, 0.6, 0.0, 0.05, 0.1, 0.0, 0.1, 0.0, 0.0 ]\n",
    "t = [ 0, 0, 1, 0, 0, 0, 0, 0, 0, 0 ]\n",
    "cross_entropy_erro(np.array(y), np.array(t)) ## -> 0.510825457099338\n",
    "\n",
    "y = [ 0.1, 0.05, 0.1, 0.0, 0.05, 0.1, 0.0, 0.6, 0.0, 0.0 ]\n",
    "cross_entropy_erro(np.array(y), np.array(t)) ## -> 2.302584092994546\n"
   ],
   "metadata": {
    "collapsed": false,
    "pycharm": {
     "name": "#%%\n"
    }
   }
  },
  {
   "cell_type": "markdown",
   "source": [],
   "metadata": {
    "collapsed": false,
    "pycharm": {
     "name": "#%% md\n"
    }
   }
  }
 ],
 "metadata": {
  "kernelspec": {
   "display_name": "Python 3",
   "language": "python",
   "name": "python3"
  },
  "language_info": {
   "codemirror_mode": {
    "name": "ipython",
    "version": 2
   },
   "file_extension": ".py",
   "mimetype": "text/x-python",
   "name": "python",
   "nbconvert_exporter": "python",
   "pygments_lexer": "ipython2",
   "version": "2.7.6"
  }
 },
 "nbformat": 4,
 "nbformat_minor": 0
}