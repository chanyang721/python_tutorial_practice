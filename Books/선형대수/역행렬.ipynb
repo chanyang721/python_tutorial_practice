{
 "cells": [
  {
   "cell_type": "markdown",
   "source": [
    "#### 역행렬 실습\n",
    "##### 역행렬은 행렬식과 수반행렬이 필요하다"
   ],
   "metadata": {
    "collapsed": false,
    "pycharm": {
     "name": "#%% md\n"
    }
   }
  },
  {
   "cell_type": "code",
   "execution_count": 13,
   "outputs": [
    {
     "name": "stdout",
     "output_type": "stream",
     "text": [
      "[[11, -9, 46], [-28, 17, -23], [7, -14, 8]]\n"
     ]
    }
   ],
   "source": [
    "import numpy as np\n",
    "\n",
    "A = [[2, 1, 3],\n",
    "     [4, 2, 1],\n",
    "     [5, 9, 1]]\n",
    "\n",
    "## 영행렬 생성 함수\n",
    "def zero_mat(n, p):\n",
    "    \"\"\"\n",
    "    영 행렬 생성\n",
    "    :param n:\n",
    "    :param p:\n",
    "    :return: n x p 영행렬 Z\n",
    "    \"\"\"\n",
    "    Z = []\n",
    "    for i in range(0, n):\n",
    "        row = []\n",
    "        for j in range(0, p):\n",
    "            row.append(0)\n",
    "        Z.append(row)\n",
    "    return Z\n",
    "\n",
    "## 행렬 깊은 복사 함수\n",
    "def deepcopy(A):\n",
    "    \"\"\"\n",
    "    깊은 복사 -> A 행렬의 스칼라 값을 그대로 복사\n",
    "    :param A:\n",
    "    :return: A의 깊은 복사가 완료된 행렬 리스트 res\n",
    "    \"\"\"\n",
    "    if (type(A[0])) == list:\n",
    "        n = len(A)\n",
    "        p = len(A[0])\n",
    "        res = zero_mat(n, p)\n",
    "\n",
    "        for i in range(0, n):\n",
    "            for j in range(0, p):\n",
    "                res[i][j] = A[i][j]\n",
    "\n",
    "        return res\n",
    "    else:\n",
    "        n = len(A)\n",
    "        res = []\n",
    "\n",
    "        for i in range(0, n):\n",
    "            res.append(A[i])\n",
    "\n",
    "        return res\n",
    "\n",
    "## 행렬식 함수\n",
    "def det_mat(A):\n",
    "    n = len(A)\n",
    "    p = len(A[0])\n",
    "    detA = 0\n",
    "\n",
    "    for j in range(0, p):\n",
    "        M = [ A[1][:j] + A[1][j + 1:], A[2][:j] + A[2][j + 1:] ]\n",
    "        Mij = M[0][0] * M[1][1] + M[0][1] * M[1][0] # aij의 행렬식\n",
    "        Cij = ( (-1) ** (0 + j) ) * Mij # aij에 대한 여인수\n",
    "\n",
    "        detA += A[0][j] * Cij # 행렬식\n",
    "\n",
    "    return detA\n",
    "\n",
    "## 행렬식 생성 함수\n",
    "def det_rec(A):\n",
    "    \"\"\"\n",
    "    행렬 A의 행렬식을 구하는 함수\n",
    "    :param A:\n",
    "    :return: 행렬 A의 행렬식 res\n",
    "    \"\"\"\n",
    "\n",
    "    n = len(A)\n",
    "    p = len(A[0])\n",
    "    res = 0\n",
    "\n",
    "    ## 2x2 행렬인 경우\n",
    "    if n == 2:\n",
    "        res = A[0][0] * A[1][1] + A[1][0] * A[0][1]\n",
    "        return res\n",
    "\n",
    "    ## nxn 행렬\n",
    "    for i in range(0, n): ## 원본 행렬 X의 모든 row를 방문\n",
    "        X = deepcopy(A) ## 깊은 복사로 입력 행렬 A를 복사\n",
    "        X = X[1:] ## 1행을 제외한 나머지 행렬\n",
    "        nx = len(X) ## 가져온 X의 row 개수\n",
    "\n",
    "        for j in range(0, nx): ## X 행렬의 모든 row를 방문\n",
    "            X[j] = X[j][0:i] + X[j][i + 1:] ## X 행렬의 j번쨰 row의 원소 중 0 ~ i이전, i + 1 ~ 마지막\n",
    "\n",
    "        sign = (-1) ** (i % 2)\n",
    "        sub_det = det_rec(X)\n",
    "        res += sign * A[0][i] * sub_det\n",
    "\n",
    "    return res\n",
    "\n",
    "## 넘파이 행렬식 함수\n",
    "def det_mat_np(A):\n",
    "    return np.linalg.det(A)\n",
    "\n",
    "## 여인수 행렬 생성 함수\n",
    "def C_mat(A):\n",
    "    n = len(A) # A행렬의 row\n",
    "    C = [] # 여인수 함수 베이스\n",
    "\n",
    "    for i in range(0, n): # A행렬의 각 row 방문\n",
    "        row_C = [] # 여인수 행렬 C의 row 생성 베이스 생성\n",
    "        idx_r = list(range(0, n)) # A행렬의 row의 idx를 요소로 하는 배열 생성\n",
    "        idx_r.remove(i) # 방문한 row 인덱스 삭제\n",
    "\n",
    "        for j in range(0, n): # j = 모든 row의 인덱스 방문\n",
    "            idx_c = list(range(0, n)) # 여인수의 인덱스를 요소로 하는 배열 생성\n",
    "            idx_c.remove(j) # 여인수의 row 중 방문한 인덱스 삭제\n",
    "\n",
    "            M = [] # 부분 행렬 생성\n",
    "\n",
    "            for k in idx_r: # 방문 한 row를 제거한 인덱스를 방문, k = 방문하지 않은 row의 A 행렬 인덱스\n",
    "                row_M = [] # 행렬식 row\n",
    "                for l in idx_c: # 여인수의 행렬식\n",
    "                    val = A[k][l]\n",
    "                    row_M.append(val)\n",
    "                M.append(row_M)\n",
    "\n",
    "            Mij = det_rec(M) ## aij에 대한 소행렬식\n",
    "            Cij = ( (-1) ** (i + j) ) * Mij # aij에 대한 여인수\n",
    "            row_C.append(Cij) # aij에 대한 여인수를 여인수 행렬에 추가\n",
    "        C.append(row_C)\n",
    "\n",
    "    ## 생성된 여인수 함수 리턴\n",
    "    return C\n",
    "\n",
    "## 여인수 행렬\n",
    "print(C_mat(A))"
   ],
   "metadata": {
    "collapsed": false,
    "pycharm": {
     "name": "#%%\n"
    }
   }
  },
  {
   "cell_type": "markdown",
   "source": [
    "#### 수반 행렬\n",
    "##### 여인수 행렬의 전치 행렬"
   ],
   "metadata": {
    "collapsed": false,
    "pycharm": {
     "name": "#%% md\n"
    }
   }
  },
  {
   "cell_type": "code",
   "execution_count": 14,
   "outputs": [
    {
     "name": "stdout",
     "output_type": "stream",
     "text": [
      "[[11, -28, 7], [-9, 17, -14], [46, -23, 8]]\n"
     ]
    }
   ],
   "source": [
    "C = C_mat(A) # A행렬의 여인수 행렬 생성 함수\n",
    "def transpose(A):\n",
    "    \"\"\"\n",
    "    전치 행렬 생성 함수\n",
    "    :param A:\n",
    "    :return:\n",
    "    \"\"\"\n",
    "\n",
    "    n = len(A)\n",
    "    p = len(A[0])\n",
    "    At = []\n",
    "\n",
    "    for row in range(0, p):\n",
    "        t_row = []\n",
    "\n",
    "        for col in range(0, n):\n",
    "            t_row.append(A[col][row])\n",
    "\n",
    "        At.append(t_row)\n",
    "\n",
    "    return At\n",
    "\n",
    "adjA = transpose(C_mat(A))\n",
    "print(adjA)"
   ],
   "metadata": {
    "collapsed": false,
    "pycharm": {
     "name": "#%%\n"
    }
   }
  },
  {
   "cell_type": "code",
   "execution_count": 15,
   "outputs": [
    {
     "name": "stdout",
     "output_type": "stream",
     "text": [
      "[[2 1 3]\n",
      " [4 2 1]\n",
      " [5 9 1]]\n",
      "-----------\n",
      "[[-0.10769231  0.4        -0.07692308]\n",
      " [ 0.01538462 -0.2         0.15384615]\n",
      " [ 0.4        -0.2         0.        ]]\n"
     ]
    }
   ],
   "source": [
    "## 넘파이\n",
    "import numpy as np\n",
    "A = np.array(A)\n",
    "invA = np.linalg.inv(A)\n",
    "print(A)\n",
    "print(\"-----------\")\n",
    "print(invA)"
   ],
   "metadata": {
    "collapsed": false,
    "pycharm": {
     "name": "#%%\n"
    }
   }
  },
  {
   "cell_type": "markdown",
   "source": [],
   "metadata": {
    "collapsed": false,
    "pycharm": {
     "name": "#%% md\n"
    }
   }
  }
 ],
 "metadata": {
  "kernelspec": {
   "display_name": "Python 3",
   "language": "python",
   "name": "python3"
  },
  "language_info": {
   "codemirror_mode": {
    "name": "ipython",
    "version": 2
   },
   "file_extension": ".py",
   "mimetype": "text/x-python",
   "name": "python",
   "nbconvert_exporter": "python",
   "pygments_lexer": "ipython2",
   "version": "2.7.6"
  }
 },
 "nbformat": 4,
 "nbformat_minor": 0
}