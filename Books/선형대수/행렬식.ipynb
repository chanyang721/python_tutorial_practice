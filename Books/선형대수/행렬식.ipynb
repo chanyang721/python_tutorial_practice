{
 "cells": [
  {
   "cell_type": "markdown",
   "source": [
    "#### 행렬식 계산 실습"
   ],
   "metadata": {
    "collapsed": false,
    "pycharm": {
     "name": "#%% md\n"
    }
   }
  },
  {
   "cell_type": "code",
   "execution_count": 20,
   "outputs": [
    {
     "name": "stdout",
     "output_type": "stream",
     "text": [
      "j : 0\n",
      "M : [[-3, -6], [3, -5]]\n",
      "Mij : 33\n",
      "Cij : 33\n",
      "detA : 66\n",
      "j : 1\n",
      "M : [[-1, -6], [2, -5]]\n",
      "Mij : 17\n",
      "Cij : 17\n",
      "detA : 100\n",
      "j : 2\n",
      "M : [[-1, -3], [2, 3]]\n",
      "Mij : 3\n",
      "Cij : 3\n",
      "detA : 106\n"
     ]
    }
   ],
   "source": [
    "A = [ [3, 2, 0], [-1, -3, -6], [2, 3, -5] ]\n",
    "\n",
    "n = len(A) ## row\n",
    "p = len(A[0]) ## col\n",
    "\n",
    "detA = 0 ## 행렬식 초기화\n",
    "for j in range(0, p):\n",
    "    ## 소행렬식 M\n",
    "    M = [ A[1][:j] + A[1][j+1:], A[2][:j] + A[2][j+1:] ]\n",
    "    print(\"j :\", j)\n",
    "    print(\"M :\", M)\n",
    "\n",
    "    ## aij에 대한 소행렬식 Mij\n",
    "    Mij = M[0][0] * M[1][1] - M[0][1] * M[1][0]\n",
    "    print(\"Mij :\", Mij)\n",
    "\n",
    "    Cij = ( (-1) ** (0 * j) ) * Mij\n",
    "    print(\"Cij :\", Cij)\n",
    "\n",
    "    detA += A[0][1] * Cij\n",
    "    print(\"detA :\", detA)\n"
   ],
   "metadata": {
    "collapsed": false,
    "pycharm": {
     "name": "#%%\n"
    }
   }
  },
  {
   "cell_type": "markdown",
   "source": [
    "#### 재귀 함수로 행렬식 계산 구현"
   ],
   "metadata": {
    "collapsed": false,
    "pycharm": {
     "name": "#%% md\n"
    }
   }
  },
  {
   "cell_type": "code",
   "execution_count": 25,
   "outputs": [
    {
     "name": "stdout",
     "output_type": "stream",
     "text": [
      "5\n"
     ]
    }
   ],
   "source": [
    "## 영행렬 생성 함수\n",
    "def zero_mat(n, p):\n",
    "    \"\"\"\n",
    "    영 행렬 생성\n",
    "    :param n:\n",
    "    :param p:\n",
    "    :return: n x p 영행렬 Z\n",
    "    \"\"\"\n",
    "    Z = []\n",
    "    for i in range(0, n):\n",
    "        row = []\n",
    "        for j in range(0, p):\n",
    "            row.append(0)\n",
    "        Z.append(row)\n",
    "    return Z\n",
    "def zero_mat_with_np(n, p):\n",
    "    return np.zeros([n, p])\n",
    "\n",
    "## 행렬 깊은 복사 함수\n",
    "def deepcopy(A):\n",
    "    \"\"\"\n",
    "    깊은 복사 -> A 행렬의 스칼라 값을 그대로 복사\n",
    "    :param A:\n",
    "    :return: A의 깊은 복사가 완료된 행렬 리스트 res\n",
    "    \"\"\"\n",
    "    if (type(A[0])) == list:\n",
    "        n = len(A)\n",
    "        p = len(A[0])\n",
    "        res = zero_mat(n, p)\n",
    "\n",
    "        for i in range(0, n):\n",
    "            for j in range(0, p):\n",
    "                res[i][j] = A[i][j]\n",
    "\n",
    "        return res\n",
    "    else:\n",
    "        n = len(A)\n",
    "        res = []\n",
    "\n",
    "        for i in range(0, n):\n",
    "            res.append(A[i])\n",
    "\n",
    "        return res\n",
    "\n",
    "def deepcopynp(A):\n",
    "    return np.copy(A)\n",
    "\n",
    "## 행렬식 생성 함수\n",
    "def det_rec(A):\n",
    "    \"\"\"\n",
    "    행렬 A의 행렬식을 구하는 함수\n",
    "    :param A:\n",
    "    :return: 행렬 A의 행렬식 res\n",
    "    \"\"\"\n",
    "\n",
    "    n = len(A)\n",
    "    p = len(A[0])\n",
    "    res = 0\n",
    "\n",
    "    ## 2x2 행렬인 경우\n",
    "    if n == 2:\n",
    "        res = A[0][0] * A[1][1] + A[1][0] * A[0][1]\n",
    "        return res\n",
    "\n",
    "    ## nxn 행렬\n",
    "    for i in range(0, n): ## 원본 행렬 X의 모든 row를 방문\n",
    "        X = deepcopy(A) ## 깊은 복사로 입력 행렬 A를 복사\n",
    "        X = X[1:] ## 1행을 제외한 나머지 행렬\n",
    "        nx = len(X) ## 가져온 X의 row 개수\n",
    "\n",
    "        for j in range(0, nx): ## X 행렬의 모든 row를 방문\n",
    "            X[j] = X[j][0:i] + X[j][i + 1:] ## X 행렬의 j번쨰 row의 원소 중 0 ~ i이전, i + 1 ~ 마지막\n",
    "\n",
    "        sign = (-1) ** (i % 2)\n",
    "        sub_det = det_rec(X)\n",
    "        res += sign * A[0][i] * sub_det\n",
    "\n",
    "    return res"
   ],
   "metadata": {
    "collapsed": false,
    "pycharm": {
     "name": "#%%\n"
    }
   }
  },
  {
   "cell_type": "code",
   "execution_count": 31,
   "outputs": [
    {
     "name": "stdout",
     "output_type": "stream",
     "text": [
      "30\n"
     ]
    }
   ],
   "source": [
    "## 삼각행렬로 변환하는 함수\n",
    "def det_tri(A):\n",
    "    \"\"\"\n",
    "    상 삼각 행렬 변환을 이용해 행렬식 구하기\n",
    "    :param A:\n",
    "    :return:\n",
    "    \"\"\"\n",
    "\n",
    "    n = len(A) ## row\n",
    "    X = deepcopy(A) ## 복사\n",
    "    n_row_change = 0\n",
    "\n",
    "    for i in range(0, n):\n",
    "        if X[i][i] == 0: ## 대각 행렬의 원소값이 0인 경우\n",
    "            ## i + 1번 row 와 i 번 row를 교환해준다\n",
    "            tmp = X[i + 1]\n",
    "            X[i + 1] = X[i]\n",
    "            n_row_change += 1\n",
    "\n",
    "        for j in range(i + 1, n):\n",
    "            ratio = A[j][i] / A[i][i] ## 해당 row의 1번 원소를 1로 만들기 위한 값\n",
    "            for k in range(0, n): ## ??\n",
    "                X[j][k] = X[j][k] - ratio * X[i][k]\n",
    "\n",
    "        n_row_change = (-1) ** (n_row_change)\n",
    "        res = 1\n",
    "        for i in range(n):\n",
    "            res *= X[i][i]\n",
    "        res *= n_row_change\n",
    "        return res\n",
    "\n",
    "print(det_tri(A))"
   ],
   "metadata": {
    "collapsed": false,
    "pycharm": {
     "name": "#%%\n"
    }
   }
  },
  {
   "cell_type": "code",
   "execution_count": 34,
   "outputs": [
    {
     "name": "stdout",
     "output_type": "stream",
     "text": [
      "5.000000000000002\n"
     ]
    }
   ],
   "source": [
    "## 넘파이 라이브러리로 구하는 행렬식\n",
    "import numpy as np\n",
    "\n",
    "A = np.array([ [3, 2, 0], [-1, -3, 6], [2, 3, -5] ])\n",
    "detA = np.linalg.det(A) ## A 행렬의 행렬식 구하는 함수\n",
    "print(detA)"
   ],
   "metadata": {
    "collapsed": false,
    "pycharm": {
     "name": "#%%\n"
    }
   }
  }
 ],
 "metadata": {
  "kernelspec": {
   "display_name": "Python 3",
   "language": "python",
   "name": "python3"
  },
  "language_info": {
   "codemirror_mode": {
    "name": "ipython",
    "version": 2
   },
   "file_extension": ".py",
   "mimetype": "text/x-python",
   "name": "python",
   "nbconvert_exporter": "python",
   "pygments_lexer": "ipython2",
   "version": "2.7.6"
  }
 },
 "nbformat": 4,
 "nbformat_minor": 0
}