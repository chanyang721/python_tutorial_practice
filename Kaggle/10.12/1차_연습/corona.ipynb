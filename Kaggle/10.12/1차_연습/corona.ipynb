{
 "cells": [
  {
   "cell_type": "markdown",
   "source": [
    "#### 2019 코로나 데이터 분석\n",
    "##### 1. 데이터 분석\n",
    "##### 2. 데이터 로드\n",
    "##### 3. 데이터 전처리\n",
    "##### 4. 데이터 정제\n",
    "#####   4-1. 목표 그래프 주제 :\n",
    "#####   4-2. 목표 그래프 주제 :\n",
    "##### 5. 그래프 생성"
   ],
   "metadata": {
    "collapsed": false,
    "pycharm": {
     "name": "#%% md\n"
    }
   }
  },
  {
   "cell_type": "code",
   "execution_count": 158,
   "outputs": [],
   "source": [
    "# 1. 데이터 분석\n",
    "## - ObservationDate 관측일\n",
    "## - Country/Region  나라\n",
    "## - Confirmed       인원\n",
    "## - Deaths          사망 인원\n",
    "## - Recovered       치료 인원"
   ],
   "metadata": {
    "collapsed": false,
    "pycharm": {
     "name": "#%%\n"
    }
   }
  },
  {
   "cell_type": "code",
   "execution_count": 159,
   "outputs": [],
   "source": [
    "## 1-1 import\n",
    "import os\n",
    "import pandas as pd\n",
    "import matplotlib.pyplot as plt\n",
    "import numpy as np"
   ],
   "metadata": {
    "collapsed": false,
    "pycharm": {
     "name": "#%%\n"
    }
   }
  },
  {
   "cell_type": "code",
   "execution_count": 160,
   "outputs": [
    {
     "data": {
      "text/plain": "   SNo ObservationDate Province/State  Country/Region      Last Update  \\\n0    1      01/22/2020          Anhui  Mainland China  1/22/2020 17:00   \n1    2      01/22/2020        Beijing  Mainland China  1/22/2020 17:00   \n2    3      01/22/2020      Chongqing  Mainland China  1/22/2020 17:00   \n3    4      01/22/2020         Fujian  Mainland China  1/22/2020 17:00   \n4    5      01/22/2020          Gansu  Mainland China  1/22/2020 17:00   \n5    6      01/22/2020      Guangdong  Mainland China  1/22/2020 17:00   \n6    7      01/22/2020        Guangxi  Mainland China  1/22/2020 17:00   \n7    8      01/22/2020        Guizhou  Mainland China  1/22/2020 17:00   \n8    9      01/22/2020         Hainan  Mainland China  1/22/2020 17:00   \n9   10      01/22/2020          Hebei  Mainland China  1/22/2020 17:00   \n\n   Confirmed  Deaths  Recovered  \n0        1.0     0.0        0.0  \n1       14.0     0.0        0.0  \n2        6.0     0.0        0.0  \n3        1.0     0.0        0.0  \n4        0.0     0.0        0.0  \n5       26.0     0.0        0.0  \n6        2.0     0.0        0.0  \n7        1.0     0.0        0.0  \n8        4.0     0.0        0.0  \n9        1.0     0.0        0.0  ",
      "text/html": "<div>\n<style scoped>\n    .dataframe tbody tr th:only-of-type {\n        vertical-align: middle;\n    }\n\n    .dataframe tbody tr th {\n        vertical-align: top;\n    }\n\n    .dataframe thead th {\n        text-align: right;\n    }\n</style>\n<table border=\"1\" class=\"dataframe\">\n  <thead>\n    <tr style=\"text-align: right;\">\n      <th></th>\n      <th>SNo</th>\n      <th>ObservationDate</th>\n      <th>Province/State</th>\n      <th>Country/Region</th>\n      <th>Last Update</th>\n      <th>Confirmed</th>\n      <th>Deaths</th>\n      <th>Recovered</th>\n    </tr>\n  </thead>\n  <tbody>\n    <tr>\n      <th>0</th>\n      <td>1</td>\n      <td>01/22/2020</td>\n      <td>Anhui</td>\n      <td>Mainland China</td>\n      <td>1/22/2020 17:00</td>\n      <td>1.0</td>\n      <td>0.0</td>\n      <td>0.0</td>\n    </tr>\n    <tr>\n      <th>1</th>\n      <td>2</td>\n      <td>01/22/2020</td>\n      <td>Beijing</td>\n      <td>Mainland China</td>\n      <td>1/22/2020 17:00</td>\n      <td>14.0</td>\n      <td>0.0</td>\n      <td>0.0</td>\n    </tr>\n    <tr>\n      <th>2</th>\n      <td>3</td>\n      <td>01/22/2020</td>\n      <td>Chongqing</td>\n      <td>Mainland China</td>\n      <td>1/22/2020 17:00</td>\n      <td>6.0</td>\n      <td>0.0</td>\n      <td>0.0</td>\n    </tr>\n    <tr>\n      <th>3</th>\n      <td>4</td>\n      <td>01/22/2020</td>\n      <td>Fujian</td>\n      <td>Mainland China</td>\n      <td>1/22/2020 17:00</td>\n      <td>1.0</td>\n      <td>0.0</td>\n      <td>0.0</td>\n    </tr>\n    <tr>\n      <th>4</th>\n      <td>5</td>\n      <td>01/22/2020</td>\n      <td>Gansu</td>\n      <td>Mainland China</td>\n      <td>1/22/2020 17:00</td>\n      <td>0.0</td>\n      <td>0.0</td>\n      <td>0.0</td>\n    </tr>\n    <tr>\n      <th>5</th>\n      <td>6</td>\n      <td>01/22/2020</td>\n      <td>Guangdong</td>\n      <td>Mainland China</td>\n      <td>1/22/2020 17:00</td>\n      <td>26.0</td>\n      <td>0.0</td>\n      <td>0.0</td>\n    </tr>\n    <tr>\n      <th>6</th>\n      <td>7</td>\n      <td>01/22/2020</td>\n      <td>Guangxi</td>\n      <td>Mainland China</td>\n      <td>1/22/2020 17:00</td>\n      <td>2.0</td>\n      <td>0.0</td>\n      <td>0.0</td>\n    </tr>\n    <tr>\n      <th>7</th>\n      <td>8</td>\n      <td>01/22/2020</td>\n      <td>Guizhou</td>\n      <td>Mainland China</td>\n      <td>1/22/2020 17:00</td>\n      <td>1.0</td>\n      <td>0.0</td>\n      <td>0.0</td>\n    </tr>\n    <tr>\n      <th>8</th>\n      <td>9</td>\n      <td>01/22/2020</td>\n      <td>Hainan</td>\n      <td>Mainland China</td>\n      <td>1/22/2020 17:00</td>\n      <td>4.0</td>\n      <td>0.0</td>\n      <td>0.0</td>\n    </tr>\n    <tr>\n      <th>9</th>\n      <td>10</td>\n      <td>01/22/2020</td>\n      <td>Hebei</td>\n      <td>Mainland China</td>\n      <td>1/22/2020 17:00</td>\n      <td>1.0</td>\n      <td>0.0</td>\n      <td>0.0</td>\n    </tr>\n  </tbody>\n</table>\n</div>"
     },
     "execution_count": 160,
     "metadata": {},
     "output_type": "execute_result"
    }
   ],
   "source": [
    "# 2. 데이터 로드\n",
    "# DATA_PATH = os.getcwd()\n",
    "DATA_PATH = './data/'\n",
    "df = pd.read_csv(DATA_PATH + 'covid_19_data.csv')\n",
    "df.head(10)"
   ],
   "metadata": {
    "collapsed": false,
    "pycharm": {
     "name": "#%%\n"
    }
   }
  },
  {
   "cell_type": "code",
   "execution_count": 161,
   "outputs": [
    {
     "name": "stdout",
     "output_type": "stream",
     "text": [
      "<class 'pandas.core.frame.DataFrame'>\n",
      "RangeIndex: 306429 entries, 0 to 306428\n",
      "Data columns (total 8 columns):\n",
      " #   Column           Non-Null Count   Dtype  \n",
      "---  ------           --------------   -----  \n",
      " 0   SNo              306429 non-null  int64  \n",
      " 1   ObservationDate  306429 non-null  object \n",
      " 2   Province/State   228329 non-null  object \n",
      " 3   Country/Region   306429 non-null  object \n",
      " 4   Last Update      306429 non-null  object \n",
      " 5   Confirmed        306429 non-null  float64\n",
      " 6   Deaths           306429 non-null  float64\n",
      " 7   Recovered        306429 non-null  float64\n",
      "dtypes: float64(3), int64(1), object(4)\n",
      "memory usage: 18.7+ MB\n"
     ]
    },
    {
     "name": "stderr",
     "output_type": "stream",
     "text": [
      "/var/folders/yf/mmrj8c9d2zbfn3w8crhhf0_r0000gn/T/ipykernel_9558/1973509035.py:8: FutureWarning: null_counts is deprecated. Use show_counts instead\n",
      "  df.info(\n"
     ]
    },
    {
     "data": {
      "text/plain": "           SNo ObservationDate     Province/State Country/Region  \\\n0            1      01/22/2020              Anhui          China   \n1            2      01/22/2020            Beijing          China   \n2            3      01/22/2020          Chongqing          China   \n3            4      01/22/2020             Fujian          China   \n4            5      01/22/2020              Gansu          China   \n...        ...             ...                ...            ...   \n306424  306425      05/29/2021  Zaporizhia Oblast        Ukraine   \n306425  306426      05/29/2021            Zeeland    Netherlands   \n306426  306427      05/29/2021           Zhejiang          China   \n306427  306428      05/29/2021    Zhytomyr Oblast        Ukraine   \n306428  306429      05/29/2021       Zuid-Holland    Netherlands   \n\n                Last Update  Confirmed  Deaths  Recovered  \n0           1/22/2020 17:00        1.0     0.0        0.0  \n1           1/22/2020 17:00       14.0     0.0        0.0  \n2           1/22/2020 17:00        6.0     0.0        0.0  \n3           1/22/2020 17:00        1.0     0.0        0.0  \n4           1/22/2020 17:00        0.0     0.0        0.0  \n...                     ...        ...     ...        ...  \n306424  2021-05-30 04:20:55   102641.0  2335.0    95289.0  \n306425  2021-05-30 04:20:55    29147.0   245.0        0.0  \n306426  2021-05-30 04:20:55     1364.0     1.0     1324.0  \n306427  2021-05-30 04:20:55    87550.0  1738.0    83790.0  \n306428  2021-05-30 04:20:55   391559.0  4252.0        0.0  \n\n[306429 rows x 8 columns]",
      "text/html": "<div>\n<style scoped>\n    .dataframe tbody tr th:only-of-type {\n        vertical-align: middle;\n    }\n\n    .dataframe tbody tr th {\n        vertical-align: top;\n    }\n\n    .dataframe thead th {\n        text-align: right;\n    }\n</style>\n<table border=\"1\" class=\"dataframe\">\n  <thead>\n    <tr style=\"text-align: right;\">\n      <th></th>\n      <th>SNo</th>\n      <th>ObservationDate</th>\n      <th>Province/State</th>\n      <th>Country/Region</th>\n      <th>Last Update</th>\n      <th>Confirmed</th>\n      <th>Deaths</th>\n      <th>Recovered</th>\n    </tr>\n  </thead>\n  <tbody>\n    <tr>\n      <th>0</th>\n      <td>1</td>\n      <td>01/22/2020</td>\n      <td>Anhui</td>\n      <td>China</td>\n      <td>1/22/2020 17:00</td>\n      <td>1.0</td>\n      <td>0.0</td>\n      <td>0.0</td>\n    </tr>\n    <tr>\n      <th>1</th>\n      <td>2</td>\n      <td>01/22/2020</td>\n      <td>Beijing</td>\n      <td>China</td>\n      <td>1/22/2020 17:00</td>\n      <td>14.0</td>\n      <td>0.0</td>\n      <td>0.0</td>\n    </tr>\n    <tr>\n      <th>2</th>\n      <td>3</td>\n      <td>01/22/2020</td>\n      <td>Chongqing</td>\n      <td>China</td>\n      <td>1/22/2020 17:00</td>\n      <td>6.0</td>\n      <td>0.0</td>\n      <td>0.0</td>\n    </tr>\n    <tr>\n      <th>3</th>\n      <td>4</td>\n      <td>01/22/2020</td>\n      <td>Fujian</td>\n      <td>China</td>\n      <td>1/22/2020 17:00</td>\n      <td>1.0</td>\n      <td>0.0</td>\n      <td>0.0</td>\n    </tr>\n    <tr>\n      <th>4</th>\n      <td>5</td>\n      <td>01/22/2020</td>\n      <td>Gansu</td>\n      <td>China</td>\n      <td>1/22/2020 17:00</td>\n      <td>0.0</td>\n      <td>0.0</td>\n      <td>0.0</td>\n    </tr>\n    <tr>\n      <th>...</th>\n      <td>...</td>\n      <td>...</td>\n      <td>...</td>\n      <td>...</td>\n      <td>...</td>\n      <td>...</td>\n      <td>...</td>\n      <td>...</td>\n    </tr>\n    <tr>\n      <th>306424</th>\n      <td>306425</td>\n      <td>05/29/2021</td>\n      <td>Zaporizhia Oblast</td>\n      <td>Ukraine</td>\n      <td>2021-05-30 04:20:55</td>\n      <td>102641.0</td>\n      <td>2335.0</td>\n      <td>95289.0</td>\n    </tr>\n    <tr>\n      <th>306425</th>\n      <td>306426</td>\n      <td>05/29/2021</td>\n      <td>Zeeland</td>\n      <td>Netherlands</td>\n      <td>2021-05-30 04:20:55</td>\n      <td>29147.0</td>\n      <td>245.0</td>\n      <td>0.0</td>\n    </tr>\n    <tr>\n      <th>306426</th>\n      <td>306427</td>\n      <td>05/29/2021</td>\n      <td>Zhejiang</td>\n      <td>China</td>\n      <td>2021-05-30 04:20:55</td>\n      <td>1364.0</td>\n      <td>1.0</td>\n      <td>1324.0</td>\n    </tr>\n    <tr>\n      <th>306427</th>\n      <td>306428</td>\n      <td>05/29/2021</td>\n      <td>Zhytomyr Oblast</td>\n      <td>Ukraine</td>\n      <td>2021-05-30 04:20:55</td>\n      <td>87550.0</td>\n      <td>1738.0</td>\n      <td>83790.0</td>\n    </tr>\n    <tr>\n      <th>306428</th>\n      <td>306429</td>\n      <td>05/29/2021</td>\n      <td>Zuid-Holland</td>\n      <td>Netherlands</td>\n      <td>2021-05-30 04:20:55</td>\n      <td>391559.0</td>\n      <td>4252.0</td>\n      <td>0.0</td>\n    </tr>\n  </tbody>\n</table>\n<p>306429 rows × 8 columns</p>\n</div>"
     },
     "execution_count": 161,
     "metadata": {},
     "output_type": "execute_result"
    }
   ],
   "source": [
    "# 3. 데이터 전처리\n",
    "import missingno as msno\n",
    "\n",
    "## 3-1. null 값 처리\n",
    "## 3-2. column 데이터 일괄 변환\n",
    "\n",
    "### 데이터 정보 보기\n",
    "df.info(\n",
    "    verbose = True, ## 자세히 보기 default = True\n",
    "    memory_usage = True, ## 메모리 사용량 default = True\n",
    "    null_counts = True ## default = True\n",
    ")\n",
    "\n",
    "## 3-1. null 값 처리\n",
    "df['Province/State'] = df['Province/State'].fillna('') ## null 값을 ''로 변환\n",
    "## null 값은 나라의 수도를 초기값으로 하는 방법 ?\n",
    "\n",
    "## 3-2. column 데이터 일괄 변환\n",
    "df['Country/Region'] = df['Country/Region'].replace('Mainland China', 'China')\n",
    "df['Country/Region'] = df['Country/Region'].replace('US', 'United States')\n",
    "df"
   ],
   "metadata": {
    "collapsed": false,
    "pycharm": {
     "name": "#%%\n"
    }
   }
  },
  {
   "cell_type": "code",
   "execution_count": 235,
   "outputs": [
    {
     "name": "stderr",
     "output_type": "stream",
     "text": [
      "/var/folders/yf/mmrj8c9d2zbfn3w8crhhf0_r0000gn/T/ipykernel_9558/1939519760.py:12: FutureWarning: Indexing with multiple keys (implicitly converted to a tuple of keys) will be deprecated, use a list instead.\n",
      "  data = data_set.groupby(\n"
     ]
    }
   ],
   "source": [
    "# 4. 데이터 정제\n",
    "## 4-1. 목표 그래프 주제: 나라별 발생 년도에 따른 총 코로나 발생 수와 코로나 사망자 비율\n",
    "\n",
    "### df 복사\n",
    "data = df.copy()\n",
    "\n",
    "### 관측 년도 컬럼 생성\n",
    "data['ObservationYear'] = data['ObservationDate'].map(lambda x: x.split('/')[2])\n",
    "\n",
    "### 관련 데이터 정제\n",
    "data_set = data[['ObservationYear', 'Confirmed', 'Country/Region', 'Deaths']]\n",
    "data = data_set.groupby(\n",
    "        ['Country/Region', 'ObservationYear'],\n",
    "        as_index = False\n",
    "    )['Confirmed', 'Deaths'].agg('sum')\n",
    "\n",
    "data = data[\n",
    "    (data['Country/Region'] == 'South Korea') |\n",
    "    (data['Country/Region'] == 'United States') |\n",
    "    (data['Country/Region'] == 'China') |\n",
    "    (data['Country/Region'] == 'Canada') |\n",
    "    # (data['Country/Region'] == 'Australia')\n",
    "    # (data['Country/Region'] == 'Macau')\n",
    "    (data['Country/Region'] == 'France')\n",
    "]\n",
    "# k_data = data[(data['Country/Region'] == 'South Korea')]\n",
    "# us_data = data[(data['Country/Region'] == 'United States')]\n",
    "# c_data = data[(data['Country/Region'] == 'China')]\n",
    "# cd_data = data[(data['Country/Region'] == 'Canada')]\n",
    "# au_data = data[(data['Country/Region'] == 'Australia')]\n",
    "\n",
    "## South Korea, United States, China, Canada, Australia만 그래프 그림"
   ],
   "metadata": {
    "collapsed": false,
    "pycharm": {
     "name": "#%%\n"
    }
   }
  },
  {
   "cell_type": "code",
   "execution_count": 236,
   "outputs": [],
   "source": [
    "# # 5. 그래프 생성\n",
    "# fig, ax = plt.subplots()\n",
    "#\n",
    "# # x축\n",
    "# x_labels = np.arange(len(list(data[data['Country/Region'].unique()])))\n",
    "# x_2020 = ax.bar(0.2, list(data[(data.ObservationYear == '2020')]), 0.1, label='2020')\n",
    "# # x_2021 = ax.bar(0.2, list(data[(data.ObservationYear == '2021')]), 0.1, label='2021')\n",
    "#\n",
    "# plt.show()\n",
    "#\n",
    "# label_2020 = data[(data.ObservationYear == '2020')]['Country/Region']\n",
    "# print(len(label_2020))\n",
    "# corona_2020 = list(data[(data.ObservationYear == '2020')]['Confirmed'])\n",
    "# print(len(corona_2020))\n",
    "#\n",
    "# lebel_2021 = data[(data.ObservationYear == '2021')]['Country/Region'].unique()\n",
    "# print(len(lebel_2021))\n",
    "# corona_2021 = list(data[(data.ObservationYear == '2021')]['Confirmed'])\n",
    "# print(len(corona_2021))\n",
    "#\n",
    "# width = 0.35\n",
    "#\n",
    "# ax.bar(label_2020, corona_2020, width, label='2020')\n",
    "# ax.bar(lebel_2021, corona_2021, width, bottom=corona_2020, label='2021')\n",
    "#\n",
    "# ax.set_ylabel('Scores')\n",
    "# ax.set_title('Scores by Corona')\n",
    "# ax.legend()\n",
    "# #\n",
    "# plt.show()"
   ],
   "metadata": {
    "collapsed": false,
    "pycharm": {
     "name": "#%%\n"
    }
   }
  },
  {
   "cell_type": "code",
   "execution_count": 242,
   "outputs": [
    {
     "name": "stdout",
     "output_type": "stream",
     "text": [
      "<BarContainer object of 5 artists>\n"
     ]
    },
    {
     "ename": "TypeError",
     "evalue": "unsupported operand type(s) for +: 'Rectangle' and 'float'",
     "output_type": "error",
     "traceback": [
      "\u001B[0;31m---------------------------------------------------------------------------\u001B[0m",
      "\u001B[0;31mTypeError\u001B[0m                                 Traceback (most recent call last)",
      "Input \u001B[0;32mIn [242]\u001B[0m, in \u001B[0;36m<cell line: 10>\u001B[0;34m()\u001B[0m\n\u001B[1;32m      8\u001B[0m x_2020 \u001B[38;5;241m=\u001B[39m ax\u001B[38;5;241m.\u001B[39mbar(x_labels, x_2020_data, width, label\u001B[38;5;241m=\u001B[39m\u001B[38;5;124m'\u001B[39m\u001B[38;5;124m2020\u001B[39m\u001B[38;5;124m'\u001B[39m)\n\u001B[1;32m      9\u001B[0m \u001B[38;5;28mprint\u001B[39m(x_2020)\n\u001B[0;32m---> 10\u001B[0m x_2021 \u001B[38;5;241m=\u001B[39m \u001B[43max\u001B[49m\u001B[38;5;241;43m.\u001B[39;49m\u001B[43mbar\u001B[49m\u001B[43m(\u001B[49m\u001B[43mx_labels\u001B[49m\u001B[43m,\u001B[49m\u001B[43m \u001B[49m\u001B[43mx_2021_data\u001B[49m\u001B[43m,\u001B[49m\u001B[43m \u001B[49m\u001B[43mwidth\u001B[49m\u001B[43m,\u001B[49m\u001B[43m \u001B[49m\u001B[43mbottom\u001B[49m\u001B[38;5;241;43m=\u001B[39;49m\u001B[43mx_2020\u001B[49m\u001B[43m,\u001B[49m\u001B[43m \u001B[49m\u001B[43mlabel\u001B[49m\u001B[38;5;241;43m=\u001B[39;49m\u001B[38;5;124;43m'\u001B[39;49m\u001B[38;5;124;43m2021\u001B[39;49m\u001B[38;5;124;43m'\u001B[39;49m\u001B[43m)\u001B[49m\n\u001B[1;32m     12\u001B[0m ax\u001B[38;5;241m.\u001B[39mset_ylabel(\u001B[38;5;124m'\u001B[39m\u001B[38;5;124mScores\u001B[39m\u001B[38;5;124m'\u001B[39m)\n\u001B[1;32m     13\u001B[0m ax\u001B[38;5;241m.\u001B[39mset_title(\u001B[38;5;124m'\u001B[39m\u001B[38;5;124mScores by Corona\u001B[39m\u001B[38;5;124m'\u001B[39m)\n",
      "File \u001B[0;32m~/opt/anaconda3/lib/python3.9/site-packages/matplotlib/__init__.py:1412\u001B[0m, in \u001B[0;36m_preprocess_data.<locals>.inner\u001B[0;34m(ax, data, *args, **kwargs)\u001B[0m\n\u001B[1;32m   1409\u001B[0m \u001B[38;5;129m@functools\u001B[39m\u001B[38;5;241m.\u001B[39mwraps(func)\n\u001B[1;32m   1410\u001B[0m \u001B[38;5;28;01mdef\u001B[39;00m \u001B[38;5;21minner\u001B[39m(ax, \u001B[38;5;241m*\u001B[39margs, data\u001B[38;5;241m=\u001B[39m\u001B[38;5;28;01mNone\u001B[39;00m, \u001B[38;5;241m*\u001B[39m\u001B[38;5;241m*\u001B[39mkwargs):\n\u001B[1;32m   1411\u001B[0m     \u001B[38;5;28;01mif\u001B[39;00m data \u001B[38;5;129;01mis\u001B[39;00m \u001B[38;5;28;01mNone\u001B[39;00m:\n\u001B[0;32m-> 1412\u001B[0m         \u001B[38;5;28;01mreturn\u001B[39;00m \u001B[43mfunc\u001B[49m\u001B[43m(\u001B[49m\u001B[43max\u001B[49m\u001B[43m,\u001B[49m\u001B[43m \u001B[49m\u001B[38;5;241;43m*\u001B[39;49m\u001B[38;5;28;43mmap\u001B[39;49m\u001B[43m(\u001B[49m\u001B[43msanitize_sequence\u001B[49m\u001B[43m,\u001B[49m\u001B[43m \u001B[49m\u001B[43margs\u001B[49m\u001B[43m)\u001B[49m\u001B[43m,\u001B[49m\u001B[43m \u001B[49m\u001B[38;5;241;43m*\u001B[39;49m\u001B[38;5;241;43m*\u001B[39;49m\u001B[43mkwargs\u001B[49m\u001B[43m)\u001B[49m\n\u001B[1;32m   1414\u001B[0m     bound \u001B[38;5;241m=\u001B[39m new_sig\u001B[38;5;241m.\u001B[39mbind(ax, \u001B[38;5;241m*\u001B[39margs, \u001B[38;5;241m*\u001B[39m\u001B[38;5;241m*\u001B[39mkwargs)\n\u001B[1;32m   1415\u001B[0m     auto_label \u001B[38;5;241m=\u001B[39m (bound\u001B[38;5;241m.\u001B[39marguments\u001B[38;5;241m.\u001B[39mget(label_namer)\n\u001B[1;32m   1416\u001B[0m                   \u001B[38;5;129;01mor\u001B[39;00m bound\u001B[38;5;241m.\u001B[39mkwargs\u001B[38;5;241m.\u001B[39mget(label_namer))\n",
      "File \u001B[0;32m~/opt/anaconda3/lib/python3.9/site-packages/matplotlib/axes/_axes.py:2395\u001B[0m, in \u001B[0;36mAxes.bar\u001B[0;34m(self, x, height, width, bottom, align, **kwargs)\u001B[0m\n\u001B[1;32m   2392\u001B[0m args \u001B[38;5;241m=\u001B[39m \u001B[38;5;28mzip\u001B[39m(left, bottom, width, height, color, edgecolor, linewidth,\n\u001B[1;32m   2393\u001B[0m            hatch)\n\u001B[1;32m   2394\u001B[0m \u001B[38;5;28;01mfor\u001B[39;00m l, b, w, h, c, e, lw, htch \u001B[38;5;129;01min\u001B[39;00m args:\n\u001B[0;32m-> 2395\u001B[0m     r \u001B[38;5;241m=\u001B[39m \u001B[43mmpatches\u001B[49m\u001B[38;5;241;43m.\u001B[39;49m\u001B[43mRectangle\u001B[49m\u001B[43m(\u001B[49m\n\u001B[1;32m   2396\u001B[0m \u001B[43m        \u001B[49m\u001B[43mxy\u001B[49m\u001B[38;5;241;43m=\u001B[39;49m\u001B[43m(\u001B[49m\u001B[43ml\u001B[49m\u001B[43m,\u001B[49m\u001B[43m \u001B[49m\u001B[43mb\u001B[49m\u001B[43m)\u001B[49m\u001B[43m,\u001B[49m\u001B[43m \u001B[49m\u001B[43mwidth\u001B[49m\u001B[38;5;241;43m=\u001B[39;49m\u001B[43mw\u001B[49m\u001B[43m,\u001B[49m\u001B[43m \u001B[49m\u001B[43mheight\u001B[49m\u001B[38;5;241;43m=\u001B[39;49m\u001B[43mh\u001B[49m\u001B[43m,\u001B[49m\n\u001B[1;32m   2397\u001B[0m \u001B[43m        \u001B[49m\u001B[43mfacecolor\u001B[49m\u001B[38;5;241;43m=\u001B[39;49m\u001B[43mc\u001B[49m\u001B[43m,\u001B[49m\n\u001B[1;32m   2398\u001B[0m \u001B[43m        \u001B[49m\u001B[43medgecolor\u001B[49m\u001B[38;5;241;43m=\u001B[39;49m\u001B[43me\u001B[49m\u001B[43m,\u001B[49m\n\u001B[1;32m   2399\u001B[0m \u001B[43m        \u001B[49m\u001B[43mlinewidth\u001B[49m\u001B[38;5;241;43m=\u001B[39;49m\u001B[43mlw\u001B[49m\u001B[43m,\u001B[49m\n\u001B[1;32m   2400\u001B[0m \u001B[43m        \u001B[49m\u001B[43mlabel\u001B[49m\u001B[38;5;241;43m=\u001B[39;49m\u001B[38;5;124;43m'\u001B[39;49m\u001B[38;5;124;43m_nolegend_\u001B[39;49m\u001B[38;5;124;43m'\u001B[39;49m\u001B[43m,\u001B[49m\n\u001B[1;32m   2401\u001B[0m \u001B[43m        \u001B[49m\u001B[43mhatch\u001B[49m\u001B[38;5;241;43m=\u001B[39;49m\u001B[43mhtch\u001B[49m\u001B[43m,\u001B[49m\n\u001B[1;32m   2402\u001B[0m \u001B[43m        \u001B[49m\u001B[43m)\u001B[49m\n\u001B[1;32m   2403\u001B[0m     r\u001B[38;5;241m.\u001B[39mupdate(kwargs)\n\u001B[1;32m   2404\u001B[0m     r\u001B[38;5;241m.\u001B[39mget_path()\u001B[38;5;241m.\u001B[39m_interpolation_steps \u001B[38;5;241m=\u001B[39m \u001B[38;5;241m100\u001B[39m\n",
      "File \u001B[0;32m~/opt/anaconda3/lib/python3.9/site-packages/matplotlib/patches.py:733\u001B[0m, in \u001B[0;36mRectangle.__init__\u001B[0;34m(self, xy, width, height, angle, **kwargs)\u001B[0m\n\u001B[1;32m    731\u001B[0m \u001B[38;5;28mself\u001B[39m\u001B[38;5;241m.\u001B[39m_height \u001B[38;5;241m=\u001B[39m height\n\u001B[1;32m    732\u001B[0m \u001B[38;5;28mself\u001B[39m\u001B[38;5;241m.\u001B[39mangle \u001B[38;5;241m=\u001B[39m \u001B[38;5;28mfloat\u001B[39m(angle)\n\u001B[0;32m--> 733\u001B[0m \u001B[38;5;28;43mself\u001B[39;49m\u001B[38;5;241;43m.\u001B[39;49m\u001B[43m_convert_units\u001B[49m\u001B[43m(\u001B[49m\u001B[43m)\u001B[49m\n",
      "File \u001B[0;32m~/opt/anaconda3/lib/python3.9/site-packages/matplotlib/patches.py:744\u001B[0m, in \u001B[0;36mRectangle._convert_units\u001B[0;34m(self)\u001B[0m\n\u001B[1;32m    742\u001B[0m y0 \u001B[38;5;241m=\u001B[39m \u001B[38;5;28mself\u001B[39m\u001B[38;5;241m.\u001B[39mconvert_yunits(\u001B[38;5;28mself\u001B[39m\u001B[38;5;241m.\u001B[39m_y0)\n\u001B[1;32m    743\u001B[0m x1 \u001B[38;5;241m=\u001B[39m \u001B[38;5;28mself\u001B[39m\u001B[38;5;241m.\u001B[39mconvert_xunits(\u001B[38;5;28mself\u001B[39m\u001B[38;5;241m.\u001B[39m_x0 \u001B[38;5;241m+\u001B[39m \u001B[38;5;28mself\u001B[39m\u001B[38;5;241m.\u001B[39m_width)\n\u001B[0;32m--> 744\u001B[0m y1 \u001B[38;5;241m=\u001B[39m \u001B[38;5;28mself\u001B[39m\u001B[38;5;241m.\u001B[39mconvert_yunits(\u001B[38;5;28;43mself\u001B[39;49m\u001B[38;5;241;43m.\u001B[39;49m\u001B[43m_y0\u001B[49m\u001B[43m \u001B[49m\u001B[38;5;241;43m+\u001B[39;49m\u001B[43m \u001B[49m\u001B[38;5;28;43mself\u001B[39;49m\u001B[38;5;241;43m.\u001B[39;49m\u001B[43m_height\u001B[49m)\n\u001B[1;32m    745\u001B[0m \u001B[38;5;28;01mreturn\u001B[39;00m x0, y0, x1, y1\n",
      "\u001B[0;31mTypeError\u001B[0m: unsupported operand type(s) for +: 'Rectangle' and 'float'"
     ]
    },
    {
     "data": {
      "text/plain": "<Figure size 432x288 with 1 Axes>",
      "image/png": "[encoded data removed]"
     },
     "metadata": {
      "needs_background": "light"
     },
     "output_type": "display_data"
    }
   ],
   "source": [
    "fig, ax = plt.subplots()\n",
    "\n",
    "width = 0.35\n",
    "x_labels = [ 'South Korea', 'United States', 'China', 'Canada', 'France' ]\n",
    "x_2020_data = list(data[(data.ObservationYear == '2020')]['Deaths'])\n",
    "x_2021_data = list(data[(data.ObservationYear == '2021')]['Deaths'])\n",
    "\n",
    "x_2020 = ax.bar(x_labels, x_2020_data, width, label='2020')\n",
    "x_2021 = ax.bar(x_labels, x_2021_data, width, bottom=x_2020, label='2021')\n",
    "ax.set_ylabel('Scores')\n",
    "ax.set_title('Scores by Corona')\n",
    "ax.legend()\n",
    "\n",
    "#\n",
    "plt.show()"
   ],
   "metadata": {
    "collapsed": false,
    "pycharm": {
     "name": "#%%\n"
    }
   }
  },
  {
   "cell_type": "code",
   "execution_count": null,
   "outputs": [],
   "source": [],
   "metadata": {
    "collapsed": false,
    "pycharm": {
     "name": "#%%\n"
    }
   }
  }
 ],
 "metadata": {
  "kernelspec": {
   "display_name": "Python 3",
   "language": "python",
   "name": "python3"
  },
  "language_info": {
   "codemirror_mode": {
    "name": "ipython",
    "version": 2
   },
   "file_extension": ".py",
   "mimetype": "text/x-python",
   "name": "python",
   "nbconvert_exporter": "python",
   "pygments_lexer": "ipython2",
   "version": "2.7.6"
  }
 },
 "nbformat": 4,
 "nbformat_minor": 0
}