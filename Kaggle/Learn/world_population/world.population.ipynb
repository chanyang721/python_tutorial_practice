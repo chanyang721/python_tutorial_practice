{
 "cells": [
  {
   "cell_type": "markdown",
   "source": [
    "## World Population"
   ],
   "metadata": {
    "collapsed": false,
    "pycharm": {
     "name": "#%% md\n"
    }
   }
  },
  {
   "cell_type": "markdown",
   "source": [
    "### import"
   ],
   "metadata": {
    "collapsed": false,
    "pycharm": {
     "name": "#%% md\n"
    }
   }
  },
  {
   "cell_type": "code",
   "execution_count": 2,
   "outputs": [
    {
     "data": {
      "text/html": "        <script type=\"text/javascript\">\n        window.PlotlyConfig = {MathJaxConfig: 'local'};\n        if (window.MathJax) {MathJax.Hub.Config({SVG: {font: \"STIX-Web\"}});}\n        if (typeof require !== 'undefined') {\n        require.undef(\"plotly\");\n        requirejs.config({\n            paths: {\n                'plotly': ['https://cdn.plot.ly/plotly-2.9.0.min']\n            }\n        });\n        require(['plotly'], function(Plotly) {\n            window._Plotly = Plotly;\n        });\n        }\n        </script>\n        "
     },
     "metadata": {},
     "output_type": "display_data"
    }
   ],
   "source": [
    "import numpy as np\n",
    "import pandas as pd\n",
    "import seaborn as sns\n",
    "from plotly.subplots import make_subplots\n",
    "import matplotlib.pyplot as plt\n",
    "import plotly.express as px\n",
    "import missingno as msno\n",
    "import plotly.offline as py\n",
    "py.init_notebook_mode(connected=True)\n",
    "\n",
    "import warnings\n",
    "warnings.filterwarnings('ignore')"
   ],
   "metadata": {
    "collapsed": false,
    "pycharm": {
     "name": "#%%\n"
    }
   }
  },
  {
   "cell_type": "markdown",
   "source": [
    "### Load Data"
   ],
   "metadata": {
    "collapsed": false,
    "pycharm": {
     "name": "#%% md\n"
    }
   }
  },
  {
   "cell_type": "code",
   "execution_count": 3,
   "outputs": [
    {
     "data": {
      "text/plain": "   Rank CCA3         Country           Capital Continent  2022 Population  \\\n0    36  AFG     Afghanistan             Kabul      Asia         41128771   \n1   138  ALB         Albania            Tirana    Europe          2842321   \n2    34  DZA         Algeria           Algiers    Africa         44903225   \n3   213  ASM  American Samoa         Pago Pago   Oceania            44273   \n4   203  AND         Andorra  Andorra la Vella    Europe            79824   \n\n   2020 Population  2015 Population  2010 Population  2000 Population  \\\n0         38972230         33753499         28189672         19542982   \n1          2866849          2882481          2913399          3182021   \n2         43451666         39543154         35856344         30774621   \n3            46189            51368            54849            58230   \n4            77700            71746            71519            66097   \n\n   1990 Population  1980 Population  1970 Population  Area (km²)  \\\n0         10694796         12486631         10752971      652230   \n1          3295066          2941651          2324731       28748   \n2         25518074         18739378         13795915     2381741   \n3            47818            32886            27075         199   \n4            53569            35611            19860         468   \n\n   Density (per km²)  Growth Rate  World Population Percentage  \n0            63.0587       1.0257                         0.52  \n1            98.8702       0.9957                         0.04  \n2            18.8531       1.0164                         0.56  \n3           222.4774       0.9831                         0.00  \n4           170.5641       1.0100                         0.00  ",
      "text/html": "<div>\n<style scoped>\n    .dataframe tbody tr th:only-of-type {\n        vertical-align: middle;\n    }\n\n    .dataframe tbody tr th {\n        vertical-align: top;\n    }\n\n    .dataframe thead th {\n        text-align: right;\n    }\n</style>\n<table border=\"1\" class=\"dataframe\">\n  <thead>\n    <tr style=\"text-align: right;\">\n      <th></th>\n      <th>Rank</th>\n      <th>CCA3</th>\n      <th>Country</th>\n      <th>Capital</th>\n      <th>Continent</th>\n      <th>2022 Population</th>\n      <th>2020 Population</th>\n      <th>2015 Population</th>\n      <th>2010 Population</th>\n      <th>2000 Population</th>\n      <th>1990 Population</th>\n      <th>1980 Population</th>\n      <th>1970 Population</th>\n      <th>Area (km²)</th>\n      <th>Density (per km²)</th>\n      <th>Growth Rate</th>\n      <th>World Population Percentage</th>\n    </tr>\n  </thead>\n  <tbody>\n    <tr>\n      <th>0</th>\n      <td>36</td>\n      <td>AFG</td>\n      <td>Afghanistan</td>\n      <td>Kabul</td>\n      <td>Asia</td>\n      <td>41128771</td>\n      <td>38972230</td>\n      <td>33753499</td>\n      <td>28189672</td>\n      <td>19542982</td>\n      <td>10694796</td>\n      <td>12486631</td>\n      <td>10752971</td>\n      <td>652230</td>\n      <td>63.0587</td>\n      <td>1.0257</td>\n      <td>0.52</td>\n    </tr>\n    <tr>\n      <th>1</th>\n      <td>138</td>\n      <td>ALB</td>\n      <td>Albania</td>\n      <td>Tirana</td>\n      <td>Europe</td>\n      <td>2842321</td>\n      <td>2866849</td>\n      <td>2882481</td>\n      <td>2913399</td>\n      <td>3182021</td>\n      <td>3295066</td>\n      <td>2941651</td>\n      <td>2324731</td>\n      <td>28748</td>\n      <td>98.8702</td>\n      <td>0.9957</td>\n      <td>0.04</td>\n    </tr>\n    <tr>\n      <th>2</th>\n      <td>34</td>\n      <td>DZA</td>\n      <td>Algeria</td>\n      <td>Algiers</td>\n      <td>Africa</td>\n      <td>44903225</td>\n      <td>43451666</td>\n      <td>39543154</td>\n      <td>35856344</td>\n      <td>30774621</td>\n      <td>25518074</td>\n      <td>18739378</td>\n      <td>13795915</td>\n      <td>2381741</td>\n      <td>18.8531</td>\n      <td>1.0164</td>\n      <td>0.56</td>\n    </tr>\n    <tr>\n      <th>3</th>\n      <td>213</td>\n      <td>ASM</td>\n      <td>American Samoa</td>\n      <td>Pago Pago</td>\n      <td>Oceania</td>\n      <td>44273</td>\n      <td>46189</td>\n      <td>51368</td>\n      <td>54849</td>\n      <td>58230</td>\n      <td>47818</td>\n      <td>32886</td>\n      <td>27075</td>\n      <td>199</td>\n      <td>222.4774</td>\n      <td>0.9831</td>\n      <td>0.00</td>\n    </tr>\n    <tr>\n      <th>4</th>\n      <td>203</td>\n      <td>AND</td>\n      <td>Andorra</td>\n      <td>Andorra la Vella</td>\n      <td>Europe</td>\n      <td>79824</td>\n      <td>77700</td>\n      <td>71746</td>\n      <td>71519</td>\n      <td>66097</td>\n      <td>53569</td>\n      <td>35611</td>\n      <td>19860</td>\n      <td>468</td>\n      <td>170.5641</td>\n      <td>1.0100</td>\n      <td>0.00</td>\n    </tr>\n  </tbody>\n</table>\n</div>"
     },
     "execution_count": 3,
     "metadata": {},
     "output_type": "execute_result"
    }
   ],
   "source": [
    "data = pd.read_csv('world_population.csv')\n",
    "data.head()"
   ],
   "metadata": {
    "collapsed": false,
    "pycharm": {
     "name": "#%%\n"
    }
   }
  },
  {
   "cell_type": "code",
   "execution_count": 4,
   "outputs": [
    {
     "data": {
      "text/plain": "(234, 17)"
     },
     "execution_count": 4,
     "metadata": {},
     "output_type": "execute_result"
    }
   ],
   "source": [
    "data.shape"
   ],
   "metadata": {
    "collapsed": false,
    "pycharm": {
     "name": "#%%\n"
    }
   }
  },
  {
   "cell_type": "code",
   "execution_count": 12,
   "outputs": [
    {
     "data": {
      "text/plain": "<pandas.io.formats.style.Styler at 0x7fbc29030a90>",
      "text/html": "<style type=\"text/css\">\n#T_39c99_row0_col0, #T_39c99_row1_col0, #T_39c99_row2_col0, #T_39c99_row3_col0, #T_39c99_row4_col0, #T_39c99_row5_col0, #T_39c99_row6_col0, #T_39c99_row7_col0, #T_39c99_row8_col0, #T_39c99_row9_col0, #T_39c99_row9_col4, #T_39c99_row9_col5, #T_39c99_row9_col6, #T_39c99_row10_col0, #T_39c99_row10_col4, #T_39c99_row10_col5, #T_39c99_row10_col6, #T_39c99_row11_col0, #T_39c99_row11_col4, #T_39c99_row11_col5, #T_39c99_row11_col6, #T_39c99_row12_col0, #T_39c99_row12_col4, #T_39c99_row12_col5, #T_39c99_row12_col6 {\n  background-color: #f7fcfd;\n  color: #000000;\n}\n#T_39c99_row0_col1 {\n  background-color: #00441b;\n  color: #f1f1f1;\n  width: 10em;\n  background: linear-gradient(90deg, blue 100.0%, transparent 100.0%);\n}\n#T_39c99_row0_col2 {\n  background-color: #00441b;\n  color: #f1f1f1;\n  width: 10em;\n  background: linear-gradient(90deg, red 100.0%, transparent 100.0%);\n}\n#T_39c99_row0_col3 {\n  background-color: #349f61;\n  color: #f1f1f1;\n  width: 10em;\n  background: linear-gradient(90deg, purple 67.8%, transparent 67.8%);\n}\n#T_39c99_row0_col4, #T_39c99_row0_col5, #T_39c99_row0_col6 {\n  background-color: #00441b;\n  color: #f1f1f1;\n}\n#T_39c99_row0_col7, #T_39c99_row7_col3 {\n  background-color: #00441b;\n  color: #f1f1f1;\n  width: 10em;\n  background: linear-gradient(90deg, purple 100.0%, transparent 100.0%);\n}\n#T_39c99_row1_col1 {\n  background-color: #00491d;\n  color: #f1f1f1;\n  width: 10em;\n  background: linear-gradient(90deg, blue 98.3%, transparent 98.3%);\n}\n#T_39c99_row1_col2 {\n  background-color: #00471c;\n  color: #f1f1f1;\n  width: 10em;\n  background: linear-gradient(90deg, red 99.1%, transparent 99.1%);\n}\n#T_39c99_row1_col3 {\n  background-color: #309b5b;\n  color: #f1f1f1;\n  width: 10em;\n  background: linear-gradient(90deg, purple 69.1%, transparent 69.1%);\n}\n#T_39c99_row1_col4 {\n  background-color: #00471c;\n  color: #f1f1f1;\n}\n#T_39c99_row1_col5 {\n  background-color: #00481d;\n  color: #f1f1f1;\n}\n#T_39c99_row1_col6, #T_39c99_row2_col5 {\n  background-color: #005221;\n  color: #f1f1f1;\n}\n#T_39c99_row1_col7 {\n  background-color: #00441b;\n  color: #f1f1f1;\n  width: 10em;\n  background: linear-gradient(90deg, purple 99.9%, transparent 99.9%);\n}\n#T_39c99_row2_col1 {\n  background-color: #005a24;\n  color: #f1f1f1;\n  width: 10em;\n  background: linear-gradient(90deg, blue 93.1%, transparent 93.1%);\n}\n#T_39c99_row2_col2 {\n  background-color: #005221;\n  color: #f1f1f1;\n  width: 10em;\n  background: linear-gradient(90deg, red 95.3%, transparent 95.3%);\n}\n#T_39c99_row2_col3 {\n  background-color: #228a44;\n  color: #f1f1f1;\n  width: 10em;\n  background: linear-gradient(90deg, purple 75.0%, transparent 75.0%);\n}\n#T_39c99_row2_col4 {\n  background-color: #005020;\n  color: #f1f1f1;\n}\n#T_39c99_row2_col6 {\n  background-color: #006c2c;\n  color: #f1f1f1;\n}\n#T_39c99_row2_col7 {\n  background-color: #004a1e;\n  color: #f1f1f1;\n  width: 10em;\n  background: linear-gradient(90deg, purple 97.7%, transparent 97.7%);\n}\n#T_39c99_row3_col1 {\n  background-color: #006c2c;\n  color: #f1f1f1;\n  width: 10em;\n  background: linear-gradient(90deg, blue 87.6%, transparent 87.6%);\n}\n#T_39c99_row3_col2 {\n  background-color: #006227;\n  color: #f1f1f1;\n  width: 10em;\n  background: linear-gradient(90deg, red 90.8%, transparent 90.8%);\n}\n#T_39c99_row3_col3 {\n  background-color: #17813d;\n  color: #f1f1f1;\n  width: 10em;\n  background: linear-gradient(90deg, purple 79.3%, transparent 79.3%);\n}\n#T_39c99_row3_col4 {\n  background-color: #005924;\n  color: #f1f1f1;\n}\n#T_39c99_row3_col5 {\n  background-color: #00682a;\n  color: #f1f1f1;\n}\n#T_39c99_row3_col6 {\n  background-color: #067230;\n  color: #f1f1f1;\n}\n#T_39c99_row3_col7 {\n  background-color: #005522;\n  color: #f1f1f1;\n  width: 10em;\n  background: linear-gradient(90deg, purple 94.6%, transparent 94.6%);\n}\n#T_39c99_row4_col1 {\n  background-color: #1d8640;\n  color: #f1f1f1;\n  width: 10em;\n  background: linear-gradient(90deg, blue 77.1%, transparent 77.1%);\n}\n#T_39c99_row4_col2 {\n  background-color: #107a37;\n  color: #f1f1f1;\n  width: 10em;\n  background: linear-gradient(90deg, red 81.7%, transparent 81.7%);\n}\n#T_39c99_row4_col3 {\n  background-color: #026f2e;\n  color: #f1f1f1;\n  width: 10em;\n  background: linear-gradient(90deg, purple 86.6%, transparent 86.6%);\n}\n#T_39c99_row4_col4 {\n  background-color: #1a843f;\n  color: #f1f1f1;\n}\n#T_39c99_row4_col5 {\n  background-color: #1d8640;\n  color: #f1f1f1;\n}\n#T_39c99_row4_col6 {\n  background-color: #2f9858;\n  color: #f1f1f1;\n}\n#T_39c99_row4_col7 {\n  background-color: #00692a;\n  color: #f1f1f1;\n  width: 10em;\n  background: linear-gradient(90deg, purple 88.7%, transparent 88.7%);\n}\n#T_39c99_row5_col1 {\n  background-color: #37a266;\n  color: #f1f1f1;\n  width: 10em;\n  background: linear-gradient(90deg, blue 66.6%, transparent 66.6%);\n}\n#T_39c99_row5_col2 {\n  background-color: #2b9452;\n  color: #f1f1f1;\n  width: 10em;\n  background: linear-gradient(90deg, red 71.5%, transparent 71.5%);\n}\n#T_39c99_row5_col3 {\n  background-color: #005a24;\n  color: #f1f1f1;\n  width: 10em;\n  background: linear-gradient(90deg, purple 93.1%, transparent 93.1%);\n}\n#T_39c99_row5_col4 {\n  background-color: #3fac74;\n  color: #f1f1f1;\n}\n#T_39c99_row5_col5 {\n  background-color: #319c5c;\n  color: #f1f1f1;\n}\n#T_39c99_row5_col6 {\n  background-color: #5dbd99;\n  color: #000000;\n}\n#T_39c99_row5_col7 {\n  background-color: #127c39;\n  color: #f1f1f1;\n  width: 10em;\n  background: linear-gradient(90deg, purple 80.9%, transparent 80.9%);\n}\n#T_39c99_row6_col1 {\n  background-color: #55b98f;\n  color: #f1f1f1;\n  width: 10em;\n  background: linear-gradient(90deg, blue 55.7%, transparent 55.7%);\n}\n#T_39c99_row6_col2 {\n  background-color: #48b27f;\n  color: #f1f1f1;\n  width: 10em;\n  background: linear-gradient(90deg, red 59.8%, transparent 59.8%);\n}\n#T_39c99_row6_col3 {\n  background-color: #004c1e;\n  color: #f1f1f1;\n  width: 10em;\n  background: linear-gradient(90deg, purple 97.5%, transparent 97.5%);\n}\n#T_39c99_row6_col4 {\n  background-color: #57ba92;\n  color: #f1f1f1;\n}\n#T_39c99_row6_col5 {\n  background-color: #53b88c;\n  color: #f1f1f1;\n}\n#T_39c99_row6_col6 {\n  background-color: #80cdb7;\n  color: #000000;\n}\n#T_39c99_row6_col7 {\n  background-color: #319c5c;\n  color: #f1f1f1;\n  width: 10em;\n  background: linear-gradient(90deg, purple 68.9%, transparent 68.9%);\n}\n#T_39c99_row7_col1 {\n  background-color: #75c9af;\n  color: #000000;\n  width: 10em;\n  background: linear-gradient(90deg, blue 46.3%, transparent 46.3%);\n}\n#T_39c99_row7_col2 {\n  background-color: #68c3a6;\n  color: #000000;\n  width: 10em;\n  background: linear-gradient(90deg, red 49.6%, transparent 49.6%);\n}\n#T_39c99_row7_col4 {\n  background-color: #9ad8ca;\n  color: #000000;\n}\n#T_39c99_row7_col5 {\n  background-color: #74c8ae;\n  color: #000000;\n}\n#T_39c99_row7_col6 {\n  background-color: #92d5c4;\n  color: #000000;\n}\n#T_39c99_row7_col7 {\n  background-color: #4fb688;\n  color: #f1f1f1;\n  width: 10em;\n  background: linear-gradient(90deg, purple 57.7%, transparent 57.7%);\n}\n#T_39c99_row8_col1 {\n  background-color: #f5fbfc;\n  color: #000000;\n  width: 10em;\n  background: linear-gradient(90deg, blue 1.7%, transparent 1.7%);\n}\n#T_39c99_row8_col2 {\n  background-color: #f5fbfd;\n  color: #000000;\n  width: 10em;\n  background: linear-gradient(90deg, red 1.3%, transparent 1.3%);\n}\n#T_39c99_row8_col3, #T_39c99_row10_col3, #T_39c99_row11_col3 {\n  background-color: #f7fcfd;\n  color: #000000;\n  width: 10em;\n  background: linear-gradient(90deg, purple 0.1%, transparent 0.1%);\n}\n#T_39c99_row8_col4 {\n  background-color: #f6fcfd;\n  color: #000000;\n}\n#T_39c99_row8_col5 {\n  background-color: #f5fbfd;\n  color: #000000;\n}\n#T_39c99_row8_col6 {\n  background-color: #f5fbfc;\n  color: #000000;\n}\n#T_39c99_row8_col7 {\n  background-color: #f5fbfd;\n  color: #000000;\n  width: 10em;\n  background: linear-gradient(90deg, purple 1.2%, transparent 1.2%);\n}\n#T_39c99_row9_col1, #T_39c99_row10_col1, #T_39c99_row11_col1, #T_39c99_row12_col1 {\n  background-color: #f7fcfd;\n  color: #000000;\n  width: 10em;\n  background: linear-gradient(90deg, blue 0.0%, transparent 0.0%);\n}\n#T_39c99_row9_col2, #T_39c99_row10_col2, #T_39c99_row11_col2, #T_39c99_row12_col2 {\n  background-color: #f7fcfd;\n  color: #000000;\n  width: 10em;\n  background: linear-gradient(90deg, red 0.0%, transparent 0.0%);\n}\n#T_39c99_row9_col3, #T_39c99_row9_col7, #T_39c99_row10_col7, #T_39c99_row11_col7, #T_39c99_row12_col7 {\n  background-color: #f7fcfd;\n  color: #000000;\n  width: 10em;\n  background: linear-gradient(90deg, purple 0.0%, transparent 0.0%);\n}\n#T_39c99_row12_col3 {\n  background-color: #f7fcfd;\n  color: #000000;\n  width: 10em;\n}\n</style>\n<table id=\"T_39c99\">\n  <thead>\n    <tr>\n      <th class=\"blank level0\" >&nbsp;</th>\n      <th id=\"T_39c99_level0_col0\" class=\"col_heading level0 col0\" >count</th>\n      <th id=\"T_39c99_level0_col1\" class=\"col_heading level0 col1\" >mean</th>\n      <th id=\"T_39c99_level0_col2\" class=\"col_heading level0 col2\" >std</th>\n      <th id=\"T_39c99_level0_col3\" class=\"col_heading level0 col3\" >min</th>\n      <th id=\"T_39c99_level0_col4\" class=\"col_heading level0 col4\" >25%</th>\n      <th id=\"T_39c99_level0_col5\" class=\"col_heading level0 col5\" >50%</th>\n      <th id=\"T_39c99_level0_col6\" class=\"col_heading level0 col6\" >75%</th>\n      <th id=\"T_39c99_level0_col7\" class=\"col_heading level0 col7\" >max</th>\n    </tr>\n  </thead>\n  <tbody>\n    <tr>\n      <th id=\"T_39c99_level0_row0\" class=\"row_heading level0 row0\" >2022 Population</th>\n      <td id=\"T_39c99_row0_col0\" class=\"data row0 col0\" >234.000000</td>\n      <td id=\"T_39c99_row0_col1\" class=\"data row0 col1\" >34074414.709402</td>\n      <td id=\"T_39c99_row0_col2\" class=\"data row0 col2\" >136766424.804763</td>\n      <td id=\"T_39c99_row0_col3\" class=\"data row0 col3\" >510.000000</td>\n      <td id=\"T_39c99_row0_col4\" class=\"data row0 col4\" >419738.500000</td>\n      <td id=\"T_39c99_row0_col5\" class=\"data row0 col5\" >5559944.500000</td>\n      <td id=\"T_39c99_row0_col6\" class=\"data row0 col6\" >22476504.750000</td>\n      <td id=\"T_39c99_row0_col7\" class=\"data row0 col7\" >1425887337.000000</td>\n    </tr>\n    <tr>\n      <th id=\"T_39c99_level0_row1\" class=\"row_heading level0 row1\" >2020 Population</th>\n      <td id=\"T_39c99_row1_col0\" class=\"data row1 col0\" >234.000000</td>\n      <td id=\"T_39c99_row1_col1\" class=\"data row1 col1\" >33501070.952991</td>\n      <td id=\"T_39c99_row1_col2\" class=\"data row1 col2\" >135589876.924439</td>\n      <td id=\"T_39c99_row1_col3\" class=\"data row1 col3\" >520.000000</td>\n      <td id=\"T_39c99_row1_col4\" class=\"data row1 col4\" >415284.500000</td>\n      <td id=\"T_39c99_row1_col5\" class=\"data row1 col5\" >5493074.500000</td>\n      <td id=\"T_39c99_row1_col6\" class=\"data row1 col6\" >21447979.500000</td>\n      <td id=\"T_39c99_row1_col7\" class=\"data row1 col7\" >1424929781.000000</td>\n    </tr>\n    <tr>\n      <th id=\"T_39c99_level0_row2\" class=\"row_heading level0 row2\" >2015 Population</th>\n      <td id=\"T_39c99_row2_col0\" class=\"data row2 col0\" >234.000000</td>\n      <td id=\"T_39c99_row2_col1\" class=\"data row2 col1\" >31729956.243590</td>\n      <td id=\"T_39c99_row2_col2\" class=\"data row2 col2\" >130404992.751760</td>\n      <td id=\"T_39c99_row2_col3\" class=\"data row2 col3\" >564.000000</td>\n      <td id=\"T_39c99_row2_col4\" class=\"data row2 col4\" >404676.000000</td>\n      <td id=\"T_39c99_row2_col5\" class=\"data row2 col5\" >5307400.000000</td>\n      <td id=\"T_39c99_row2_col6\" class=\"data row2 col6\" >19730853.750000</td>\n      <td id=\"T_39c99_row2_col7\" class=\"data row2 col7\" >1393715448.000000</td>\n    </tr>\n    <tr>\n      <th id=\"T_39c99_level0_row3\" class=\"row_heading level0 row3\" >2010 Population</th>\n      <td id=\"T_39c99_row3_col0\" class=\"data row3 col0\" >234.000000</td>\n      <td id=\"T_39c99_row3_col1\" class=\"data row3 col1\" >29845235.034188</td>\n      <td id=\"T_39c99_row3_col2\" class=\"data row3 col2\" >124218487.632998</td>\n      <td id=\"T_39c99_row3_col3\" class=\"data row3 col3\" >596.000000</td>\n      <td id=\"T_39c99_row3_col4\" class=\"data row3 col4\" >393149.000000</td>\n      <td id=\"T_39c99_row3_col5\" class=\"data row3 col5\" >4942770.500000</td>\n      <td id=\"T_39c99_row3_col6\" class=\"data row3 col6\" >19159567.500000</td>\n      <td id=\"T_39c99_row3_col7\" class=\"data row3 col7\" >1348191368.000000</td>\n    </tr>\n    <tr>\n      <th id=\"T_39c99_level0_row4\" class=\"row_heading level0 row4\" >2000 Population</th>\n      <td id=\"T_39c99_row4_col0\" class=\"data row4 col0\" >234.000000</td>\n      <td id=\"T_39c99_row4_col1\" class=\"data row4 col1\" >26269468.816239</td>\n      <td id=\"T_39c99_row4_col2\" class=\"data row4 col2\" >111698206.719070</td>\n      <td id=\"T_39c99_row4_col3\" class=\"data row4 col3\" >651.000000</td>\n      <td id=\"T_39c99_row4_col4\" class=\"data row4 col4\" >327242.000000</td>\n      <td id=\"T_39c99_row4_col5\" class=\"data row4 col5\" >4292907.000000</td>\n      <td id=\"T_39c99_row4_col6\" class=\"data row4 col6\" >15762301.000000</td>\n      <td id=\"T_39c99_row4_col7\" class=\"data row4 col7\" >1264099069.000000</td>\n    </tr>\n    <tr>\n      <th id=\"T_39c99_level0_row5\" class=\"row_heading level0 row5\" >1990 Population</th>\n      <td id=\"T_39c99_row5_col0\" class=\"data row5 col0\" >234.000000</td>\n      <td id=\"T_39c99_row5_col1\" class=\"data row5 col1\" >22710220.790598</td>\n      <td id=\"T_39c99_row5_col2\" class=\"data row5 col2\" >97832173.346751</td>\n      <td id=\"T_39c99_row5_col3\" class=\"data row5 col3\" >700.000000</td>\n      <td id=\"T_39c99_row5_col4\" class=\"data row5 col4\" >264115.750000</td>\n      <td id=\"T_39c99_row5_col5\" class=\"data row5 col5\" >3825409.500000</td>\n      <td id=\"T_39c99_row5_col6\" class=\"data row5 col6\" >11869231.000000</td>\n      <td id=\"T_39c99_row5_col7\" class=\"data row5 col7\" >1153704252.000000</td>\n    </tr>\n    <tr>\n      <th id=\"T_39c99_level0_row6\" class=\"row_heading level0 row6\" >1980 Population</th>\n      <td id=\"T_39c99_row6_col0\" class=\"data row6 col0\" >234.000000</td>\n      <td id=\"T_39c99_row6_col1\" class=\"data row6 col1\" >18984616.970085</td>\n      <td id=\"T_39c99_row6_col2\" class=\"data row6 col2\" >81785186.084201</td>\n      <td id=\"T_39c99_row6_col3\" class=\"data row6 col3\" >733.000000</td>\n      <td id=\"T_39c99_row6_col4\" class=\"data row6 col4\" >229614.250000</td>\n      <td id=\"T_39c99_row6_col5\" class=\"data row6 col5\" >3141145.500000</td>\n      <td id=\"T_39c99_row6_col6\" class=\"data row6 col6\" >9826053.750000</td>\n      <td id=\"T_39c99_row6_col7\" class=\"data row6 col7\" >982372466.000000</td>\n    </tr>\n    <tr>\n      <th id=\"T_39c99_level0_row7\" class=\"row_heading level0 row7\" >1970 Population</th>\n      <td id=\"T_39c99_row7_col0\" class=\"data row7 col0\" >234.000000</td>\n      <td id=\"T_39c99_row7_col1\" class=\"data row7 col1\" >15786908.807692</td>\n      <td id=\"T_39c99_row7_col2\" class=\"data row7 col2\" >67795091.643236</td>\n      <td id=\"T_39c99_row7_col3\" class=\"data row7 col3\" >752.000000</td>\n      <td id=\"T_39c99_row7_col4\" class=\"data row7 col4\" >155997.000000</td>\n      <td id=\"T_39c99_row7_col5\" class=\"data row7 col5\" >2604830.000000</td>\n      <td id=\"T_39c99_row7_col6\" class=\"data row7 col6\" >8817329.000000</td>\n      <td id=\"T_39c99_row7_col7\" class=\"data row7 col7\" >822534450.000000</td>\n    </tr>\n    <tr>\n      <th id=\"T_39c99_level0_row8\" class=\"row_heading level0 row8\" >Area (km²)</th>\n      <td id=\"T_39c99_row8_col0\" class=\"data row8 col0\" >234.000000</td>\n      <td id=\"T_39c99_row8_col1\" class=\"data row8 col1\" >581449.384615</td>\n      <td id=\"T_39c99_row8_col2\" class=\"data row8 col2\" >1761840.864063</td>\n      <td id=\"T_39c99_row8_col3\" class=\"data row8 col3\" >1.000000</td>\n      <td id=\"T_39c99_row8_col4\" class=\"data row8 col4\" >2650.000000</td>\n      <td id=\"T_39c99_row8_col5\" class=\"data row8 col5\" >81199.500000</td>\n      <td id=\"T_39c99_row8_col6\" class=\"data row8 col6\" >430425.750000</td>\n      <td id=\"T_39c99_row8_col7\" class=\"data row8 col7\" >17098242.000000</td>\n    </tr>\n    <tr>\n      <th id=\"T_39c99_level0_row9\" class=\"row_heading level0 row9\" >Density (per km²)</th>\n      <td id=\"T_39c99_row9_col0\" class=\"data row9 col0\" >234.000000</td>\n      <td id=\"T_39c99_row9_col1\" class=\"data row9 col1\" >452.127044</td>\n      <td id=\"T_39c99_row9_col2\" class=\"data row9 col2\" >2066.121904</td>\n      <td id=\"T_39c99_row9_col3\" class=\"data row9 col3\" >0.026100</td>\n      <td id=\"T_39c99_row9_col4\" class=\"data row9 col4\" >38.417875</td>\n      <td id=\"T_39c99_row9_col5\" class=\"data row9 col5\" >95.346750</td>\n      <td id=\"T_39c99_row9_col6\" class=\"data row9 col6\" >238.933250</td>\n      <td id=\"T_39c99_row9_col7\" class=\"data row9 col7\" >23172.266700</td>\n    </tr>\n    <tr>\n      <th id=\"T_39c99_level0_row10\" class=\"row_heading level0 row10\" >Rank</th>\n      <td id=\"T_39c99_row10_col0\" class=\"data row10 col0\" >234.000000</td>\n      <td id=\"T_39c99_row10_col1\" class=\"data row10 col1\" >117.500000</td>\n      <td id=\"T_39c99_row10_col2\" class=\"data row10 col2\" >67.694165</td>\n      <td id=\"T_39c99_row10_col3\" class=\"data row10 col3\" >1.000000</td>\n      <td id=\"T_39c99_row10_col4\" class=\"data row10 col4\" >59.250000</td>\n      <td id=\"T_39c99_row10_col5\" class=\"data row10 col5\" >117.500000</td>\n      <td id=\"T_39c99_row10_col6\" class=\"data row10 col6\" >175.750000</td>\n      <td id=\"T_39c99_row10_col7\" class=\"data row10 col7\" >234.000000</td>\n    </tr>\n    <tr>\n      <th id=\"T_39c99_level0_row11\" class=\"row_heading level0 row11\" >Growth Rate</th>\n      <td id=\"T_39c99_row11_col0\" class=\"data row11 col0\" >234.000000</td>\n      <td id=\"T_39c99_row11_col1\" class=\"data row11 col1\" >1.009577</td>\n      <td id=\"T_39c99_row11_col2\" class=\"data row11 col2\" >0.013385</td>\n      <td id=\"T_39c99_row11_col3\" class=\"data row11 col3\" >0.912000</td>\n      <td id=\"T_39c99_row11_col4\" class=\"data row11 col4\" >1.001775</td>\n      <td id=\"T_39c99_row11_col5\" class=\"data row11 col5\" >1.007900</td>\n      <td id=\"T_39c99_row11_col6\" class=\"data row11 col6\" >1.016950</td>\n      <td id=\"T_39c99_row11_col7\" class=\"data row11 col7\" >1.069100</td>\n    </tr>\n    <tr>\n      <th id=\"T_39c99_level0_row12\" class=\"row_heading level0 row12\" >World Population Percentage</th>\n      <td id=\"T_39c99_row12_col0\" class=\"data row12 col0\" >234.000000</td>\n      <td id=\"T_39c99_row12_col1\" class=\"data row12 col1\" >0.427051</td>\n      <td id=\"T_39c99_row12_col2\" class=\"data row12 col2\" >1.714977</td>\n      <td id=\"T_39c99_row12_col3\" class=\"data row12 col3\" >0.000000</td>\n      <td id=\"T_39c99_row12_col4\" class=\"data row12 col4\" >0.010000</td>\n      <td id=\"T_39c99_row12_col5\" class=\"data row12 col5\" >0.070000</td>\n      <td id=\"T_39c99_row12_col6\" class=\"data row12 col6\" >0.280000</td>\n      <td id=\"T_39c99_row12_col7\" class=\"data row12 col7\" >17.880000</td>\n    </tr>\n  </tbody>\n</table>\n"
     },
     "execution_count": 12,
     "metadata": {},
     "output_type": "execute_result"
    }
   ],
   "source": [
    "data.describe().T\\\n",
    "    .sort_values(ascending=0, by='mean')\\\n",
    "    .style.background_gradient(cmap=\"BuGn\")\\\n",
    "    .bar(subset=['std'], color=\"red\")\\\n",
    "    .bar(subset=['max', 'min'], color='purple')\\\n",
    "    .bar(subset=['mean'], color='blue')"
   ],
   "metadata": {
    "collapsed": false,
    "pycharm": {
     "name": "#%%\n"
    }
   }
  },
  {
   "cell_type": "code",
   "execution_count": 47,
   "outputs": [
    {
     "name": "stdout",
     "output_type": "stream",
     "text": [
      "Rank ====> 234\n",
      "CCA3 ====> 234\n",
      "Country ====> 234\n",
      "Capital ====> 234\n",
      "Continent ====> 6\n",
      "2022 Population ====> 234\n",
      "2020 Population ====> 234\n",
      "2015 Population ====> 234\n",
      "2010 Population ====> 234\n",
      "2000 Population ====> 234\n",
      "1990 Population ====> 234\n",
      "1980 Population ====> 234\n",
      "1970 Population ====> 234\n",
      "Area (km²) ====> 233\n",
      "Density (per km²) ====> 234\n",
      "Growth Rate ====> 180\n",
      "World Population Percentage ====> 70\n"
     ]
    }
   ],
   "source": [
    "features = data.columns\n",
    "for feature in features:\n",
    "    print(f'{feature} ====> {data[feature].nunique()}')"
   ],
   "metadata": {
    "collapsed": false,
    "pycharm": {
     "name": "#%%\n"
    }
   }
  },
  {
   "cell_type": "code",
   "execution_count": 48,
   "outputs": [
    {
     "data": {
      "text/plain": "<AxesSubplot:>"
     },
     "execution_count": 48,
     "metadata": {},
     "output_type": "execute_result"
    },
    {
     "data": {
      "text/plain": "<Figure size 1800x720 with 2 Axes>",
      "image/png": "[encoded data removed]"
     },
     "metadata": {},
     "output_type": "display_data"
    }
   ],
   "source": [
    "msno.matrix(data)"
   ],
   "metadata": {
    "collapsed": false,
    "pycharm": {
     "name": "#%%\n"
    }
   }
  },
  {
   "cell_type": "code",
   "execution_count": 49,
   "outputs": [
    {
     "data": {
      "text/plain": "<pandas.io.formats.style.Styler at 0x7fbbf901ae20>",
      "text/html": "<style type=\"text/css\">\n#T_45f99_row0_col0, #T_45f99_row1_col11, #T_45f99_row3_col1, #T_45f99_row3_col2, #T_45f99_row3_col3, #T_45f99_row3_col4, #T_45f99_row3_col5, #T_45f99_row3_col6, #T_45f99_row3_col7, #T_45f99_row3_col8, #T_45f99_row3_col9, #T_45f99_row3_col12, #T_45f99_row5_col10 {\n  background-color: #f7fcfd;\n  color: #000000;\n}\n#T_45f99_row0_col1, #T_45f99_row0_col2, #T_45f99_row0_col3, #T_45f99_row0_col4, #T_45f99_row0_col5, #T_45f99_row0_col6, #T_45f99_row0_col7, #T_45f99_row0_col8, #T_45f99_row0_col10, #T_45f99_row0_col12, #T_45f99_row3_col0, #T_45f99_row4_col11, #T_45f99_row5_col9 {\n  background-color: #00441b;\n  color: #f1f1f1;\n}\n#T_45f99_row0_col9 {\n  background-color: #b7e4da;\n  color: #000000;\n}\n#T_45f99_row0_col11 {\n  background-color: #98d8c9;\n  color: #000000;\n}\n#T_45f99_row1_col0 {\n  background-color: #85cfbb;\n  color: #000000;\n}\n#T_45f99_row1_col1, #T_45f99_row1_col12 {\n  background-color: #e3f4f7;\n  color: #000000;\n}\n#T_45f99_row1_col2, #T_45f99_row2_col1, #T_45f99_row2_col2, #T_45f99_row2_col3, #T_45f99_row2_col4, #T_45f99_row2_col12, #T_45f99_row4_col7 {\n  background-color: #e2f4f7;\n  color: #000000;\n}\n#T_45f99_row1_col3, #T_45f99_row2_col6 {\n  background-color: #e0f3f5;\n  color: #000000;\n}\n#T_45f99_row1_col4, #T_45f99_row2_col7, #T_45f99_row4_col6 {\n  background-color: #dff3f4;\n  color: #000000;\n}\n#T_45f99_row1_col5, #T_45f99_row4_col5, #T_45f99_row4_col9 {\n  background-color: #dbf1f1;\n  color: #000000;\n}\n#T_45f99_row1_col6 {\n  background-color: #d4efec;\n  color: #000000;\n}\n#T_45f99_row1_col7, #T_45f99_row4_col1, #T_45f99_row4_col12 {\n  background-color: #cdece6;\n  color: #000000;\n}\n#T_45f99_row1_col8 {\n  background-color: #bce6dd;\n  color: #000000;\n}\n#T_45f99_row1_col9, #T_45f99_row2_col11 {\n  background-color: #e9f7fa;\n  color: #000000;\n}\n#T_45f99_row1_col10 {\n  background-color: #3eaa70;\n  color: #f1f1f1;\n}\n#T_45f99_row2_col0 {\n  background-color: #228a44;\n  color: #f1f1f1;\n}\n#T_45f99_row2_col5 {\n  background-color: #e1f4f6;\n  color: #000000;\n}\n#T_45f99_row2_col8 {\n  background-color: #ddf2f3;\n  color: #000000;\n}\n#T_45f99_row2_col9 {\n  background-color: #c8ebe4;\n  color: #000000;\n}\n#T_45f99_row2_col10 {\n  background-color: #ccece6;\n  color: #000000;\n}\n#T_45f99_row3_col10 {\n  background-color: #e7f6f9;\n  color: #000000;\n}\n#T_45f99_row3_col11 {\n  background-color: #c4e9e1;\n  color: #000000;\n}\n#T_45f99_row4_col0, #T_45f99_row4_col8 {\n  background-color: #e4f5f8;\n  color: #000000;\n}\n#T_45f99_row4_col2 {\n  background-color: #ceede8;\n  color: #000000;\n}\n#T_45f99_row4_col3 {\n  background-color: #d2eeeb;\n  color: #000000;\n}\n#T_45f99_row4_col4 {\n  background-color: #d5efed;\n  color: #000000;\n}\n#T_45f99_row4_col10 {\n  background-color: #e8f6fa;\n  color: #000000;\n}\n#T_45f99_row5_col0 {\n  background-color: #daf1f1;\n  color: #000000;\n}\n#T_45f99_row5_col1, #T_45f99_row5_col7 {\n  background-color: #b2e2d7;\n  color: #000000;\n}\n#T_45f99_row5_col2, #T_45f99_row5_col3, #T_45f99_row5_col4, #T_45f99_row5_col6, #T_45f99_row5_col12 {\n  background-color: #b0e1d6;\n  color: #000000;\n}\n#T_45f99_row5_col5 {\n  background-color: #afe1d5;\n  color: #000000;\n}\n#T_45f99_row5_col8 {\n  background-color: #b5e3d9;\n  color: #000000;\n}\n#T_45f99_row5_col11 {\n  background-color: #b8e4db;\n  color: #000000;\n}\n</style>\n<table id=\"T_45f99\">\n  <thead>\n    <tr>\n      <th class=\"blank level0\" >&nbsp;</th>\n      <th id=\"T_45f99_level0_col0\" class=\"col_heading level0 col0\" >Rank</th>\n      <th id=\"T_45f99_level0_col1\" class=\"col_heading level0 col1\" >2022 Population</th>\n      <th id=\"T_45f99_level0_col2\" class=\"col_heading level0 col2\" >2020 Population</th>\n      <th id=\"T_45f99_level0_col3\" class=\"col_heading level0 col3\" >2015 Population</th>\n      <th id=\"T_45f99_level0_col4\" class=\"col_heading level0 col4\" >2010 Population</th>\n      <th id=\"T_45f99_level0_col5\" class=\"col_heading level0 col5\" >2000 Population</th>\n      <th id=\"T_45f99_level0_col6\" class=\"col_heading level0 col6\" >1990 Population</th>\n      <th id=\"T_45f99_level0_col7\" class=\"col_heading level0 col7\" >1980 Population</th>\n      <th id=\"T_45f99_level0_col8\" class=\"col_heading level0 col8\" >1970 Population</th>\n      <th id=\"T_45f99_level0_col9\" class=\"col_heading level0 col9\" >Area (km²)</th>\n      <th id=\"T_45f99_level0_col10\" class=\"col_heading level0 col10\" >Density (per km²)</th>\n      <th id=\"T_45f99_level0_col11\" class=\"col_heading level0 col11\" >Growth Rate</th>\n      <th id=\"T_45f99_level0_col12\" class=\"col_heading level0 col12\" >World Population Percentage</th>\n    </tr>\n    <tr>\n      <th class=\"index_name level0\" >Continent</th>\n      <th class=\"blank col0\" >&nbsp;</th>\n      <th class=\"blank col1\" >&nbsp;</th>\n      <th class=\"blank col2\" >&nbsp;</th>\n      <th class=\"blank col3\" >&nbsp;</th>\n      <th class=\"blank col4\" >&nbsp;</th>\n      <th class=\"blank col5\" >&nbsp;</th>\n      <th class=\"blank col6\" >&nbsp;</th>\n      <th class=\"blank col7\" >&nbsp;</th>\n      <th class=\"blank col8\" >&nbsp;</th>\n      <th class=\"blank col9\" >&nbsp;</th>\n      <th class=\"blank col10\" >&nbsp;</th>\n      <th class=\"blank col11\" >&nbsp;</th>\n      <th class=\"blank col12\" >&nbsp;</th>\n    </tr>\n  </thead>\n  <tbody>\n    <tr>\n      <th id=\"T_45f99_level0_row0\" class=\"row_heading level0 row0\" >Asia</th>\n      <td id=\"T_45f99_row0_col0\" class=\"data row0 col0\" >77.560000</td>\n      <td id=\"T_45f99_row0_col1\" class=\"data row0 col1\" >94427665.480000</td>\n      <td id=\"T_45f99_row0_col2\" class=\"data row0 col2\" >93261730.700000</td>\n      <td id=\"T_45f99_row0_col3\" class=\"data row0 col3\" >89165003.640000</td>\n      <td id=\"T_45f99_row0_col4\" class=\"data row0 col4\" >84400826.540000</td>\n      <td id=\"T_45f99_row0_col5\" class=\"data row0 col5\" >74701792.080000</td>\n      <td id=\"T_45f99_row0_col6\" class=\"data row0 col6\" >64211271.540000</td>\n      <td id=\"T_45f99_row0_col7\" class=\"data row0 col7\" >52706684.560000</td>\n      <td id=\"T_45f99_row0_col8\" class=\"data row0 col8\" >42898125.800000</td>\n      <td id=\"T_45f99_row0_col9\" class=\"data row0 col9\" >642762.820000</td>\n      <td id=\"T_45f99_row0_col10\" class=\"data row0 col10\" >1025.024136</td>\n      <td id=\"T_45f99_row0_col11\" class=\"data row0 col11\" >1.009384</td>\n      <td id=\"T_45f99_row0_col12\" class=\"data row0 col12\" >1.183800</td>\n    </tr>\n    <tr>\n      <th id=\"T_45f99_level0_row1\" class=\"row_heading level0 row1\" >Europe</th>\n      <td id=\"T_45f99_row1_col0\" class=\"data row1 col0\" >124.500000</td>\n      <td id=\"T_45f99_row1_col1\" class=\"data row1 col1\" >14862950.760000</td>\n      <td id=\"T_45f99_row1_col2\" class=\"data row1 col2\" >14915843.920000</td>\n      <td id=\"T_45f99_row1_col3\" class=\"data row1 col3\" >14830712.160000</td>\n      <td id=\"T_45f99_row1_col4\" class=\"data row1 col4\" >14712278.680000</td>\n      <td id=\"T_45f99_row1_col5\" class=\"data row1 col5\" >14521868.460000</td>\n      <td id=\"T_45f99_row1_col6\" class=\"data row1 col6\" >14406415.940000</td>\n      <td id=\"T_45f99_row1_col7\" class=\"data row1 col7\" >13850543.180000</td>\n      <td id=\"T_45f99_row1_col8\" class=\"data row1 col8\" >13118479.820000</td>\n      <td id=\"T_45f99_row1_col9\" class=\"data row1 col9\" >460208.220000</td>\n      <td id=\"T_45f99_row1_col10\" class=\"data row1 col10\" >663.324742</td>\n      <td id=\"T_45f99_row1_col11\" class=\"data row1 col11\" >1.002256</td>\n      <td id=\"T_45f99_row1_col12\" class=\"data row1 col12\" >0.186600</td>\n    </tr>\n    <tr>\n      <th id=\"T_45f99_level0_row2\" class=\"row_heading level0 row2\" >North America</th>\n      <td id=\"T_45f99_row2_col0\" class=\"data row2 col0\" >160.925000</td>\n      <td id=\"T_45f99_row2_col1\" class=\"data row2 col1\" >15007403.400000</td>\n      <td id=\"T_45f99_row2_col2\" class=\"data row2 col2\" >14855914.825000</td>\n      <td id=\"T_45f99_row2_col3\" class=\"data row2 col3\" >14259596.250000</td>\n      <td id=\"T_45f99_row2_col4\" class=\"data row2 col4\" >13568016.275000</td>\n      <td id=\"T_45f99_row2_col5\" class=\"data row2 col5\" >12151739.600000</td>\n      <td id=\"T_45f99_row2_col6\" class=\"data row2 col6\" >10531660.625000</td>\n      <td id=\"T_45f99_row2_col7\" class=\"data row2 col7\" >9207334.025000</td>\n      <td id=\"T_45f99_row2_col8\" class=\"data row2 col8\" >7885865.150000</td>\n      <td id=\"T_45f99_row2_col9\" class=\"data row2 col9\" >606104.450000</td>\n      <td id=\"T_45f99_row2_col10\" class=\"data row2 col10\" >272.761758</td>\n      <td id=\"T_45f99_row2_col11\" class=\"data row2 col11\" >1.004175</td>\n      <td id=\"T_45f99_row2_col12\" class=\"data row2 col12\" >0.187750</td>\n    </tr>\n    <tr>\n      <th id=\"T_45f99_level0_row3\" class=\"row_heading level0 row3\" >Oceania</th>\n      <td id=\"T_45f99_row3_col0\" class=\"data row3 col0\" >188.521739</td>\n      <td id=\"T_45f99_row3_col1\" class=\"data row3 col1\" >1958198.000000</td>\n      <td id=\"T_45f99_row3_col2\" class=\"data row3 col2\" >1910148.956522</td>\n      <td id=\"T_45f99_row3_col3\" class=\"data row3 col3\" >1756664.478261</td>\n      <td id=\"T_45f99_row3_col4\" class=\"data row3 col4\" >1613163.652174</td>\n      <td id=\"T_45f99_row3_col5\" class=\"data row3 col5\" >1357512.086957</td>\n      <td id=\"T_45f99_row3_col6\" class=\"data row3 col6\" >1162774.869565</td>\n      <td id=\"T_45f99_row3_col7\" class=\"data row3 col7\" >996532.173913</td>\n      <td id=\"T_45f99_row3_col8\" class=\"data row3 col8\" >846968.260870</td>\n      <td id=\"T_45f99_row3_col9\" class=\"data row3 col9\" >370220.913043</td>\n      <td id=\"T_45f99_row3_col10\" class=\"data row3 col10\" >132.543065</td>\n      <td id=\"T_45f99_row3_col11\" class=\"data row3 col11\" >1.007383</td>\n      <td id=\"T_45f99_row3_col12\" class=\"data row3 col12\" >0.023913</td>\n    </tr>\n    <tr>\n      <th id=\"T_45f99_level0_row4\" class=\"row_heading level0 row4\" >Africa</th>\n      <td id=\"T_45f99_row4_col0\" class=\"data row4 col0\" >92.157895</td>\n      <td id=\"T_45f99_row4_col1\" class=\"data row4 col1\" >25030367.228070</td>\n      <td id=\"T_45f99_row4_col2\" class=\"data row4 col2\" >23871435.263158</td>\n      <td id=\"T_45f99_row4_col3\" class=\"data row4 col3\" >21071972.666667</td>\n      <td id=\"T_45f99_row4_col4\" class=\"data row4 col4\" >18512773.192982</td>\n      <td id=\"T_45f99_row4_col5\" class=\"data row4 col5\" >14367474.245614</td>\n      <td id=\"T_45f99_row4_col6\" class=\"data row4 col6\" >11195625.070175</td>\n      <td id=\"T_45f99_row4_col7\" class=\"data row4 col7\" >8448006.614035</td>\n      <td id=\"T_45f99_row4_col8\" class=\"data row4 col8\" >6411304.350877</td>\n      <td id=\"T_45f99_row4_col9\" class=\"data row4 col9\" >531894.087719</td>\n      <td id=\"T_45f99_row4_col10\" class=\"data row4 col10\" >125.047646</td>\n      <td id=\"T_45f99_row4_col11\" class=\"data row4 col11\" >1.021244</td>\n      <td id=\"T_45f99_row4_col12\" class=\"data row4 col12\" >0.313509</td>\n    </tr>\n    <tr>\n      <th id=\"T_45f99_level0_row5\" class=\"row_heading level0 row5\" >South America</th>\n      <td id=\"T_45f99_row5_col0\" class=\"data row5 col0\" >97.571429</td>\n      <td id=\"T_45f99_row5_col1\" class=\"data row5 col1\" >31201186.285714</td>\n      <td id=\"T_45f99_row5_col2\" class=\"data row5 col2\" >30823574.500000</td>\n      <td id=\"T_45f99_row5_col3\" class=\"data row5 col3\" >29509599.714286</td>\n      <td id=\"T_45f99_row5_col4\" class=\"data row5 col4\" >28077017.857143</td>\n      <td id=\"T_45f99_row5_col5\" class=\"data row5 col5\" >24973877.285714</td>\n      <td id=\"T_45f99_row5_col6\" class=\"data row5 col6\" >21224743.928571</td>\n      <td id=\"T_45f99_row5_col7\" class=\"data row5 col7\" >17270643.285714</td>\n      <td id=\"T_45f99_row5_col8\" class=\"data row5 col8\" >13781939.714286</td>\n      <td id=\"T_45f99_row5_col9\" class=\"data row5 col9\" >1273813.000000</td>\n      <td id=\"T_45f99_row5_col10\" class=\"data row5 col10\" >20.971979</td>\n      <td id=\"T_45f99_row5_col11\" class=\"data row5 col11\" >1.007957</td>\n      <td id=\"T_45f99_row5_col12\" class=\"data row5 col12\" >0.391429</td>\n    </tr>\n  </tbody>\n</table>\n"
     },
     "execution_count": 49,
     "metadata": {},
     "output_type": "execute_result"
    }
   ],
   "source": [
    "continent_data = data\\\n",
    "    .groupby('Continent')[features]\\\n",
    "    .mean()\\\n",
    "    .sort_values(by= \"Density (per km²)\", ascending = False)\n",
    "\n",
    "continent_data\\\n",
    "    .style\\\n",
    "    .background_gradient(cmap = \"BuGn\")"
   ],
   "metadata": {
    "collapsed": false,
    "pycharm": {
     "name": "#%%\n"
    }
   }
  },
  {
   "cell_type": "code",
   "execution_count": 53,
   "outputs": [
    {
     "data": {
      "text/plain": "<Figure size 864x648 with 1 Axes>",
      "image/png": "[encoded data removed]"
     },
     "metadata": {},
     "output_type": "display_data"
    },
    {
     "data": {
      "text/plain": "[<matplotlib.lines.Line2D at 0x7fbc0eb14b20>]"
     },
     "execution_count": 53,
     "metadata": {},
     "output_type": "execute_result"
    },
    {
     "data": {
      "text/plain": "<Figure size 360x144 with 2 Axes>",
      "image/png": "[encoded data removed]"
     },
     "metadata": {},
     "output_type": "display_data"
    }
   ],
   "source": [
    "continent_data.sort_values(by = '2022 Population', inplace= True)\n",
    "plt.figure(figsize=(12, 9))\n",
    "population_feature = [\n",
    "    '2022 Population',\n",
    "    '2020 Population',\n",
    "    '2015 Population',\n",
    "    '2010 Population',\n",
    "    '2000 Population',\n",
    "    '1990 Population',\n",
    "    '1980 Population',\n",
    "    '1970 Population'\n",
    "]\n",
    "\n",
    "population_feature.reverse()\n",
    "for feature in population_feature:\n",
    "    plt.plot(continent_data[feature], label = feature)\n",
    "\n",
    "plt.legend() # 범례 표시\n",
    "plt.show() # 그래프 보기\n",
    "\n",
    "## 인구수 그래프 생성\n",
    "# continent_data.sort_values(by = '2022 Population', inplace = True)\n",
    "# plt.figure(figsize=(20, 11))\n",
    "# population_feature = [\n",
    "#     '2022 Population',\n",
    "#     '2020 Population',\n",
    "# ]\n",
    "#\n",
    "# for feature in population_feature:\n",
    "#     plt.plot(continent_data[feature], label = feature)\n",
    "\n",
    "### ---\n",
    "def plotter(ax, data1, data2, param):\n",
    "    out = ax.plot(data1, data2, **param)\n",
    "    return out\n",
    "\n",
    "d1, d2, d3, d4 = np.random.randn(4, 100)\n",
    "fig, (ax1, ax2) = plt.subplots(1, 2, figsize=(5, 2))\n",
    "plotter(ax1, d1, d2, { 'marker': 'x' })\n",
    "plotter(ax2, d3, d4, { 'marker': 'o' })"
   ],
   "metadata": {
    "collapsed": false,
    "pycharm": {
     "name": "#%%\n"
    }
   }
  },
  {
   "cell_type": "code",
   "execution_count": 46,
   "outputs": [
    {
     "data": {
      "application/vnd.plotly.v1+json": {
       "data": [
        {
         "coloraxis": "coloraxis",
         "geo": "geo",
         "hovertemplate": "<b>%{hovertext}</b><br><br>Country=%{location}<br>2022 Population=%{z}<extra></extra>",
         "hovertext": [
          "Afghanistan",
          "Albania",
          "Algeria",
          "American Samoa",
          "Andorra",
          "Angola",
          "Anguilla",
          "Antigua and Barbuda",
          "Argentina",
          "Armenia",
          "Aruba",
          "Australia",
          "Austria",
          "Azerbaijan",
          "Bahamas",
          "Bahrain",
          "Bangladesh",
          "Barbados",
          "Belarus",
          "Belgium",
          "Belize",
          "Benin",
          "Bermuda",
          "Bhutan",
          "Bolivia",
          "Bosnia and Herzegovina",
          "Botswana",
          "Brazil",
          "British Virgin Islands",
          "Brunei",
          "Bulgaria",
          "Burkina Faso",
          "Burundi",
          "Cambodia",
          "Cameroon",
          "Canada",
          "Cape Verde",
          "Cayman Islands",
          "Central African Republic",
          "Chad",
          "Chile",
          "China",
          "Colombia",
          "Comoros",
          "Cook Islands",
          "Costa Rica",
          "Croatia",
          "Cuba",
          "Curacao",
          "Cyprus",
          "Czech Republic",
          "Denmark",
          "Djibouti",
          "Dominica",
          "Dominican Republic",
          "DR Congo",
          "Ecuador",
          "Egypt",
          "El Salvador",
          "Equatorial Guinea",
          "Eritrea",
          "Estonia",
          "Eswatini",
          "Ethiopia",
          "Falkland Islands",
          "Faroe Islands",
          "Fiji",
          "Finland",
          "France",
          "French Guiana",
          "French Polynesia",
          "Gabon",
          "Gambia",
          "Georgia",
          "Germany",
          "Ghana",
          "Gibraltar",
          "Greece",
          "Greenland",
          "Grenada",
          "Guadeloupe",
          "Guam",
          "Guatemala",
          "Guernsey",
          "Guinea",
          "Guinea-Bissau",
          "Guyana",
          "Haiti",
          "Honduras",
          "Hong Kong",
          "Hungary",
          "Iceland",
          "India",
          "Indonesia",
          "Iran",
          "Iraq",
          "Ireland",
          "Isle of Man",
          "Israel",
          "Italy",
          "Ivory Coast",
          "Jamaica",
          "Japan",
          "Jersey",
          "Jordan",
          "Kazakhstan",
          "Kenya",
          "Kiribati",
          "Kuwait",
          "Kyrgyzstan",
          "Laos",
          "Latvia",
          "Lebanon",
          "Lesotho",
          "Liberia",
          "Libya",
          "Liechtenstein",
          "Lithuania",
          "Luxembourg",
          "Macau",
          "Madagascar",
          "Malawi",
          "Malaysia",
          "Maldives",
          "Mali",
          "Malta",
          "Marshall Islands",
          "Martinique",
          "Mauritania",
          "Mauritius",
          "Mayotte",
          "Mexico",
          "Micronesia",
          "Moldova",
          "Monaco",
          "Mongolia",
          "Montenegro",
          "Montserrat",
          "Morocco",
          "Mozambique",
          "Myanmar",
          "Namibia",
          "Nauru",
          "Nepal",
          "Netherlands",
          "New Caledonia",
          "New Zealand",
          "Nicaragua",
          "Niger",
          "Nigeria",
          "Niue",
          "North Korea",
          "North Macedonia",
          "Northern Mariana Islands",
          "Norway",
          "Oman",
          "Pakistan",
          "Palau",
          "Palestine",
          "Panama",
          "Papua New Guinea",
          "Paraguay",
          "Peru",
          "Philippines",
          "Poland",
          "Portugal",
          "Puerto Rico",
          "Qatar",
          "Republic of the Congo",
          "Reunion",
          "Romania",
          "Russia",
          "Rwanda",
          "Saint Barthelemy",
          "Saint Kitts and Nevis",
          "Saint Lucia",
          "Saint Martin",
          "Saint Pierre and Miquelon",
          "Saint Vincent and the Grenadines",
          "Samoa",
          "San Marino",
          "Sao Tome and Principe",
          "Saudi Arabia",
          "Senegal",
          "Serbia",
          "Seychelles",
          "Sierra Leone",
          "Singapore",
          "Sint Maarten",
          "Slovakia",
          "Slovenia",
          "Solomon Islands",
          "Somalia",
          "South Africa",
          "South Korea",
          "South Sudan",
          "Spain",
          "Sri Lanka",
          "Sudan",
          "Suriname",
          "Sweden",
          "Switzerland",
          "Syria",
          "Taiwan",
          "Tajikistan",
          "Tanzania",
          "Thailand",
          "Timor-Leste",
          "Togo",
          "Tokelau",
          "Tonga",
          "Trinidad and Tobago",
          "Tunisia",
          "Turkey",
          "Turkmenistan",
          "Turks and Caicos Islands",
          "Tuvalu",
          "Uganda",
          "Ukraine",
          "United Arab Emirates",
          "United Kingdom",
          "United States",
          "United States Virgin Islands",
          "Uruguay",
          "Uzbekistan",
          "Vanuatu",
          "Vatican City",
          "Venezuela",
          "Vietnam",
          "Wallis and Futuna",
          "Western Sahara",
          "Yemen",
          "Zambia",
          "Zimbabwe"
         ],
         "locationmode": "country names",
         "locations": [
          "Afghanistan",
          "Albania",
          "Algeria",
          "American Samoa",
          "Andorra",
          "Angola",
          "Anguilla",
          "Antigua and Barbuda",
          "Argentina",
          "Armenia",
          "Aruba",
          "Australia",
          "Austria",
          "Azerbaijan",
          "Bahamas",
          "Bahrain",
          "Bangladesh",
          "Barbados",
          "Belarus",
          "Belgium",
          "Belize",
          "Benin",
          "Bermuda",
          "Bhutan",
          "Bolivia",
          "Bosnia and Herzegovina",
          "Botswana",
          "Brazil",
          "British Virgin Islands",
          "Brunei",
          "Bulgaria",
          "Burkina Faso",
          "Burundi",
          "Cambodia",
          "Cameroon",
          "Canada",
          "Cape Verde",
          "Cayman Islands",
          "Central African Republic",
          "Chad",
          "Chile",
          "China",
          "Colombia",
          "Comoros",
          "Cook Islands",
          "Costa Rica",
          "Croatia",
          "Cuba",
          "Curacao",
          "Cyprus",
          "Czech Republic",
          "Denmark",
          "Djibouti",
          "Dominica",
          "Dominican Republic",
          "DR Congo",
          "Ecuador",
          "Egypt",
          "El Salvador",
          "Equatorial Guinea",
          "Eritrea",
          "Estonia",
          "Eswatini",
          "Ethiopia",
          "Falkland Islands",
          "Faroe Islands",
          "Fiji",
          "Finland",
          "France",
          "French Guiana",
          "French Polynesia",
          "Gabon",
          "Gambia",
          "Georgia",
          "Germany",
          "Ghana",
          "Gibraltar",
          "Greece",
          "Greenland",
          "Grenada",
          "Guadeloupe",
          "Guam",
          "Guatemala",
          "Guernsey",
          "Guinea",
          "Guinea-Bissau",
          "Guyana",
          "Haiti",
          "Honduras",
          "Hong Kong",
          "Hungary",
          "Iceland",
          "India",
          "Indonesia",
          "Iran",
          "Iraq",
          "Ireland",
          "Isle of Man",
          "Israel",
          "Italy",
          "Ivory Coast",
          "Jamaica",
          "Japan",
          "Jersey",
          "Jordan",
          "Kazakhstan",
          "Kenya",
          "Kiribati",
          "Kuwait",
          "Kyrgyzstan",
          "Laos",
          "Latvia",
          "Lebanon",
          "Lesotho",
          "Liberia",
          "Libya",
          "Liechtenstein",
          "Lithuania",
          "Luxembourg",
          "Macau",
          "Madagascar",
          "Malawi",
          "Malaysia",
          "Maldives",
          "Mali",
          "Malta",
          "Marshall Islands",
          "Martinique",
          "Mauritania",
          "Mauritius",
          "Mayotte",
          "Mexico",
          "Micronesia",
          "Moldova",
          "Monaco",
          "Mongolia",
          "Montenegro",
          "Montserrat",
          "Morocco",
          "Mozambique",
          "Myanmar",
          "Namibia",
          "Nauru",
          "Nepal",
          "Netherlands",
          "New Caledonia",
          "New Zealand",
          "Nicaragua",
          "Niger",
          "Nigeria",
          "Niue",
          "North Korea",
          "North Macedonia",
          "Northern Mariana Islands",
          "Norway",
          "Oman",
          "Pakistan",
          "Palau",
          "Palestine",
          "Panama",
          "Papua New Guinea",
          "Paraguay",
          "Peru",
          "Philippines",
          "Poland",
          "Portugal",
          "Puerto Rico",
          "Qatar",
          "Republic of the Congo",
          "Reunion",
          "Romania",
          "Russia",
          "Rwanda",
          "Saint Barthelemy",
          "Saint Kitts and Nevis",
          "Saint Lucia",
          "Saint Martin",
          "Saint Pierre and Miquelon",
          "Saint Vincent and the Grenadines",
          "Samoa",
          "San Marino",
          "Sao Tome and Principe",
          "Saudi Arabia",
          "Senegal",
          "Serbia",
          "Seychelles",
          "Sierra Leone",
          "Singapore",
          "Sint Maarten",
          "Slovakia",
          "Slovenia",
          "Solomon Islands",
          "Somalia",
          "South Africa",
          "South Korea",
          "South Sudan",
          "Spain",
          "Sri Lanka",
          "Sudan",
          "Suriname",
          "Sweden",
          "Switzerland",
          "Syria",
          "Taiwan",
          "Tajikistan",
          "Tanzania",
          "Thailand",
          "Timor-Leste",
          "Togo",
          "Tokelau",
          "Tonga",
          "Trinidad and Tobago",
          "Tunisia",
          "Turkey",
          "Turkmenistan",
          "Turks and Caicos Islands",
          "Tuvalu",
          "Uganda",
          "Ukraine",
          "United Arab Emirates",
          "United Kingdom",
          "United States",
          "United States Virgin Islands",
          "Uruguay",
          "Uzbekistan",
          "Vanuatu",
          "Vatican City",
          "Venezuela",
          "Vietnam",
          "Wallis and Futuna",
          "Western Sahara",
          "Yemen",
          "Zambia",
          "Zimbabwe"
         ],
         "name": "",
         "z": [
          41128771,
          2842321,
          44903225,
          44273,
          79824,
          35588987,
          15857,
          93763,
          45510318,
          2780469,
          106445,
          26177413,
          8939617,
          10358074,
          409984,
          1472233,
          171186372,
          281635,
          9534954,
          11655930,
          405272,
          13352864,
          64184,
          782455,
          12224110,
          3233526,
          2630296,
          215313498,
          31305,
          449002,
          6781953,
          22673762,
          12889576,
          16767842,
          27914536,
          38454327,
          593149,
          68706,
          5579144,
          17723315,
          19603733,
          1425887337,
          51874024,
          836774,
          17011,
          5180829,
          4030358,
          11212191,
          191163,
          1251488,
          10493986,
          5882261,
          1120849,
          72737,
          11228821,
          99010212,
          18001000,
          110990103,
          6336392,
          1674908,
          3684032,
          1326062,
          1201670,
          123379924,
          3780,
          53090,
          929766,
          5540745,
          64626628,
          304557,
          306279,
          2388992,
          2705992,
          3744385,
          83369843,
          33475870,
          32649,
          10384971,
          56466,
          125438,
          395752,
          171774,
          17843908,
          63301,
          13859341,
          2105566,
          808726,
          11584996,
          10432860,
          7488865,
          9967308,
          372899,
          1417173173,
          275501339,
          88550570,
          44496122,
          5023109,
          84519,
          9038309,
          59037474,
          28160542,
          2827377,
          123951692,
          110778,
          11285869,
          19397998,
          54027487,
          131232,
          4268873,
          6630623,
          7529475,
          1850651,
          5489739,
          2305825,
          5302681,
          6812341,
          39327,
          2750055,
          647599,
          695168,
          29611714,
          20405317,
          33938221,
          523787,
          22593590,
          533286,
          41569,
          367507,
          4736139,
          1299469,
          326101,
          127504125,
          114164,
          3272996,
          36469,
          3398366,
          627082,
          4390,
          37457971,
          32969517,
          54179306,
          2567012,
          12668,
          30547580,
          17564014,
          289950,
          5185288,
          6948392,
          26207977,
          218541212,
          1934,
          26069416,
          2093599,
          49551,
          5434319,
          4576298,
          235824862,
          18055,
          5250072,
          4408581,
          10142619,
          6780744,
          34049588,
          115559009,
          39857145,
          10270865,
          3252407,
          2695122,
          5970424,
          974052,
          19659267,
          144713314,
          13776698,
          10967,
          47657,
          179857,
          31791,
          5862,
          103948,
          222382,
          33660,
          227380,
          36408820,
          17316449,
          7221365,
          107118,
          8605718,
          5975689,
          44175,
          5643453,
          2119844,
          724273,
          17597511,
          59893885,
          51815810,
          10913164,
          47558630,
          21832143,
          46874204,
          618040,
          10549347,
          8740472,
          22125249,
          23893394,
          9952787,
          65497748,
          71697030,
          1341296,
          8848699,
          1871,
          106858,
          1531044,
          12356117,
          85341241,
          6430770,
          45703,
          11312,
          47249585,
          39701739,
          9441129,
          67508936,
          338289857,
          99465,
          3422794,
          34627652,
          326740,
          510,
          28301696,
          98186856,
          11572,
          575986,
          33696614,
          20017675,
          16320537
         ],
         "type": "choropleth"
        }
       ],
       "layout": {
        "template": {
         "data": {
          "bar": [
           {
            "error_x": {
             "color": "#f2f5fa"
            },
            "error_y": {
             "color": "#f2f5fa"
            },
            "marker": {
             "line": {
              "color": "rgb(17,17,17)",
              "width": 0.5
             },
             "pattern": {
              "fillmode": "overlay",
              "size": 10,
              "solidity": 0.2
             }
            },
            "type": "bar"
           }
          ],
          "barpolar": [
           {
            "marker": {
             "line": {
              "color": "rgb(17,17,17)",
              "width": 0.5
             },
             "pattern": {
              "fillmode": "overlay",
              "size": 10,
              "solidity": 0.2
             }
            },
            "type": "barpolar"
           }
          ],
          "carpet": [
           {
            "aaxis": {
             "endlinecolor": "#A2B1C6",
             "gridcolor": "#506784",
             "linecolor": "#506784",
             "minorgridcolor": "#506784",
             "startlinecolor": "#A2B1C6"
            },
            "baxis": {
             "endlinecolor": "#A2B1C6",
             "gridcolor": "#506784",
             "linecolor": "#506784",
             "minorgridcolor": "#506784",
             "startlinecolor": "#A2B1C6"
            },
            "type": "carpet"
           }
          ],
          "choropleth": [
           {
            "colorbar": {
             "outlinewidth": 0,
             "ticks": ""
            },
            "type": "choropleth"
           }
          ],
          "contour": [
           {
            "colorbar": {
             "outlinewidth": 0,
             "ticks": ""
            },
            "colorscale": [
             [
              0.0,
              "#0d0887"
             ],
             [
              0.1111111111111111,
              "#46039f"
             ],
             [
              0.2222222222222222,
              "#7201a8"
             ],
             [
              0.3333333333333333,
              "#9c179e"
             ],
             [
              0.4444444444444444,
              "#bd3786"
             ],
             [
              0.5555555555555556,
              "#d8576b"
             ],
             [
              0.6666666666666666,
              "#ed7953"
             ],
             [
              0.7777777777777778,
              "#fb9f3a"
             ],
             [
              0.8888888888888888,
              "#fdca26"
             ],
             [
              1.0,
              "#f0f921"
             ]
            ],
            "type": "contour"
           }
          ],
          "contourcarpet": [
           {
            "colorbar": {
             "outlinewidth": 0,
             "ticks": ""
            },
            "type": "contourcarpet"
           }
          ],
          "heatmap": [
           {
            "colorbar": {
             "outlinewidth": 0,
             "ticks": ""
            },
            "colorscale": [
             [
              0.0,
              "#0d0887"
             ],
             [
              0.1111111111111111,
              "#46039f"
             ],
             [
              0.2222222222222222,
              "#7201a8"
             ],
             [
              0.3333333333333333,
              "#9c179e"
             ],
             [
              0.4444444444444444,
              "#bd3786"
             ],
             [
              0.5555555555555556,
              "#d8576b"
             ],
             [
              0.6666666666666666,
              "#ed7953"
             ],
             [
              0.7777777777777778,
              "#fb9f3a"
             ],
             [
              0.8888888888888888,
              "#fdca26"
             ],
             [
              1.0,
              "#f0f921"
             ]
            ],
            "type": "heatmap"
           }
          ],
          "heatmapgl": [
           {
            "colorbar": {
             "outlinewidth": 0,
             "ticks": ""
            },
            "colorscale": [
             [
              0.0,
              "#0d0887"
             ],
             [
              0.1111111111111111,
              "#46039f"
             ],
             [
              0.2222222222222222,
              "#7201a8"
             ],
             [
              0.3333333333333333,
              "#9c179e"
             ],
             [
              0.4444444444444444,
              "#bd3786"
             ],
             [
              0.5555555555555556,
              "#d8576b"
             ],
             [
              0.6666666666666666,
              "#ed7953"
             ],
             [
              0.7777777777777778,
              "#fb9f3a"
             ],
             [
              0.8888888888888888,
              "#fdca26"
             ],
             [
              1.0,
              "#f0f921"
             ]
            ],
            "type": "heatmapgl"
           }
          ],
          "histogram": [
           {
            "marker": {
             "pattern": {
              "fillmode": "overlay",
              "size": 10,
              "solidity": 0.2
             }
            },
            "type": "histogram"
           }
          ],
          "histogram2d": [
           {
            "colorbar": {
             "outlinewidth": 0,
             "ticks": ""
            },
            "colorscale": [
             [
              0.0,
              "#0d0887"
             ],
             [
              0.1111111111111111,
              "#46039f"
             ],
             [
              0.2222222222222222,
              "#7201a8"
             ],
             [
              0.3333333333333333,
              "#9c179e"
             ],
             [
              0.4444444444444444,
              "#bd3786"
             ],
             [
              0.5555555555555556,
              "#d8576b"
             ],
             [
              0.6666666666666666,
              "#ed7953"
             ],
             [
              0.7777777777777778,
              "#fb9f3a"
             ],
             [
              0.8888888888888888,
              "#fdca26"
             ],
             [
              1.0,
              "#f0f921"
             ]
            ],
            "type": "histogram2d"
           }
          ],
          "histogram2dcontour": [
           {
            "colorbar": {
             "outlinewidth": 0,
             "ticks": ""
            },
            "colorscale": [
             [
              0.0,
              "#0d0887"
             ],
             [
              0.1111111111111111,
              "#46039f"
             ],
             [
              0.2222222222222222,
              "#7201a8"
             ],
             [
              0.3333333333333333,
              "#9c179e"
             ],
             [
              0.4444444444444444,
              "#bd3786"
             ],
             [
              0.5555555555555556,
              "#d8576b"
             ],
             [
              0.6666666666666666,
              "#ed7953"
             ],
             [
              0.7777777777777778,
              "#fb9f3a"
             ],
             [
              0.8888888888888888,
              "#fdca26"
             ],
             [
              1.0,
              "#f0f921"
             ]
            ],
            "type": "histogram2dcontour"
           }
          ],
          "mesh3d": [
           {
            "colorbar": {
             "outlinewidth": 0,
             "ticks": ""
            },
            "type": "mesh3d"
           }
          ],
          "parcoords": [
           {
            "line": {
             "colorbar": {
              "outlinewidth": 0,
              "ticks": ""
             }
            },
            "type": "parcoords"
           }
          ],
          "pie": [
           {
            "automargin": true,
            "type": "pie"
           }
          ],
          "scatter": [
           {
            "marker": {
             "line": {
              "color": "#283442"
             }
            },
            "type": "scatter"
           }
          ],
          "scatter3d": [
           {
            "line": {
             "colorbar": {
              "outlinewidth": 0,
              "ticks": ""
             }
            },
            "marker": {
             "colorbar": {
              "outlinewidth": 0,
              "ticks": ""
             }
            },
            "type": "scatter3d"
           }
          ],
          "scattercarpet": [
           {
            "marker": {
             "colorbar": {
              "outlinewidth": 0,
              "ticks": ""
             }
            },
            "type": "scattercarpet"
           }
          ],
          "scattergeo": [
           {
            "marker": {
             "colorbar": {
              "outlinewidth": 0,
              "ticks": ""
             }
            },
            "type": "scattergeo"
           }
          ],
          "scattergl": [
           {
            "marker": {
             "line": {
              "color": "#283442"
             }
            },
            "type": "scattergl"
           }
          ],
          "scattermapbox": [
           {
            "marker": {
             "colorbar": {
              "outlinewidth": 0,
              "ticks": ""
             }
            },
            "type": "scattermapbox"
           }
          ],
          "scatterpolar": [
           {
            "marker": {
             "colorbar": {
              "outlinewidth": 0,
              "ticks": ""
             }
            },
            "type": "scatterpolar"
           }
          ],
          "scatterpolargl": [
           {
            "marker": {
             "colorbar": {
              "outlinewidth": 0,
              "ticks": ""
             }
            },
            "type": "scatterpolargl"
           }
          ],
          "scatterternary": [
           {
            "marker": {
             "colorbar": {
              "outlinewidth": 0,
              "ticks": ""
             }
            },
            "type": "scatterternary"
           }
          ],
          "surface": [
           {
            "colorbar": {
             "outlinewidth": 0,
             "ticks": ""
            },
            "colorscale": [
             [
              0.0,
              "#0d0887"
             ],
             [
              0.1111111111111111,
              "#46039f"
             ],
             [
              0.2222222222222222,
              "#7201a8"
             ],
             [
              0.3333333333333333,
              "#9c179e"
             ],
             [
              0.4444444444444444,
              "#bd3786"
             ],
             [
              0.5555555555555556,
              "#d8576b"
             ],
             [
              0.6666666666666666,
              "#ed7953"
             ],
             [
              0.7777777777777778,
              "#fb9f3a"
             ],
             [
              0.8888888888888888,
              "#fdca26"
             ],
             [
              1.0,
              "#f0f921"
             ]
            ],
            "type": "surface"
           }
          ],
          "table": [
           {
            "cells": {
             "fill": {
              "color": "#506784"
             },
             "line": {
              "color": "rgb(17,17,17)"
             }
            },
            "header": {
             "fill": {
              "color": "#2a3f5f"
             },
             "line": {
              "color": "rgb(17,17,17)"
             }
            },
            "type": "table"
           }
          ]
         },
         "layout": {
          "annotationdefaults": {
           "arrowcolor": "#f2f5fa",
           "arrowhead": 0,
           "arrowwidth": 1
          },
          "autotypenumbers": "strict",
          "coloraxis": {
           "colorbar": {
            "outlinewidth": 0,
            "ticks": ""
           }
          },
          "colorscale": {
           "diverging": [
            [
             0,
             "#8e0152"
            ],
            [
             0.1,
             "#c51b7d"
            ],
            [
             0.2,
             "#de77ae"
            ],
            [
             0.3,
             "#f1b6da"
            ],
            [
             0.4,
             "#fde0ef"
            ],
            [
             0.5,
             "#f7f7f7"
            ],
            [
             0.6,
             "#e6f5d0"
            ],
            [
             0.7,
             "#b8e186"
            ],
            [
             0.8,
             "#7fbc41"
            ],
            [
             0.9,
             "#4d9221"
            ],
            [
             1,
             "#276419"
            ]
           ],
           "sequential": [
            [
             0.0,
             "#0d0887"
            ],
            [
             0.1111111111111111,
             "#46039f"
            ],
            [
             0.2222222222222222,
             "#7201a8"
            ],
            [
             0.3333333333333333,
             "#9c179e"
            ],
            [
             0.4444444444444444,
             "#bd3786"
            ],
            [
             0.5555555555555556,
             "#d8576b"
            ],
            [
             0.6666666666666666,
             "#ed7953"
            ],
            [
             0.7777777777777778,
             "#fb9f3a"
            ],
            [
             0.8888888888888888,
             "#fdca26"
            ],
            [
             1.0,
             "#f0f921"
            ]
           ],
           "sequentialminus": [
            [
             0.0,
             "#0d0887"
            ],
            [
             0.1111111111111111,
             "#46039f"
            ],
            [
             0.2222222222222222,
             "#7201a8"
            ],
            [
             0.3333333333333333,
             "#9c179e"
            ],
            [
             0.4444444444444444,
             "#bd3786"
            ],
            [
             0.5555555555555556,
             "#d8576b"
            ],
            [
             0.6666666666666666,
             "#ed7953"
            ],
            [
             0.7777777777777778,
             "#fb9f3a"
            ],
            [
             0.8888888888888888,
             "#fdca26"
            ],
            [
             1.0,
             "#f0f921"
            ]
           ]
          },
          "colorway": [
           "#636efa",
           "#EF553B",
           "#00cc96",
           "#ab63fa",
           "#FFA15A",
           "#19d3f3",
           "#FF6692",
           "#B6E880",
           "#FF97FF",
           "#FECB52"
          ],
          "font": {
           "color": "#f2f5fa"
          },
          "geo": {
           "bgcolor": "rgb(17,17,17)",
           "lakecolor": "rgb(17,17,17)",
           "landcolor": "rgb(17,17,17)",
           "showlakes": true,
           "showland": true,
           "subunitcolor": "#506784"
          },
          "hoverlabel": {
           "align": "left"
          },
          "hovermode": "closest",
          "mapbox": {
           "style": "dark"
          },
          "paper_bgcolor": "rgb(17,17,17)",
          "plot_bgcolor": "rgb(17,17,17)",
          "polar": {
           "angularaxis": {
            "gridcolor": "#506784",
            "linecolor": "#506784",
            "ticks": ""
           },
           "bgcolor": "rgb(17,17,17)",
           "radialaxis": {
            "gridcolor": "#506784",
            "linecolor": "#506784",
            "ticks": ""
           }
          },
          "scene": {
           "xaxis": {
            "backgroundcolor": "rgb(17,17,17)",
            "gridcolor": "#506784",
            "gridwidth": 2,
            "linecolor": "#506784",
            "showbackground": true,
            "ticks": "",
            "zerolinecolor": "#C8D4E3"
           },
           "yaxis": {
            "backgroundcolor": "rgb(17,17,17)",
            "gridcolor": "#506784",
            "gridwidth": 2,
            "linecolor": "#506784",
            "showbackground": true,
            "ticks": "",
            "zerolinecolor": "#C8D4E3"
           },
           "zaxis": {
            "backgroundcolor": "rgb(17,17,17)",
            "gridcolor": "#506784",
            "gridwidth": 2,
            "linecolor": "#506784",
            "showbackground": true,
            "ticks": "",
            "zerolinecolor": "#C8D4E3"
           }
          },
          "shapedefaults": {
           "line": {
            "color": "#f2f5fa"
           }
          },
          "sliderdefaults": {
           "bgcolor": "#C8D4E3",
           "bordercolor": "rgb(17,17,17)",
           "borderwidth": 1,
           "tickwidth": 0
          },
          "ternary": {
           "aaxis": {
            "gridcolor": "#506784",
            "linecolor": "#506784",
            "ticks": ""
           },
           "baxis": {
            "gridcolor": "#506784",
            "linecolor": "#506784",
            "ticks": ""
           },
           "bgcolor": "rgb(17,17,17)",
           "caxis": {
            "gridcolor": "#506784",
            "linecolor": "#506784",
            "ticks": ""
           }
          },
          "title": {
           "x": 0.05
          },
          "updatemenudefaults": {
           "bgcolor": "#506784",
           "borderwidth": 0
          },
          "xaxis": {
           "automargin": true,
           "gridcolor": "#283442",
           "linecolor": "#506784",
           "ticks": "",
           "title": {
            "standoff": 15
           },
           "zerolinecolor": "#283442",
           "zerolinewidth": 2
          },
          "yaxis": {
           "automargin": true,
           "gridcolor": "#283442",
           "linecolor": "#506784",
           "ticks": "",
           "title": {
            "standoff": 15
           },
           "zerolinecolor": "#283442",
           "zerolinewidth": 2
          }
         }
        },
        "geo": {
         "domain": {
          "x": [
           0.0,
           1.0
          ],
          "y": [
           0.0,
           1.0
          ]
         },
         "center": {}
        },
        "coloraxis": {
         "colorbar": {
          "title": {
           "text": "2022 Population"
          }
         },
         "colorscale": [
          [
           0.0,
           "#440154"
          ],
          [
           0.1111111111111111,
           "#482878"
          ],
          [
           0.2222222222222222,
           "#3e4989"
          ],
          [
           0.3333333333333333,
           "#31688e"
          ],
          [
           0.4444444444444444,
           "#26828e"
          ],
          [
           0.5555555555555556,
           "#1f9e89"
          ],
          [
           0.6666666666666666,
           "#35b779"
          ],
          [
           0.7777777777777778,
           "#6ece58"
          ],
          [
           0.8888888888888888,
           "#b5de2b"
          ],
          [
           1.0,
           "#fde725"
          ]
         ]
        },
        "legend": {
         "tracegroupgap": 0
        },
        "margin": {
         "t": 60
        }
       },
       "config": {
        "plotlyServerURL": "https://plot.ly"
       }
      },
      "text/html": "<div>                            <div id=\"f0157de7-1b6f-406c-9e80-6dbf6371334e\" class=\"plotly-graph-div\" style=\"height:525px; width:100%;\"></div>            <script type=\"text/javascript\">                require([\"plotly\"], function(Plotly) {                    window.PLOTLYENV=window.PLOTLYENV || {};                                    if (document.getElementById(\"f0157de7-1b6f-406c-9e80-6dbf6371334e\")) {                    Plotly.newPlot(                        \"f0157de7-1b6f-406c-9e80-6dbf6371334e\",                        [{\"coloraxis\":\"coloraxis\",\"geo\":\"geo\",\"hovertemplate\":\"<b>%{hovertext}</b><br><br>Country=%{location}<br>2022 Population=%{z}<extra></extra>\",\"hovertext\":[\"Afghanistan\",\"Albania\",\"Algeria\",\"American Samoa\",\"Andorra\",\"Angola\",\"Anguilla\",\"Antigua and Barbuda\",\"Argentina\",\"Armenia\",\"Aruba\",\"Australia\",\"Austria\",\"Azerbaijan\",\"Bahamas\",\"Bahrain\",\"Bangladesh\",\"Barbados\",\"Belarus\",\"Belgium\",\"Belize\",\"Benin\",\"Bermuda\",\"Bhutan\",\"Bolivia\",\"Bosnia and Herzegovina\",\"Botswana\",\"Brazil\",\"British Virgin Islands\",\"Brunei\",\"Bulgaria\",\"Burkina Faso\",\"Burundi\",\"Cambodia\",\"Cameroon\",\"Canada\",\"Cape Verde\",\"Cayman Islands\",\"Central African Republic\",\"Chad\",\"Chile\",\"China\",\"Colombia\",\"Comoros\",\"Cook Islands\",\"Costa Rica\",\"Croatia\",\"Cuba\",\"Curacao\",\"Cyprus\",\"Czech Republic\",\"Denmark\",\"Djibouti\",\"Dominica\",\"Dominican Republic\",\"DR Congo\",\"Ecuador\",\"Egypt\",\"El Salvador\",\"Equatorial Guinea\",\"Eritrea\",\"Estonia\",\"Eswatini\",\"Ethiopia\",\"Falkland Islands\",\"Faroe Islands\",\"Fiji\",\"Finland\",\"France\",\"French Guiana\",\"French Polynesia\",\"Gabon\",\"Gambia\",\"Georgia\",\"Germany\",\"Ghana\",\"Gibraltar\",\"Greece\",\"Greenland\",\"Grenada\",\"Guadeloupe\",\"Guam\",\"Guatemala\",\"Guernsey\",\"Guinea\",\"Guinea-Bissau\",\"Guyana\",\"Haiti\",\"Honduras\",\"Hong Kong\",\"Hungary\",\"Iceland\",\"India\",\"Indonesia\",\"Iran\",\"Iraq\",\"Ireland\",\"Isle of Man\",\"Israel\",\"Italy\",\"Ivory Coast\",\"Jamaica\",\"Japan\",\"Jersey\",\"Jordan\",\"Kazakhstan\",\"Kenya\",\"Kiribati\",\"Kuwait\",\"Kyrgyzstan\",\"Laos\",\"Latvia\",\"Lebanon\",\"Lesotho\",\"Liberia\",\"Libya\",\"Liechtenstein\",\"Lithuania\",\"Luxembourg\",\"Macau\",\"Madagascar\",\"Malawi\",\"Malaysia\",\"Maldives\",\"Mali\",\"Malta\",\"Marshall Islands\",\"Martinique\",\"Mauritania\",\"Mauritius\",\"Mayotte\",\"Mexico\",\"Micronesia\",\"Moldova\",\"Monaco\",\"Mongolia\",\"Montenegro\",\"Montserrat\",\"Morocco\",\"Mozambique\",\"Myanmar\",\"Namibia\",\"Nauru\",\"Nepal\",\"Netherlands\",\"New Caledonia\",\"New Zealand\",\"Nicaragua\",\"Niger\",\"Nigeria\",\"Niue\",\"North Korea\",\"North Macedonia\",\"Northern Mariana Islands\",\"Norway\",\"Oman\",\"Pakistan\",\"Palau\",\"Palestine\",\"Panama\",\"Papua New Guinea\",\"Paraguay\",\"Peru\",\"Philippines\",\"Poland\",\"Portugal\",\"Puerto Rico\",\"Qatar\",\"Republic of the Congo\",\"Reunion\",\"Romania\",\"Russia\",\"Rwanda\",\"Saint Barthelemy\",\"Saint Kitts and Nevis\",\"Saint Lucia\",\"Saint Martin\",\"Saint Pierre and Miquelon\",\"Saint Vincent and the Grenadines\",\"Samoa\",\"San Marino\",\"Sao Tome and Principe\",\"Saudi Arabia\",\"Senegal\",\"Serbia\",\"Seychelles\",\"Sierra Leone\",\"Singapore\",\"Sint Maarten\",\"Slovakia\",\"Slovenia\",\"Solomon Islands\",\"Somalia\",\"South Africa\",\"South Korea\",\"South Sudan\",\"Spain\",\"Sri Lanka\",\"Sudan\",\"Suriname\",\"Sweden\",\"Switzerland\",\"Syria\",\"Taiwan\",\"Tajikistan\",\"Tanzania\",\"Thailand\",\"Timor-Leste\",\"Togo\",\"Tokelau\",\"Tonga\",\"Trinidad and Tobago\",\"Tunisia\",\"Turkey\",\"Turkmenistan\",\"Turks and Caicos Islands\",\"Tuvalu\",\"Uganda\",\"Ukraine\",\"United Arab Emirates\",\"United Kingdom\",\"United States\",\"United States Virgin Islands\",\"Uruguay\",\"Uzbekistan\",\"Vanuatu\",\"Vatican City\",\"Venezuela\",\"Vietnam\",\"Wallis and Futuna\",\"Western Sahara\",\"Yemen\",\"Zambia\",\"Zimbabwe\"],\"locationmode\":\"country names\",\"locations\":[\"Afghanistan\",\"Albania\",\"Algeria\",\"American Samoa\",\"Andorra\",\"Angola\",\"Anguilla\",\"Antigua and Barbuda\",\"Argentina\",\"Armenia\",\"Aruba\",\"Australia\",\"Austria\",\"Azerbaijan\",\"Bahamas\",\"Bahrain\",\"Bangladesh\",\"Barbados\",\"Belarus\",\"Belgium\",\"Belize\",\"Benin\",\"Bermuda\",\"Bhutan\",\"Bolivia\",\"Bosnia and Herzegovina\",\"Botswana\",\"Brazil\",\"British Virgin Islands\",\"Brunei\",\"Bulgaria\",\"Burkina Faso\",\"Burundi\",\"Cambodia\",\"Cameroon\",\"Canada\",\"Cape Verde\",\"Cayman Islands\",\"Central African Republic\",\"Chad\",\"Chile\",\"China\",\"Colombia\",\"Comoros\",\"Cook Islands\",\"Costa Rica\",\"Croatia\",\"Cuba\",\"Curacao\",\"Cyprus\",\"Czech Republic\",\"Denmark\",\"Djibouti\",\"Dominica\",\"Dominican Republic\",\"DR Congo\",\"Ecuador\",\"Egypt\",\"El Salvador\",\"Equatorial Guinea\",\"Eritrea\",\"Estonia\",\"Eswatini\",\"Ethiopia\",\"Falkland Islands\",\"Faroe Islands\",\"Fiji\",\"Finland\",\"France\",\"French Guiana\",\"French Polynesia\",\"Gabon\",\"Gambia\",\"Georgia\",\"Germany\",\"Ghana\",\"Gibraltar\",\"Greece\",\"Greenland\",\"Grenada\",\"Guadeloupe\",\"Guam\",\"Guatemala\",\"Guernsey\",\"Guinea\",\"Guinea-Bissau\",\"Guyana\",\"Haiti\",\"Honduras\",\"Hong Kong\",\"Hungary\",\"Iceland\",\"India\",\"Indonesia\",\"Iran\",\"Iraq\",\"Ireland\",\"Isle of Man\",\"Israel\",\"Italy\",\"Ivory Coast\",\"Jamaica\",\"Japan\",\"Jersey\",\"Jordan\",\"Kazakhstan\",\"Kenya\",\"Kiribati\",\"Kuwait\",\"Kyrgyzstan\",\"Laos\",\"Latvia\",\"Lebanon\",\"Lesotho\",\"Liberia\",\"Libya\",\"Liechtenstein\",\"Lithuania\",\"Luxembourg\",\"Macau\",\"Madagascar\",\"Malawi\",\"Malaysia\",\"Maldives\",\"Mali\",\"Malta\",\"Marshall Islands\",\"Martinique\",\"Mauritania\",\"Mauritius\",\"Mayotte\",\"Mexico\",\"Micronesia\",\"Moldova\",\"Monaco\",\"Mongolia\",\"Montenegro\",\"Montserrat\",\"Morocco\",\"Mozambique\",\"Myanmar\",\"Namibia\",\"Nauru\",\"Nepal\",\"Netherlands\",\"New Caledonia\",\"New Zealand\",\"Nicaragua\",\"Niger\",\"Nigeria\",\"Niue\",\"North Korea\",\"North Macedonia\",\"Northern Mariana Islands\",\"Norway\",\"Oman\",\"Pakistan\",\"Palau\",\"Palestine\",\"Panama\",\"Papua New Guinea\",\"Paraguay\",\"Peru\",\"Philippines\",\"Poland\",\"Portugal\",\"Puerto Rico\",\"Qatar\",\"Republic of the Congo\",\"Reunion\",\"Romania\",\"Russia\",\"Rwanda\",\"Saint Barthelemy\",\"Saint Kitts and Nevis\",\"Saint Lucia\",\"Saint Martin\",\"Saint Pierre and Miquelon\",\"Saint Vincent and the Grenadines\",\"Samoa\",\"San Marino\",\"Sao Tome and Principe\",\"Saudi Arabia\",\"Senegal\",\"Serbia\",\"Seychelles\",\"Sierra Leone\",\"Singapore\",\"Sint Maarten\",\"Slovakia\",\"Slovenia\",\"Solomon Islands\",\"Somalia\",\"South Africa\",\"South Korea\",\"South Sudan\",\"Spain\",\"Sri Lanka\",\"Sudan\",\"Suriname\",\"Sweden\",\"Switzerland\",\"Syria\",\"Taiwan\",\"Tajikistan\",\"Tanzania\",\"Thailand\",\"Timor-Leste\",\"Togo\",\"Tokelau\",\"Tonga\",\"Trinidad and Tobago\",\"Tunisia\",\"Turkey\",\"Turkmenistan\",\"Turks and Caicos Islands\",\"Tuvalu\",\"Uganda\",\"Ukraine\",\"United Arab Emirates\",\"United Kingdom\",\"United States\",\"United States Virgin Islands\",\"Uruguay\",\"Uzbekistan\",\"Vanuatu\",\"Vatican City\",\"Venezuela\",\"Vietnam\",\"Wallis and Futuna\",\"Western Sahara\",\"Yemen\",\"Zambia\",\"Zimbabwe\"],\"name\":\"\",\"z\":[41128771,2842321,44903225,44273,79824,35588987,15857,93763,45510318,2780469,106445,26177413,8939617,10358074,409984,1472233,171186372,281635,9534954,11655930,405272,13352864,64184,782455,12224110,3233526,2630296,215313498,31305,449002,6781953,22673762,12889576,16767842,27914536,38454327,593149,68706,5579144,17723315,19603733,1425887337,51874024,836774,17011,5180829,4030358,11212191,191163,1251488,10493986,5882261,1120849,72737,11228821,99010212,18001000,110990103,6336392,1674908,3684032,1326062,1201670,123379924,3780,53090,929766,5540745,64626628,304557,306279,2388992,2705992,3744385,83369843,33475870,32649,10384971,56466,125438,395752,171774,17843908,63301,13859341,2105566,808726,11584996,10432860,7488865,9967308,372899,1417173173,275501339,88550570,44496122,5023109,84519,9038309,59037474,28160542,2827377,123951692,110778,11285869,19397998,54027487,131232,4268873,6630623,7529475,1850651,5489739,2305825,5302681,6812341,39327,2750055,647599,695168,29611714,20405317,33938221,523787,22593590,533286,41569,367507,4736139,1299469,326101,127504125,114164,3272996,36469,3398366,627082,4390,37457971,32969517,54179306,2567012,12668,30547580,17564014,289950,5185288,6948392,26207977,218541212,1934,26069416,2093599,49551,5434319,4576298,235824862,18055,5250072,4408581,10142619,6780744,34049588,115559009,39857145,10270865,3252407,2695122,5970424,974052,19659267,144713314,13776698,10967,47657,179857,31791,5862,103948,222382,33660,227380,36408820,17316449,7221365,107118,8605718,5975689,44175,5643453,2119844,724273,17597511,59893885,51815810,10913164,47558630,21832143,46874204,618040,10549347,8740472,22125249,23893394,9952787,65497748,71697030,1341296,8848699,1871,106858,1531044,12356117,85341241,6430770,45703,11312,47249585,39701739,9441129,67508936,338289857,99465,3422794,34627652,326740,510,28301696,98186856,11572,575986,33696614,20017675,16320537],\"type\":\"choropleth\"}],                        {\"template\":{\"data\":{\"bar\":[{\"error_x\":{\"color\":\"#f2f5fa\"},\"error_y\":{\"color\":\"#f2f5fa\"},\"marker\":{\"line\":{\"color\":\"rgb(17,17,17)\",\"width\":0.5},\"pattern\":{\"fillmode\":\"overlay\",\"size\":10,\"solidity\":0.2}},\"type\":\"bar\"}],\"barpolar\":[{\"marker\":{\"line\":{\"color\":\"rgb(17,17,17)\",\"width\":0.5},\"pattern\":{\"fillmode\":\"overlay\",\"size\":10,\"solidity\":0.2}},\"type\":\"barpolar\"}],\"carpet\":[{\"aaxis\":{\"endlinecolor\":\"#A2B1C6\",\"gridcolor\":\"#506784\",\"linecolor\":\"#506784\",\"minorgridcolor\":\"#506784\",\"startlinecolor\":\"#A2B1C6\"},\"baxis\":{\"endlinecolor\":\"#A2B1C6\",\"gridcolor\":\"#506784\",\"linecolor\":\"#506784\",\"minorgridcolor\":\"#506784\",\"startlinecolor\":\"#A2B1C6\"},\"type\":\"carpet\"}],\"choropleth\":[{\"colorbar\":{\"outlinewidth\":0,\"ticks\":\"\"},\"type\":\"choropleth\"}],\"contour\":[{\"colorbar\":{\"outlinewidth\":0,\"ticks\":\"\"},\"colorscale\":[[0.0,\"#0d0887\"],[0.1111111111111111,\"#46039f\"],[0.2222222222222222,\"#7201a8\"],[0.3333333333333333,\"#9c179e\"],[0.4444444444444444,\"#bd3786\"],[0.5555555555555556,\"#d8576b\"],[0.6666666666666666,\"#ed7953\"],[0.7777777777777778,\"#fb9f3a\"],[0.8888888888888888,\"#fdca26\"],[1.0,\"#f0f921\"]],\"type\":\"contour\"}],\"contourcarpet\":[{\"colorbar\":{\"outlinewidth\":0,\"ticks\":\"\"},\"type\":\"contourcarpet\"}],\"heatmap\":[{\"colorbar\":{\"outlinewidth\":0,\"ticks\":\"\"},\"colorscale\":[[0.0,\"#0d0887\"],[0.1111111111111111,\"#46039f\"],[0.2222222222222222,\"#7201a8\"],[0.3333333333333333,\"#9c179e\"],[0.4444444444444444,\"#bd3786\"],[0.5555555555555556,\"#d8576b\"],[0.6666666666666666,\"#ed7953\"],[0.7777777777777778,\"#fb9f3a\"],[0.8888888888888888,\"#fdca26\"],[1.0,\"#f0f921\"]],\"type\":\"heatmap\"}],\"heatmapgl\":[{\"colorbar\":{\"outlinewidth\":0,\"ticks\":\"\"},\"colorscale\":[[0.0,\"#0d0887\"],[0.1111111111111111,\"#46039f\"],[0.2222222222222222,\"#7201a8\"],[0.3333333333333333,\"#9c179e\"],[0.4444444444444444,\"#bd3786\"],[0.5555555555555556,\"#d8576b\"],[0.6666666666666666,\"#ed7953\"],[0.7777777777777778,\"#fb9f3a\"],[0.8888888888888888,\"#fdca26\"],[1.0,\"#f0f921\"]],\"type\":\"heatmapgl\"}],\"histogram\":[{\"marker\":{\"pattern\":{\"fillmode\":\"overlay\",\"size\":10,\"solidity\":0.2}},\"type\":\"histogram\"}],\"histogram2d\":[{\"colorbar\":{\"outlinewidth\":0,\"ticks\":\"\"},\"colorscale\":[[0.0,\"#0d0887\"],[0.1111111111111111,\"#46039f\"],[0.2222222222222222,\"#7201a8\"],[0.3333333333333333,\"#9c179e\"],[0.4444444444444444,\"#bd3786\"],[0.5555555555555556,\"#d8576b\"],[0.6666666666666666,\"#ed7953\"],[0.7777777777777778,\"#fb9f3a\"],[0.8888888888888888,\"#fdca26\"],[1.0,\"#f0f921\"]],\"type\":\"histogram2d\"}],\"histogram2dcontour\":[{\"colorbar\":{\"outlinewidth\":0,\"ticks\":\"\"},\"colorscale\":[[0.0,\"#0d0887\"],[0.1111111111111111,\"#46039f\"],[0.2222222222222222,\"#7201a8\"],[0.3333333333333333,\"#9c179e\"],[0.4444444444444444,\"#bd3786\"],[0.5555555555555556,\"#d8576b\"],[0.6666666666666666,\"#ed7953\"],[0.7777777777777778,\"#fb9f3a\"],[0.8888888888888888,\"#fdca26\"],[1.0,\"#f0f921\"]],\"type\":\"histogram2dcontour\"}],\"mesh3d\":[{\"colorbar\":{\"outlinewidth\":0,\"ticks\":\"\"},\"type\":\"mesh3d\"}],\"parcoords\":[{\"line\":{\"colorbar\":{\"outlinewidth\":0,\"ticks\":\"\"}},\"type\":\"parcoords\"}],\"pie\":[{\"automargin\":true,\"type\":\"pie\"}],\"scatter\":[{\"marker\":{\"line\":{\"color\":\"#283442\"}},\"type\":\"scatter\"}],\"scatter3d\":[{\"line\":{\"colorbar\":{\"outlinewidth\":0,\"ticks\":\"\"}},\"marker\":{\"colorbar\":{\"outlinewidth\":0,\"ticks\":\"\"}},\"type\":\"scatter3d\"}],\"scattercarpet\":[{\"marker\":{\"colorbar\":{\"outlinewidth\":0,\"ticks\":\"\"}},\"type\":\"scattercarpet\"}],\"scattergeo\":[{\"marker\":{\"colorbar\":{\"outlinewidth\":0,\"ticks\":\"\"}},\"type\":\"scattergeo\"}],\"scattergl\":[{\"marker\":{\"line\":{\"color\":\"#283442\"}},\"type\":\"scattergl\"}],\"scattermapbox\":[{\"marker\":{\"colorbar\":{\"outlinewidth\":0,\"ticks\":\"\"}},\"type\":\"scattermapbox\"}],\"scatterpolar\":[{\"marker\":{\"colorbar\":{\"outlinewidth\":0,\"ticks\":\"\"}},\"type\":\"scatterpolar\"}],\"scatterpolargl\":[{\"marker\":{\"colorbar\":{\"outlinewidth\":0,\"ticks\":\"\"}},\"type\":\"scatterpolargl\"}],\"scatterternary\":[{\"marker\":{\"colorbar\":{\"outlinewidth\":0,\"ticks\":\"\"}},\"type\":\"scatterternary\"}],\"surface\":[{\"colorbar\":{\"outlinewidth\":0,\"ticks\":\"\"},\"colorscale\":[[0.0,\"#0d0887\"],[0.1111111111111111,\"#46039f\"],[0.2222222222222222,\"#7201a8\"],[0.3333333333333333,\"#9c179e\"],[0.4444444444444444,\"#bd3786\"],[0.5555555555555556,\"#d8576b\"],[0.6666666666666666,\"#ed7953\"],[0.7777777777777778,\"#fb9f3a\"],[0.8888888888888888,\"#fdca26\"],[1.0,\"#f0f921\"]],\"type\":\"surface\"}],\"table\":[{\"cells\":{\"fill\":{\"color\":\"#506784\"},\"line\":{\"color\":\"rgb(17,17,17)\"}},\"header\":{\"fill\":{\"color\":\"#2a3f5f\"},\"line\":{\"color\":\"rgb(17,17,17)\"}},\"type\":\"table\"}]},\"layout\":{\"annotationdefaults\":{\"arrowcolor\":\"#f2f5fa\",\"arrowhead\":0,\"arrowwidth\":1},\"autotypenumbers\":\"strict\",\"coloraxis\":{\"colorbar\":{\"outlinewidth\":0,\"ticks\":\"\"}},\"colorscale\":{\"diverging\":[[0,\"#8e0152\"],[0.1,\"#c51b7d\"],[0.2,\"#de77ae\"],[0.3,\"#f1b6da\"],[0.4,\"#fde0ef\"],[0.5,\"#f7f7f7\"],[0.6,\"#e6f5d0\"],[0.7,\"#b8e186\"],[0.8,\"#7fbc41\"],[0.9,\"#4d9221\"],[1,\"#276419\"]],\"sequential\":[[0.0,\"#0d0887\"],[0.1111111111111111,\"#46039f\"],[0.2222222222222222,\"#7201a8\"],[0.3333333333333333,\"#9c179e\"],[0.4444444444444444,\"#bd3786\"],[0.5555555555555556,\"#d8576b\"],[0.6666666666666666,\"#ed7953\"],[0.7777777777777778,\"#fb9f3a\"],[0.8888888888888888,\"#fdca26\"],[1.0,\"#f0f921\"]],\"sequentialminus\":[[0.0,\"#0d0887\"],[0.1111111111111111,\"#46039f\"],[0.2222222222222222,\"#7201a8\"],[0.3333333333333333,\"#9c179e\"],[0.4444444444444444,\"#bd3786\"],[0.5555555555555556,\"#d8576b\"],[0.6666666666666666,\"#ed7953\"],[0.7777777777777778,\"#fb9f3a\"],[0.8888888888888888,\"#fdca26\"],[1.0,\"#f0f921\"]]},\"colorway\":[\"#636efa\",\"#EF553B\",\"#00cc96\",\"#ab63fa\",\"#FFA15A\",\"#19d3f3\",\"#FF6692\",\"#B6E880\",\"#FF97FF\",\"#FECB52\"],\"font\":{\"color\":\"#f2f5fa\"},\"geo\":{\"bgcolor\":\"rgb(17,17,17)\",\"lakecolor\":\"rgb(17,17,17)\",\"landcolor\":\"rgb(17,17,17)\",\"showlakes\":true,\"showland\":true,\"subunitcolor\":\"#506784\"},\"hoverlabel\":{\"align\":\"left\"},\"hovermode\":\"closest\",\"mapbox\":{\"style\":\"dark\"},\"paper_bgcolor\":\"rgb(17,17,17)\",\"plot_bgcolor\":\"rgb(17,17,17)\",\"polar\":{\"angularaxis\":{\"gridcolor\":\"#506784\",\"linecolor\":\"#506784\",\"ticks\":\"\"},\"bgcolor\":\"rgb(17,17,17)\",\"radialaxis\":{\"gridcolor\":\"#506784\",\"linecolor\":\"#506784\",\"ticks\":\"\"}},\"scene\":{\"xaxis\":{\"backgroundcolor\":\"rgb(17,17,17)\",\"gridcolor\":\"#506784\",\"gridwidth\":2,\"linecolor\":\"#506784\",\"showbackground\":true,\"ticks\":\"\",\"zerolinecolor\":\"#C8D4E3\"},\"yaxis\":{\"backgroundcolor\":\"rgb(17,17,17)\",\"gridcolor\":\"#506784\",\"gridwidth\":2,\"linecolor\":\"#506784\",\"showbackground\":true,\"ticks\":\"\",\"zerolinecolor\":\"#C8D4E3\"},\"zaxis\":{\"backgroundcolor\":\"rgb(17,17,17)\",\"gridcolor\":\"#506784\",\"gridwidth\":2,\"linecolor\":\"#506784\",\"showbackground\":true,\"ticks\":\"\",\"zerolinecolor\":\"#C8D4E3\"}},\"shapedefaults\":{\"line\":{\"color\":\"#f2f5fa\"}},\"sliderdefaults\":{\"bgcolor\":\"#C8D4E3\",\"bordercolor\":\"rgb(17,17,17)\",\"borderwidth\":1,\"tickwidth\":0},\"ternary\":{\"aaxis\":{\"gridcolor\":\"#506784\",\"linecolor\":\"#506784\",\"ticks\":\"\"},\"baxis\":{\"gridcolor\":\"#506784\",\"linecolor\":\"#506784\",\"ticks\":\"\"},\"bgcolor\":\"rgb(17,17,17)\",\"caxis\":{\"gridcolor\":\"#506784\",\"linecolor\":\"#506784\",\"ticks\":\"\"}},\"title\":{\"x\":0.05},\"updatemenudefaults\":{\"bgcolor\":\"#506784\",\"borderwidth\":0},\"xaxis\":{\"automargin\":true,\"gridcolor\":\"#283442\",\"linecolor\":\"#506784\",\"ticks\":\"\",\"title\":{\"standoff\":15},\"zerolinecolor\":\"#283442\",\"zerolinewidth\":2},\"yaxis\":{\"automargin\":true,\"gridcolor\":\"#283442\",\"linecolor\":\"#506784\",\"ticks\":\"\",\"title\":{\"standoff\":15},\"zerolinecolor\":\"#283442\",\"zerolinewidth\":2}}},\"geo\":{\"domain\":{\"x\":[0.0,1.0],\"y\":[0.0,1.0]},\"center\":{}},\"coloraxis\":{\"colorbar\":{\"title\":{\"text\":\"2022 Population\"}},\"colorscale\":[[0.0,\"#440154\"],[0.1111111111111111,\"#482878\"],[0.2222222222222222,\"#3e4989\"],[0.3333333333333333,\"#31688e\"],[0.4444444444444444,\"#26828e\"],[0.5555555555555556,\"#1f9e89\"],[0.6666666666666666,\"#35b779\"],[0.7777777777777778,\"#6ece58\"],[0.8888888888888888,\"#b5de2b\"],[1.0,\"#fde725\"]]},\"legend\":{\"tracegroupgap\":0},\"margin\":{\"t\":60}},                        {\"responsive\": true}                    ).then(function(){\n                            \nvar gd = document.getElementById('f0157de7-1b6f-406c-9e80-6dbf6371334e');\nvar x = new MutationObserver(function (mutations, observer) {{\n        var display = window.getComputedStyle(gd).display;\n        if (!display || display === 'none') {{\n            console.log([gd, 'removed!']);\n            Plotly.purge(gd);\n            observer.disconnect();\n        }}\n}});\n\n// Listen for the removal of the full notebook cells\nvar notebookContainer = gd.closest('#notebook-container');\nif (notebookContainer) {{\n    x.observe(notebookContainer, {childList: true});\n}}\n\n// Listen for the clearing of the current output cell\nvar outputEl = gd.closest('.output');\nif (outputEl) {{\n    x.observe(outputEl, {childList: true});\n}}\n\n                        })                };                });            </script>        </div>"
     },
     "metadata": {},
     "output_type": "display_data"
    }
   ],
   "source": [
    "fig = px.choropleth(\n",
    "    data,\n",
    "    locations='Country',\n",
    "    locationmode='country names',\n",
    "    color='2022 Population',\n",
    "    hover_name=\"Country\",\n",
    "    color_continuous_scale='Viridis'\n",
    ")\n",
    "\n",
    "fig.show()"
   ],
   "metadata": {
    "collapsed": false,
    "pycharm": {
     "name": "#%%\n"
    }
   }
  },
  {
   "cell_type": "code",
   "execution_count": null,
   "outputs": [],
   "source": [],
   "metadata": {
    "collapsed": false,
    "pycharm": {
     "name": "#%%\n"
    }
   }
  }
 ],
 "metadata": {
  "kernelspec": {
   "display_name": "Python 3",
   "language": "python",
   "name": "python3"
  },
  "language_info": {
   "codemirror_mode": {
    "name": "ipython",
    "version": 2
   },
   "file_extension": ".py",
   "mimetype": "text/x-python",
   "name": "python",
   "nbconvert_exporter": "python",
   "pygments_lexer": "ipython2",
   "version": "2.7.6"
  }
 },
 "nbformat": 4,
 "nbformat_minor": 0
}