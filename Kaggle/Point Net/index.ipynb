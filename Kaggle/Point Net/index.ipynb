{
 "cells": [
  {
   "cell_type": "markdown",
   "source": [
    "### Point Net"
   ],
   "metadata": {
    "collapsed": false,
    "pycharm": {
     "name": "#%% md\n"
    }
   }
  },
  {
   "cell_type": "code",
   "execution_count": null,
   "outputs": [],
   "source": [
    "import os\n",
    "import pandas as pd\n",
    "import numpy as np\n",
    "import matplotlib.pyplot as plt\n",
    "import torch\n",
    "import torch.nn.functional as F\n",
    "import torch.optim as optim\n",
    "from torch.utils.data import Dataset\n",
    "import trimesh\n",
    "import gc"
   ],
   "metadata": {
    "collapsed": false,
    "pycharm": {
     "name": "#%%\n",
     "is_executing": true
    }
   }
  },
  {
   "cell_type": "code",
   "execution_count": 1,
   "outputs": [
    {
     "ename": "NameError",
     "evalue": "name 'Dataset' is not defined",
     "output_type": "error",
     "traceback": [
      "\u001B[0;31m---------------------------------------------------------------------------\u001B[0m",
      "\u001B[0;31mNameError\u001B[0m                                 Traceback (most recent call last)",
      "Input \u001B[0;32mIn [1]\u001B[0m, in \u001B[0;36m<cell line: 1>\u001B[0;34m()\u001B[0m\n\u001B[0;32m----> 1\u001B[0m \u001B[38;5;28;01mclass\u001B[39;00m \u001B[38;5;21;01mPointCloud\u001B[39;00m(\u001B[43mDataset\u001B[49m):\n\u001B[1;32m      3\u001B[0m     \u001B[38;5;28;01mdef\u001B[39;00m \u001B[38;5;21m__init__\u001B[39m(\u001B[38;5;28mself\u001B[39m, root_dir, n \u001B[38;5;241m=\u001B[39m \u001B[38;5;241m50176\u001B[39m, train \u001B[38;5;241m=\u001B[39m \u001B[38;5;28;01mTrue\u001B[39;00m):\n\u001B[1;32m      4\u001B[0m         \u001B[38;5;28mself\u001B[39m\u001B[38;5;241m.\u001B[39mclasses \u001B[38;5;241m=\u001B[39m os\u001B[38;5;241m.\u001B[39mlistdir(root_dir)\n",
      "\u001B[0;31mNameError\u001B[0m: name 'Dataset' is not defined"
     ]
    }
   ],
   "source": [
    "class PointCloud(Dataset):\n",
    "\n",
    "    def __init__(self, root_dir, n = 50176, train = True):\n",
    "        self.classes = os.listdir(root_dir)\n",
    "        self.root_dir = root_dir\n",
    "        self.n = n\n",
    "        self.labels = {}\n",
    "        self.traincount = 0\n",
    "        self.testcount = 0\n",
    "\n",
    "        for i in range(len(self.classes)):\n",
    "            self.labels[self.classes[i]] = i\n",
    "\n",
    "        ## 학습\n",
    "        trainls = []\n",
    "        df = pd.DataFrame(trainls)\n",
    "        for i in range(len(self.classes)):\n",
    "            folderpath = self.root_dir + \"/\" + self.classes[i] + \"/train/\"\n",
    "            for j in range(folderpath):\n",
    "                trainls.append(folderpath + j)\n",
    "        self.trainfilepath = pd.DataFrame(trainls)\n",
    "\n",
    "        ## 테스트\n",
    "        testls = []\n",
    "\n",
    "\n"
   ],
   "metadata": {
    "collapsed": false,
    "pycharm": {
     "name": "#%%\n"
    }
   }
  },
  {
   "cell_type": "code",
   "execution_count": null,
   "outputs": [],
   "source": [],
   "metadata": {
    "collapsed": false,
    "pycharm": {
     "name": "#%%\n"
    }
   }
  }
 ],
 "metadata": {
  "kernelspec": {
   "display_name": "Python 3",
   "language": "python",
   "name": "python3"
  },
  "language_info": {
   "codemirror_mode": {
    "name": "ipython",
    "version": 2
   },
   "file_extension": ".py",
   "mimetype": "text/x-python",
   "name": "python",
   "nbconvert_exporter": "python",
   "pygments_lexer": "ipython2",
   "version": "2.7.6"
  }
 },
 "nbformat": 4,
 "nbformat_minor": 0
}