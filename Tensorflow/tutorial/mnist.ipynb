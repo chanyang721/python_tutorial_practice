{
 "cells": [
  {
   "cell_type": "code",
   "execution_count": null,
   "metadata": {
    "collapsed": true,
    "pycharm": {
     "name": "#%%\n",
     "is_executing": true
    }
   },
   "outputs": [],
   "source": [
    "import tensorflow as tf\n",
    "print(tf.__version__)\n",
    "\n",
    "## 데이터 import\n",
    "mnist = tf.keras.datasets.mnist\n",
    "\n",
    "## 데이터 로드\n",
    "(x_train, y_train), (x_test, y_test) = mnist.load_data()\n",
    "x_train, x_test = x_train / 255.0, x_test / 255.0\n",
    "print(\"!\")\n",
    "print(mnist)\n",
    "## 모델의 Natural Network 정의\n",
    "model = tf.keras.models.Sequential([\n",
    "    tf.keras.layers.Flatten(input_shape = (28, 28)),\n",
    "    tf.keras.layers.Dense(128, activation = 'relu'), ## set activation function\n",
    "    tf.keras.layers.Dropout(0.2),\n",
    "    tf.keras.layers.Dense(10, activation = 'softmax')\n",
    "])\n",
    "\n",
    "## 모델 훈련에 사용할 최적화 함수화 손실 함수를 설정\n",
    "model.compile(\n",
    "    optimizer = 'adam', ## 최적화\n",
    "    loss = 'sparse_categorical_crossentropy', ## 손실 함수를 교차 엔트로피 오차로 설정\n",
    "    metrics = [ 'accuracy' ] ## 정확성\n",
    ")\n",
    "\n",
    "model.fit(x_train, y_train, epochs = 5) ##\n",
    "model.evaluate(x_test, y_test, verbose = 2) ## 평가"
   ]
  }
 ],
 "metadata": {
  "kernelspec": {
   "display_name": "Python 3",
   "language": "python",
   "name": "python3"
  },
  "language_info": {
   "codemirror_mode": {
    "name": "ipython",
    "version": 2
   },
   "file_extension": ".py",
   "mimetype": "text/x-python",
   "name": "python",
   "nbconvert_exporter": "python",
   "pygments_lexer": "ipython2",
   "version": "2.7.6"
  }
 },
 "nbformat": 4,
 "nbformat_minor": 0
}