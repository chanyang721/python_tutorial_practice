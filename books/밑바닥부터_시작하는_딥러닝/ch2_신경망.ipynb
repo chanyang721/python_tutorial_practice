{
 "cells": [
  {
   "cell_type": "markdown",
   "source": [
    "### 신경망"
   ],
   "metadata": {
    "collapsed": false,
    "pycharm": {
     "name": "#%% md\n"
    }
   }
  },
  {
   "cell_type": "code",
   "execution_count": 41,
   "outputs": [
    {
     "name": "stdout",
     "output_type": "stream",
     "text": [
      "계단 함수\n"
     ]
    },
    {
     "data": {
      "text/plain": "<Figure size 432x288 with 1 Axes>",
      "image/png": "[encoded data removed]"
     },
     "metadata": {
      "needs_background": "light"
     },
     "output_type": "display_data"
    },
    {
     "name": "stdout",
     "output_type": "stream",
     "text": [
      "시그모이드(S 모양) 함수\n"
     ]
    },
    {
     "data": {
      "text/plain": "<Figure size 432x288 with 1 Axes>",
      "image/png": "[encoded data removed]"
     },
     "metadata": {
      "needs_background": "light"
     },
     "output_type": "display_data"
    },
    {
     "name": "stdout",
     "output_type": "stream",
     "text": [
      "렐루 함수\n"
     ]
    },
    {
     "data": {
      "text/plain": "<Figure size 432x288 with 1 Axes>",
      "image/png": "[encoded data removed]"
     },
     "metadata": {
      "needs_background": "light"
     },
     "output_type": "display_data"
    }
   ],
   "source": [
    "print(\"계단 함수\")\n",
    "import numpy as np\n",
    "import matplotlib.pylab as plt\n",
    "\n",
    "def step_function (x):\n",
    "    return np.array(x > 0, dtype=int)\n",
    "\n",
    "x = np.arange( -5.0, 5.0, 0.1 ) # -5 ~ 5 까지 0.1 간격의 배열 생성\n",
    "y = step_function(x)\n",
    "plt.plot(x, y)\n",
    "plt.xlim(-6, 6)\n",
    "plt.ylim(-0.1, 1.1)\n",
    "plt.show()\n",
    "\n",
    "print(\"시그모이드(S 모양) 함수\")\n",
    "def sigmoid(x):\n",
    "    return 1 / (1 + np.exp(-x))\n",
    "\n",
    "x = np.arange( -5.0, 5.0, 0.1 )\n",
    "y = sigmoid(x)\n",
    "plt.plot(x, y)\n",
    "plt.xlim(-6, 6)\n",
    "plt.ylim(-0.1, 1.1)\n",
    "plt.show()\n",
    "\n",
    "\n",
    "print(\"렐루 함수\")\n",
    "def relu(x):\n",
    "    return np.maximum(0, x) # 둘 중 큰값을 반환\n",
    "\n",
    "x = np.arange(-5.0, 5.0, 0.01)\n",
    "y = relu(x)\n",
    "plt.plot(x, y)\n",
    "plt.xlim(-6, 6)\n",
    "plt.ylim(-2.1, 7,1)\n",
    "plt.show()\n"
   ],
   "metadata": {
    "collapsed": false,
    "pycharm": {
     "name": "#%%\n"
    }
   }
  },
  {
   "cell_type": "code",
   "execution_count": 64,
   "outputs": [
    {
     "name": "stdout",
     "output_type": "stream",
     "text": [
      "다 차원 배열의 계산\n",
      "(7,)\n",
      "[[1 2]\n",
      " [2 3]\n",
      " [3 4]]\n",
      "2\n",
      "(3, 2)\n",
      "testing 브로드케스트\n"
     ]
    },
    {
     "data": {
      "text/plain": "array([59, 76])"
     },
     "execution_count": 64,
     "metadata": {},
     "output_type": "execute_result"
    }
   ],
   "source": [
    "print(\"다 차원 배열의 계산\")\n",
    "A = np.array([ 1, 2 ,3, 4, 5, 6, 7 ])\n",
    "np.ndim(A) # 배열의 차원\n",
    "a = A.shape  # 배열의 크기로 튜플을 반환\n",
    "print(a)\n",
    "A.shape[0] # 배열의 튜플 원소\n",
    "\n",
    "B = np.array([ [1, 2], [2, 3], [3, 4] ]) # 3x2\n",
    "print(B)\n",
    "print(np.ndim(B))\n",
    "print(B.shape)\n",
    "\n",
    "C = np.array([ [3, 10, 12], [20, 10, 12] ]) # 2x3\n",
    "np.dot(B, C)\n",
    "\n",
    "print(\"testing 브로드케스트\")\n",
    "D = np.array([ 1, 2, 3 ]) # ?x3\n",
    "np.dot(C, D)"
   ],
   "metadata": {
    "collapsed": false,
    "pycharm": {
     "name": "#%%\n"
    }
   }
  },
  {
   "cell_type": "code",
   "execution_count": 67,
   "outputs": [
    {
     "name": "stdout",
     "output_type": "stream",
     "text": [
      "신경망에서의 행렬 곱\n"
     ]
    },
    {
     "data": {
      "text/plain": "array([22, 43])"
     },
     "execution_count": 67,
     "metadata": {},
     "output_type": "execute_result"
    }
   ],
   "source": [
    "print(\"신경망에서의 행렬 곱\")\n",
    "# XW = Y\n",
    "X = np.array([ 1, 2 ]) # 1x2\n",
    "W = np.array([ [2, 3], [10, 20] ]) # 2x3\n",
    "\n",
    "Y = np.dot(X, W)\n",
    "Y"
   ],
   "metadata": {
    "collapsed": false,
    "pycharm": {
     "name": "#%%\n"
    }
   }
  },
  {
   "cell_type": "code",
   "execution_count": 76,
   "outputs": [
    {
     "name": "stdout",
     "output_type": "stream",
     "text": [
      "3층 신경망 구현\n",
      "A : [0.9 0.8 1.3]\n",
      "R1 : [0.7109495  0.68997448 0.78583498]\n",
      "R2 : [0.63070776 0.79008389]\n",
      "항등 함수를 사용한 출력층\n",
      "R3 : [0.32108755 0.78425427]\n"
     ]
    }
   ],
   "source": [
    "print(\"3층 신경망 구현\")\n",
    "# A = XW + B\n",
    "X = np.array([ 1, 1.5 ]) # 1 x 2\n",
    "\n",
    "# 1차 은닉층\n",
    "W = np.array([ [0.2 , 0.3, 0.1], [0.4, 0.2, 0.6] ]) # 2 x 3\n",
    "B = np.array([ 0.1, 0.2, 0.3 ])\n",
    "A = np.dot(X, W) + B\n",
    "print(\"A :\", A)\n",
    "\n",
    "# 활성화 함수 = sigmoid\n",
    "R1 = sigmoid(A)\n",
    "print(\"R1 :\", R1) # 1 x 3\n",
    "\n",
    "# 2차 은닉층\n",
    "W2 = np.array([ [0.1, 0.2], [0.3, 0.4], [0.2, 0.9] ]) # 3 x 2\n",
    "B2 = np.array([ 0.1, 0.2 ])\n",
    "\n",
    "A2 = np.dot(R1, W2) + B2\n",
    "R2 = sigmoid(A2) # 1 x 2\n",
    "print(\"R2 :\", R2)\n",
    "\n",
    "print(\"항등 함수를 사용한 출력층\")\n",
    "def identify_function(x):\n",
    "    return x\n",
    "\n",
    "W3 = np.array([ [0.1, 0.3], [0.2, 0.5] ]) # 2 x 2\n",
    "B3 = np.array([ 0.1, 0.2 ]) # 1 x 2\n",
    "\n",
    "A3 = np.dot(R2, W3) + B3\n",
    "R3 = identify_function(A3)\n",
    "print(\"R3 :\", R3)"
   ],
   "metadata": {
    "collapsed": false,
    "pycharm": {
     "name": "#%%\n"
    }
   }
  },
  {
   "cell_type": "code",
   "execution_count": 80,
   "outputs": [
    {
     "name": "stdout",
     "output_type": "stream",
     "text": [
      "신경망 네트워크 함수\n",
      "[0.31513844 0.76884647]\n"
     ]
    }
   ],
   "source": [
    "print(\"신경망 네트워크 함수\")\n",
    "\n",
    "def init_network():\n",
    "    network = {}\n",
    "\n",
    "    network[\"W1\"] = np.array([ [0.2 , 0.3, 0.1], [0.4, 0.2, 0.6] ]) # 2 x 3\n",
    "    network[\"W2\"] = np.array([ [0.1, 0.2], [0.3, 0.4], [0.2, 0.9] ]) # 3 x 2\n",
    "    network[\"W3\"] = np.array([ [0.1, 0.3], [0.2, 0.5] ]) # 2 x 2\n",
    "    network[\"B1\"] = np.array([ 0.1, 0.2, 0.3 ])\n",
    "    network[\"B2\"] = np.array([ 0.1, 0.2 ])\n",
    "    network[\"B3\"] = np.array([ 0.1, 0.2 ]) # 1 x 2\n",
    "\n",
    "    return network\n",
    "\n",
    "def forword(network, X):\n",
    "    W1, W2, W3 = network[\"W1\"], network[\"W2\"], network[\"W3\"]\n",
    "    B1, B2, B3 = network[\"B1\"], network[\"B2\"], network[\"B3\"]\n",
    "\n",
    "    A1 = np.dot(X, W1) + B1\n",
    "    R1 = sigmoid(A1)\n",
    "    A2 = np.dot(R1, W2) + B2\n",
    "    R2 = sigmoid(A2)\n",
    "    A3 = np.dot(R2, W3) + B3\n",
    "    y = identify_function(A3)\n",
    "\n",
    "    return y\n",
    "\n",
    "network = init_network()\n",
    "X = np.array([ 1.0, 0.5 ])\n",
    "y = forword(network, X)\n",
    "print(y)"
   ],
   "metadata": {
    "collapsed": false,
    "pycharm": {
     "name": "#%%\n"
    }
   }
  },
  {
   "cell_type": "code",
   "execution_count": 96,
   "outputs": [
    {
     "name": "stdout",
     "output_type": "stream",
     "text": [
      "소프트맥스 함수 구현\n",
      "소프트맥스 함수 출력 배열의 원소는 항상 0 ~ 1 사이의 실수\n",
      "소프트맥수 함수 출력 배열 원소의 합은 항상 1이다\n",
      "출력값:  [0.07790913 0.63621917 0.2858717 ]\n",
      "출력 원소의 합 : 1.0\n"
     ]
    }
   ],
   "source": [
    "print(\"소프트맥스 함수 구현\")\n",
    "a = np.array([ 0.1, 2.2, 1.4 ])\n",
    "def softmax(a):\n",
    "    c = np.max(a) # 오버 플로우를 감안한 소프트 맥수 함수 구현\n",
    "    exp_a = np.exp(a - c)\n",
    "    sum_exp_a = np.sum(exp_a)\n",
    "    y = exp_a / sum_exp_a\n",
    "\n",
    "    return y\n",
    "softmax(a)\n",
    "\n",
    "print(\"소프트맥스 함수 출력 배열의 원소는 항상 0 ~ 1 사이의 실수\")\n",
    "print(\"소프트맥수 함수 출력 배열 원소의 합은 항상 1이다\")\n",
    "y = softmax(a)\n",
    "print(\"출력값: \", y)\n",
    "print(\"출력 원소의 합 :\", np.sum(y))"
   ],
   "metadata": {
    "collapsed": false,
    "pycharm": {
     "name": "#%%\n"
    }
   }
  }
 ],
 "metadata": {
  "kernelspec": {
   "display_name": "Python 3",
   "language": "python",
   "name": "python3"
  },
  "language_info": {
   "codemirror_mode": {
    "name": "ipython",
    "version": 2
   },
   "file_extension": ".py",
   "mimetype": "text/x-python",
   "name": "python",
   "nbconvert_exporter": "python",
   "pygments_lexer": "ipython2",
   "version": "2.7.6"
  }
 },
 "nbformat": 4,
 "nbformat_minor": 0
}