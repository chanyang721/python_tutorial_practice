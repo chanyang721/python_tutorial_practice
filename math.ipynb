{
 "cells": [
  {
   "cell_type": "markdown",
   "source": [
    "# 선형 대수"
   ],
   "metadata": {
    "collapsed": false,
    "pycharm": {
     "name": "#%% md\n"
    }
   }
  },
  {
   "cell_type": "markdown",
   "source": [
    "## 행렬"
   ],
   "metadata": {
    "collapsed": false,
    "pycharm": {
     "name": "#%% md\n"
    }
   }
  },
  {
   "cell_type": "markdown",
   "source": [
    "### 스칼라"
   ],
   "metadata": {
    "collapsed": false,
    "pycharm": {
     "name": "#%% md\n"
    }
   }
  },
  {
   "cell_type": "code",
   "execution_count": 1,
   "metadata": {
    "collapsed": true,
    "pycharm": {
     "name": "#%%\n"
    }
   },
   "outputs": [
    {
     "name": "stdout",
     "output_type": "stream",
     "text": [
      "[7, 3, 31]\n",
      "numpy + : [ 46 426 239]\n",
      "numpy - : [ -38 -378 -181]\n",
      "numpy s* : [ 8 48 58]\n",
      "numpy * : [ 168 9648 6090]\n",
      "numpy / : [0.0952381  0.05970149 0.13809524]\n",
      "None\n"
     ]
    }
   ],
   "source": [
    "# 1. 스칼라의 정의: 크기를 가진 물리량\n",
    "#       표현식: a = 1\n",
    "#       사칙 연산은 기존과 같음\n",
    "# 2. 벡터의 정의: 크기와 방향을 가진 물리량\n",
    "#       표현식: a = [2, 3], b = [2, 4, 5]\n",
    "def AddVector ():\n",
    "    w = []\n",
    "    u = [3, 2, 12]\n",
    "    c = [4, 1, 19]\n",
    "\n",
    "    len(u)\n",
    "\n",
    "    if len(u) != len(c):\n",
    "        return F\"덧셈 불가능: {len(u)}, {len(c)}\"\n",
    "\n",
    "    for i in range (0, len(u)):\n",
    "        w.append(u[i] + c[i])\n",
    "\n",
    "    return w\n",
    "\n",
    "# 넘파이 사칙 연산 실습\n",
    "import numpy as np\n",
    "def numpy_v_test ():\n",
    "    u = np.array([4, 24, 29])\n",
    "    v = np.array([42, 402, 210])\n",
    "\n",
    "    w = u + v\n",
    "    print(\"numpy + :\", w)\n",
    "\n",
    "    w = u - v\n",
    "    print(\"numpy - :\", w)\n",
    "\n",
    "    w = 2 * u\n",
    "    print(\"numpy s* :\", w)\n",
    "\n",
    "    w = u * v\n",
    "    print(\"numpy * :\", w)\n",
    "\n",
    "    w = u / v\n",
    "    print(\"numpy / :\", w)\n",
    "\n",
    "print(AddVector())\n",
    "print(numpy_v_test())"
   ]
  },
  {
   "cell_type": "code",
   "execution_count": 5,
   "outputs": [
    {
     "name": "stdout",
     "output_type": "stream",
     "text": [
      "원본 행렬\n",
      "[3, 2, 1] 5\n",
      "[2, 7, -1] 1\n",
      "[4, 0, -1] 3\n"
     ]
    }
   ],
   "source": [
    "X = [ [3, 2, 1], [2, 7, -1], [4, 0, -1] ]\n",
    "y = [5 ,1, 3]\n",
    "\n",
    "x0 = X[0]\n",
    "x1 = X[1]\n",
    "x2 = X[2]\n",
    "\n",
    "y0 = y[0]\n",
    "y1 = y[1]\n",
    "y2 = y[2]\n",
    "\n",
    "print(\"원본 행렬\")\n",
    "print(x0, y0)\n",
    "print(x1, y1)\n",
    "print(x2, y2)\n"
   ],
   "metadata": {
    "collapsed": false,
    "pycharm": {
     "name": "#%%\n"
    }
   }
  },
  {
   "cell_type": "code",
   "execution_count": 10,
   "outputs": [
    {
     "name": "stdout",
     "output_type": "stream",
     "text": [
      "1.0\n",
      "[1.0, 0.6666666666666666, 0.3333333333333333]\n",
      "1.6666666666666665\n",
      "[-0.0, -0.0, -0.0]\n",
      "-0.0\n",
      "수정본 1\n",
      "[1.0, 0.6666666666666666, 0.3333333333333333] 1.6666666666666665\n",
      "[0.0, 5.666666666666667, -1.6666666666666665] -2.333333333333333\n",
      "[4, 0, -1] 3\n"
     ]
    }
   ],
   "source": [
    "tmp = 1/x0[0] # 1행 1열의 원소를 1로 만들기 위한 변수값\n",
    "print(tmp)\n",
    "\n",
    "# 1행 1열의 원소를 1로 만듬\n",
    "x0 = [ ele * tmp for ele in x0 ]\n",
    "y0 = y0 * tmp\n",
    "print(x0)\n",
    "print(y0)\n",
    "\n",
    "# 2행을 1로 만들기\n",
    "x0_tmp = [ ele * -x1[0] for ele in x0 ]\n",
    "y0_tmp = y0 * -x1[0]\n",
    "print(x0_tmp)\n",
    "print(y0_tmp)\n",
    "\n",
    "for i in range(0, len(x0)):\n",
    "    x1[i] = x0_tmp[i] + x1[i]\n",
    "\n",
    "y1 = y0_tmp + y1\n",
    "print(\"수정본 1\")\n",
    "print(x0, y0)\n",
    "print(x1, y1)\n",
    "print(x2, y2)\n"
   ],
   "metadata": {
    "collapsed": false,
    "pycharm": {
     "name": "#%%\n"
    }
   }
  },
  {
   "cell_type": "code",
   "execution_count": 13,
   "outputs": [
    {
     "name": "stdout",
     "output_type": "stream",
     "text": [
      "[-4.0, -2.6666666666666665, -1.3333333333333333]\n",
      "9.333333333333332\n"
     ]
    }
   ],
   "source": [
    "# 3행의 4를 0으로 만들기\n",
    "x1_tmp = [ ele * -x2[0] for ele in x0 ]\n",
    "y0_tmp = y1 * -x2[0]\n",
    "print(x1_tmp)\n",
    "print(y0_tmp)\n",
    "\n",
    "for i in range(0, len(x0)):\n",
    "    x2[i] = x1_tmp[i] + x2[i]\n",
    "\n",
    "y2 = y0_tmp + y2"
   ],
   "metadata": {
    "collapsed": false,
    "pycharm": {
     "name": "#%%\n"
    }
   }
  },
  {
   "cell_type": "code",
   "execution_count": 14,
   "outputs": [
    {
     "name": "stdout",
     "output_type": "stream",
     "text": [
      "(1, 3)\n"
     ]
    }
   ],
   "source": [
    "\n",
    "\n",
    "import numpy as np\n",
    "\n",
    "r = np.array([ [1, 2, 3] ])\n",
    "print (r.shape)"
   ],
   "metadata": {
    "collapsed": false,
    "pycharm": {
     "name": "#%%\n"
    }
   }
  },
  {
   "cell_type": "code",
   "execution_count": 42,
   "outputs": [
    {
     "name": "stdout",
     "output_type": "stream",
     "text": [
      "[[0. 0.]\n",
      " [0. 0.]]\n",
      "[[1. 1.]\n",
      " [1. 1.]]\n",
      "[[7 7]\n",
      " [7 7]]\n",
      "[[0.09828544 0.71434529]\n",
      " [0.15690031 0.32775827]]\n"
     ]
    },
    {
     "data": {
      "text/plain": "array([[0.09828544, 0.15690031],\n       [0.71434529, 0.32775827]])"
     },
     "execution_count": 42,
     "metadata": {},
     "output_type": "execute_result"
    }
   ],
   "source": [
    "a = np.zeros((2, 2))\n",
    "print (a)\n",
    "\n",
    "b = np.ones((2, 2))\n",
    "print (b)\n",
    "\n",
    "c = np.full((2, 2), 7)\n",
    "print (c)\n",
    "\n",
    "d = np.random.random((2, 2))\n",
    "print(d)\n",
    "d.T"
   ],
   "metadata": {
    "collapsed": false,
    "pycharm": {
     "name": "#%%\n"
    }
   }
  },
  {
   "cell_type": "code",
   "execution_count": 38,
   "outputs": [
    {
     "name": "stdout",
     "output_type": "stream",
     "text": [
      "[[1 2]\n",
      " [3 4]\n",
      " [5 6]]\n"
     ]
    },
    {
     "data": {
      "text/plain": "array([[1, 3, 5],\n       [2, 4, 6]])"
     },
     "execution_count": 38,
     "metadata": {},
     "output_type": "execute_result"
    }
   ],
   "source": [
    "A = np.array([ [1, 2], [3, 4], [5, 6] ])\n",
    "print(A)\n",
    "A.T"
   ],
   "metadata": {
    "collapsed": false,
    "pycharm": {
     "name": "#%%\n"
    }
   }
  },
  {
   "cell_type": "code",
   "execution_count": 36,
   "outputs": [
    {
     "data": {
      "text/plain": "array([[ 5,  6],\n       [ 7,  8],\n       [ 9, 10]])"
     },
     "execution_count": 36,
     "metadata": {},
     "output_type": "execute_result"
    }
   ],
   "source": [
    "B = np.array([ [5, 6], [7, 8], [9, 10] ])\n",
    "B"
   ],
   "metadata": {
    "collapsed": false,
    "pycharm": {
     "name": "#%%\n"
    }
   }
  },
  {
   "cell_type": "code",
   "execution_count": 41,
   "outputs": [
    {
     "ename": "ValueError",
     "evalue": "shapes (3,2) and (3,2) not aligned: 2 (dim 1) != 3 (dim 0)",
     "output_type": "error",
     "traceback": [
      "\u001B[0;31m---------------------------------------------------------------------------\u001B[0m",
      "\u001B[0;31mValueError\u001B[0m                                Traceback (most recent call last)",
      "Input \u001B[0;32mIn [41]\u001B[0m, in \u001B[0;36m<cell line: 1>\u001B[0;34m()\u001B[0m\n\u001B[0;32m----> 1\u001B[0m \u001B[43mnp\u001B[49m\u001B[38;5;241;43m.\u001B[39;49m\u001B[43mdot\u001B[49m\u001B[43m(\u001B[49m\u001B[43mB\u001B[49m\u001B[43m,\u001B[49m\u001B[43m \u001B[49m\u001B[43mA\u001B[49m\u001B[43m)\u001B[49m\n",
      "File \u001B[0;32m<__array_function__ internals>:5\u001B[0m, in \u001B[0;36mdot\u001B[0;34m(*args, **kwargs)\u001B[0m\n",
      "\u001B[0;31mValueError\u001B[0m: shapes (3,2) and (3,2) not aligned: 2 (dim 1) != 3 (dim 0)"
     ]
    }
   ],
   "source": [
    "# 행렬의 곱\n",
    "np.dot(B, A)"
   ],
   "metadata": {
    "collapsed": false,
    "pycharm": {
     "name": "#%%\n"
    }
   }
  },
  {
   "cell_type": "code",
   "execution_count": 75,
   "outputs": [
    {
     "name": "stdout",
     "output_type": "stream",
     "text": [
      "[[0.37874993 0.58732804 0.33332628]\n",
      " [0.67879263 1.17252091 0.90477261]\n",
      " [0.82453549 1.31825545 0.90011509]\n",
      " [0.62599156 0.92777947 0.51729927]]\n"
     ]
    },
    {
     "data": {
      "text/plain": "array([[0.15646601],\n       [0.00182317],\n       [0.46081261]])"
     },
     "execution_count": 75,
     "metadata": {},
     "output_type": "execute_result"
    }
   ],
   "source": [
    "# 방정식\n",
    "A = np.random.random((3, 3))\n",
    "B = np.random.random((3, 4))\n",
    "C = np.dot(A, B)\n",
    "print(C.T)\n",
    "\n",
    "y = np.random.random((3, 1))\n",
    "y"
   ],
   "metadata": {
    "collapsed": false,
    "pycharm": {
     "name": "#%%\n"
    }
   }
  },
  {
   "cell_type": "code",
   "execution_count": 76,
   "outputs": [
    {
     "name": "stdout",
     "output_type": "stream",
     "text": [
      "[[1. 0. 0. 0.]\n",
      " [0. 1. 0. 0.]\n",
      " [0. 0. 1. 0.]\n",
      " [0. 0. 0. 1.]]\n"
     ]
    }
   ],
   "source": [
    "# I\n",
    "eye4 = np.eye(4)\n",
    "print(eye4)"
   ],
   "metadata": {
    "collapsed": false,
    "pycharm": {
     "name": "#%%\n"
    }
   }
  },
  {
   "cell_type": "code",
   "execution_count": 77,
   "outputs": [
    {
     "data": {
      "text/plain": "array([[-13.13430532,  13.39849279,  -6.49087473],\n       [-14.07698787,  11.34816037,  -3.12525434],\n       [ 36.56736897, -30.46347762,  12.16240492]])"
     },
     "execution_count": 77,
     "metadata": {},
     "output_type": "execute_result"
    }
   ],
   "source": [
    "# 역행렬\n",
    "from numpy.linalg import inv\n",
    "A_inv = inv(A)\n",
    "A_inv"
   ],
   "metadata": {
    "collapsed": false,
    "pycharm": {
     "name": "#%%\n"
    }
   }
  },
  {
   "cell_type": "code",
   "execution_count": 78,
   "outputs": [
    {
     "data": {
      "text/plain": "array([[ -5.09237119,   4.21952496,  -1.86833692],\n       [ -7.2569198 ,   7.97552269,  -1.42422563],\n       [  4.59015361, -24.78133751,   4.35709563]])"
     },
     "execution_count": 78,
     "metadata": {},
     "output_type": "execute_result"
    }
   ],
   "source": [
    "# 행렬의 원소 곱\n",
    "A * A_inv"
   ],
   "metadata": {
    "collapsed": false,
    "pycharm": {
     "name": "#%%\n"
    }
   }
  },
  {
   "cell_type": "code",
   "execution_count": 79,
   "outputs": [
    {
     "data": {
      "text/plain": "array([[ 1.00000000e+00,  0.00000000e+00, -4.44089210e-16],\n       [ 0.00000000e+00,  1.00000000e+00,  0.00000000e+00],\n       [ 0.00000000e+00, -1.77635684e-15,  1.00000000e+00]])"
     },
     "execution_count": 79,
     "metadata": {},
     "output_type": "execute_result"
    }
   ],
   "source": [
    "# 행렬의 곱\n",
    "A.dot(A_inv)"
   ],
   "metadata": {
    "collapsed": false,
    "pycharm": {
     "name": "#%%\n"
    }
   }
  },
  {
   "cell_type": "code",
   "execution_count": 80,
   "outputs": [
    {
     "data": {
      "text/plain": "array([[ -5.77139805,  -0.43397128, -11.87843575, -15.80751064],\n       [ -7.01870523,  -2.83580814, -10.75492925, -13.72128224],\n       [ 17.99309278,   6.88958802,  31.20773732,  39.26184459]])"
     },
     "execution_count": 80,
     "metadata": {},
     "output_type": "execute_result"
    }
   ],
   "source": [
    "x = A_inv.dot(B)\n",
    "x"
   ],
   "metadata": {
    "collapsed": false,
    "pycharm": {
     "name": "#%%\n"
    }
   }
  },
  {
   "cell_type": "code",
   "execution_count": 81,
   "outputs": [
    {
     "data": {
      "text/plain": "array([[0.73111413, 0.92177761, 0.99040101, 0.85115744],\n       [0.29170519, 0.92295515, 0.53970959, 0.09982278],\n       [0.01188308, 0.10680696, 0.94001222, 0.91907856]])"
     },
     "execution_count": 81,
     "metadata": {},
     "output_type": "execute_result"
    }
   ],
   "source": [
    "# 해 구하기\n",
    "from numpy.linalg import solve\n",
    "x = solve(A, C)\n",
    "x"
   ],
   "metadata": {
    "collapsed": false,
    "pycharm": {
     "name": "#%%\n"
    }
   }
  },
  {
   "cell_type": "code",
   "execution_count": null,
   "outputs": [],
   "source": [],
   "metadata": {
    "collapsed": false,
    "pycharm": {
     "name": "#%%\n",
     "is_executing": true
    }
   }
  }
 ],
 "metadata": {
  "kernelspec": {
   "display_name": "Python 3",
   "language": "python",
   "name": "python3"
  },
  "language_info": {
   "codemirror_mode": {
    "name": "ipython",
    "version": 2
   },
   "file_extension": ".py",
   "mimetype": "text/x-python",
   "name": "python",
   "nbconvert_exporter": "python",
   "pygments_lexer": "ipython2",
   "version": "2.7.6"
  }
 },
 "nbformat": 4,
 "nbformat_minor": 0
}