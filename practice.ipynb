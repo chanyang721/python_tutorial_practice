{
 "cells": [
  {
   "cell_type": "raw",
   "source": [
    "# Python & DataSpell Tutorial"
   ],
   "metadata": {
    "collapsed": false,
    "pycharm": {
     "name": ""
    }
   }
  },
  {
   "cell_type": "code",
   "execution_count": 9,
   "outputs": [
    {
     "name": "stdout",
     "output_type": "stream",
     "text": [
      "[[1 2]\n",
      " [3 4]]\n"
     ]
    }
   ],
   "source": [
    "import numpy as np\n",
    "\n",
    "x = np.array([\n",
    "    [ 1, 2 ],\n",
    "    [ 3, 4 ]\n",
    "])\n",
    "\n",
    "print(x)"
   ],
   "metadata": {
    "collapsed": false,
    "pycharm": {
     "name": "#%%\n"
    }
   }
  },
  {
   "cell_type": "code",
   "execution_count": 12,
   "outputs": [
    {
     "name": "stdout",
     "output_type": "stream",
     "text": [
      "[[0.91204189 0.88575845 0.7828931 ]\n",
      " [0.09507645 0.37256486 0.52566803]\n",
      " [0.23792459 0.32769537 0.68555421]]\n"
     ]
    }
   ],
   "source": [
    "y = np.random.random(size=(3,3))\n",
    "print(y)"
   ],
   "metadata": {
    "collapsed": false,
    "pycharm": {
     "name": "#%%\n"
    }
   }
  },
  {
   "cell_type": "markdown",
   "source": [
    "## 파이썬 문법"
   ],
   "metadata": {
    "collapsed": false,
    "pycharm": {
     "name": "#%% md\n"
    }
   }
  },
  {
   "cell_type": "code",
   "execution_count": 95,
   "outputs": [
    {
     "name": "stdout",
     "output_type": "stream",
     "text": [
      "a: 3\n",
      "b: -1\n",
      "c: 2\n",
      "d: 0.5\n",
      "e: 1\n",
      "f: 1\n"
     ]
    }
   ],
   "source": [
    "# 기본 연산\n",
    "a = 1 + 2\n",
    "b = 1 - 2\n",
    "c = 1 * 2\n",
    "d = 1 / 2\n",
    "e = 1 % 2\n",
    "f = 1 ** 2\n",
    "print(F'a: {a}')\n",
    "print(F'b: {b}')\n",
    "print(F'c: {c}')\n",
    "print(F'd: {d}')\n",
    "print(F'e: {e}')\n",
    "print(F'f: {f}')"
   ],
   "metadata": {
    "collapsed": false,
    "pycharm": {
     "name": "#%%\n"
    }
   }
  },
  {
   "cell_type": "code",
   "execution_count": 19,
   "outputs": [
    {
     "name": "stdout",
     "output_type": "stream",
     "text": [
      "fdsfs \"Isn't,\" they said.\n"
     ]
    }
   ],
   "source": [
    "# 문자열 정의\n",
    "a = \"fdsfs\"\n",
    "b = '\"Isn\\'t,\" they said.'\n",
    "print(a, b)"
   ],
   "metadata": {
    "collapsed": false,
    "pycharm": {
     "name": "#%%\n"
    }
   }
  },
  {
   "cell_type": "code",
   "execution_count": 92,
   "outputs": [
    {
     "name": "stdout",
     "output_type": "stream",
     "text": [
      "T\n",
      "t\n"
     ]
    }
   ],
   "source": [
    "a = \"Test\"\n",
    "print(a[0])\n",
    "print(a[-1])"
   ],
   "metadata": {
    "collapsed": false,
    "pycharm": {
     "name": "#%%\n"
    }
   }
  },
  {
   "cell_type": "code",
   "execution_count": 28,
   "outputs": [
    {
     "name": "stdout",
     "output_type": "stream",
     "text": [
      "123\n",
      "67\n"
     ]
    },
    {
     "data": {
      "text/plain": "7"
     },
     "execution_count": 28,
     "metadata": {},
     "output_type": "execute_result"
    }
   ],
   "source": [
    "a = \"1234567\"\n",
    "print(a[:3])\n",
    "print(a[-2:])\n",
    "len(a)"
   ],
   "metadata": {
    "collapsed": false,
    "pycharm": {
     "name": "#%%\n"
    }
   }
  },
  {
   "cell_type": "code",
   "execution_count": 34,
   "outputs": [
    {
     "name": "stdout",
     "output_type": "stream",
     "text": [
      "[[5, 0, 0, 0, 0], [0, 5, 0, 0, 0], [0, 0, 5, 0, 0], [0, 0, 0, 5, 0], [0, 0, 0, 0, 5]]\n"
     ]
    }
   ],
   "source": [
    "def makeTest (n):\n",
    "    matrix = []\n",
    "    for col in range (0, n):\n",
    "        row = []\n",
    "        for raw in range (0, n):\n",
    "            if col == raw:\n",
    "                row.append(n)\n",
    "            else:\n",
    "                row.append(0)\n",
    "        matrix.append(row)\n",
    "    return matrix\n",
    "\n",
    "print(makeTest(5))"
   ],
   "metadata": {
    "collapsed": false,
    "pycharm": {
     "name": "#%%\n"
    }
   }
  },
  {
   "cell_type": "code",
   "execution_count": 35,
   "outputs": [
    {
     "name": "stdout",
     "output_type": "stream",
     "text": [
      "[0, 1, 2, 3, 4, 6, 7, 8, 9]\n"
     ]
    }
   ],
   "source": [
    "a = []\n",
    "for x in range(0, 10):\n",
    "    if x == 5:\n",
    "        pass\n",
    "    else:\n",
    "        a.append(x)\n",
    "\n",
    "print(a)"
   ],
   "metadata": {
    "collapsed": false,
    "pycharm": {
     "name": "#%%\n"
    }
   }
  },
  {
   "cell_type": "code",
   "execution_count": 40,
   "outputs": [
    {
     "name": "stdout",
     "output_type": "stream",
     "text": [
      "x = 11\n",
      "None\n"
     ]
    }
   ],
   "source": [
    "def a ():\n",
    "    arr = []\n",
    "\n",
    "    # 디폴트 파라미터\n",
    "    def x (b = 10):\n",
    "        b = b + 1\n",
    "        return b\n",
    "\n",
    "    print(\"x =\", x())\n",
    "\n",
    "print(a())"
   ],
   "metadata": {
    "collapsed": false,
    "pycharm": {
     "name": "#%%\n"
    }
   }
  },
  {
   "cell_type": "code",
   "execution_count": 55,
   "outputs": [
    {
     "name": "stdout",
     "output_type": "stream",
     "text": [
      "첫번쨰 매계변수 : a\n",
      "--------------------\n",
      "추가 args\n",
      "b\n",
      "c\n",
      "** 키워드 인자\n",
      "{'넌뭐니': 'Michael Palin', 'client': 'John Cleese', 'sketch': 'Cheese Shop Sketch'}\n",
      "넌뭐니 : Michael Palin\n",
      "client : John Cleese\n",
      "sketch : Cheese Shop Sketch\n",
      "None\n"
     ]
    }
   ],
   "source": [
    "b = \"fdsafas\"\n",
    "\n",
    "def a (str, *args, **keywords):\n",
    "    print(\"첫번쨰 매계변수 :\", str)\n",
    "\n",
    "    print(\"-\" * 20)\n",
    "    print(\"추가 args\")\n",
    "    for arg in args:\n",
    "        print(arg)\n",
    "\n",
    "    print(\"** 키워드 인자\")\n",
    "    print(keywords)\n",
    "    for key in keywords:\n",
    "        print(key, \":\", keywords[key])\n",
    "\n",
    "    return\n",
    "\n",
    "print(a(\"a\", \"b\", \"c\",\n",
    "        넌뭐니=\"Michael Palin\",\n",
    "        client=\"John Cleese\",\n",
    "        sketch=\"Cheese Shop Sketch\"))"
   ],
   "metadata": {
    "collapsed": false,
    "pycharm": {
     "name": "#%%\n"
    }
   }
  },
  {
   "cell_type": "code",
   "execution_count": 57,
   "outputs": [
    {
     "name": "stdout",
     "output_type": "stream",
     "text": [
      "0 1\n",
      "1 2\n",
      "2 3\n"
     ]
    }
   ],
   "source": [
    "for i, v in enumerate(['1', '2', '3']):\n",
    "    print(i, v)"
   ],
   "metadata": {
    "collapsed": false,
    "pycharm": {
     "name": "#%%\n"
    }
   }
  },
  {
   "cell_type": "code",
   "execution_count": 87,
   "outputs": [
    {
     "name": "stdout",
     "output_type": "stream",
     "text": [
      "name - lancelot - 33333\n",
      "quest - the holy grail - 444444\n",
      "favorite color - blue - 55555\n"
     ]
    }
   ],
   "source": [
    "questions = ['name', 'quest', 'favorite color']\n",
    "answers = ['lancelot', 'the holy grail', 'blue']\n",
    "dc = ['33333', '444444', '55555']\n",
    "\n",
    "for i, (q, a, d) in enumerate(zip(questions, answers, dc)):\n",
    "    print(F'{questions[i]} - {answers[i]} - {dc[i]}')\n"
   ],
   "metadata": {
    "collapsed": false,
    "pycharm": {
     "name": "#%%\n"
    }
   }
  },
  {
   "cell_type": "code",
   "execution_count": null,
   "outputs": [],
   "source": [
    "dict(a=1, b=2, c=3)"
   ],
   "metadata": {
    "collapsed": false,
    "pycharm": {
     "name": "#%%\n",
     "is_executing": true
    }
   }
  },
  {
   "cell_type": "code",
   "execution_count": 14,
   "outputs": [
    {
     "name": "stdout",
     "output_type": "stream",
     "text": [
      "['a', 'b', 'c', 'd']\n",
      "['a', 'b', 'c', 'd']\n",
      "d\n",
      "deque(['a', 'b', 'c', 'd'])\n",
      "a\n"
     ]
    }
   ],
   "source": [],
   "metadata": {
    "collapsed": false,
    "pycharm": {
     "name": "#%%\n"
    }
   }
  },
  {
   "cell_type": "code",
   "execution_count": null,
   "outputs": [],
   "source": [
    "a = [\"a\", \"b\", \"c\"]\n",
    "a.append(\"d\")\n",
    "print(a)\n",
    "b = a.copy().pop()\n",
    "print(a)\n",
    "print(b)\n",
    "\n",
    "from collections import deque\n",
    "Q = deque(a)\n",
    "d = Q.copy().popleft()\n",
    "print(Q)\n",
    "print(d)\n"
   ],
   "metadata": {
    "collapsed": false,
    "pycharm": {
     "name": "#%%\n"
    }
   }
  },
  {
   "cell_type": "markdown",
   "source": [
    "###\n"
   ],
   "metadata": {
    "collapsed": false,
    "pycharm": {
     "name": "#%% md\n"
    }
   }
  }
 ],
 "metadata": {
  "kernelspec": {
   "display_name": "Python 3",
   "language": "python",
   "name": "python3"
  },
  "language_info": {
   "codemirror_mode": {
    "name": "ipython",
    "version": 2
   },
   "file_extension": ".py",
   "mimetype": "text/x-python",
   "name": "python",
   "nbconvert_exporter": "python",
   "pygments_lexer": "ipython2",
   "version": "2.7.6"
  }
 },
 "nbformat": 4,
 "nbformat_minor": 0
}