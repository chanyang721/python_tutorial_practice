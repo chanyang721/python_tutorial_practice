{
 "cells": [
  {
   "cell_type": "markdown",
   "source": [
    "# Python & DataSpell Tutorial"
   ],
   "metadata": {
    "collapsed": false,
    "pycharm": {
     "name": "#%% md\n"
    }
   }
  },
  {
   "cell_type": "code",
   "execution_count": 9,
   "outputs": [
    {
     "name": "stdout",
     "output_type": "stream",
     "text": [
      "[[1 2]\n",
      " [3 4]]\n"
     ]
    }
   ],
   "source": [
    "import numpy as np\n",
    "\n",
    "x = np.array([\n",
    "    [ 1, 2 ],\n",
    "    [ 3, 4 ]\n",
    "])\n",
    "\n",
    "print(x)"
   ],
   "metadata": {
    "collapsed": false,
    "pycharm": {
     "name": "#%%\n"
    }
   }
  },
  {
   "cell_type": "code",
   "execution_count": 12,
   "outputs": [
    {
     "name": "stdout",
     "output_type": "stream",
     "text": [
      "[[0.91204189 0.88575845 0.7828931 ]\n",
      " [0.09507645 0.37256486 0.52566803]\n",
      " [0.23792459 0.32769537 0.68555421]]\n"
     ]
    }
   ],
   "source": [
    "y = np.random.random(size=(3,3))\n",
    "print(y)"
   ],
   "metadata": {
    "collapsed": false,
    "pycharm": {
     "name": "#%%\n"
    }
   }
  },
  {
   "cell_type": "markdown",
   "source": [
    "## 파이썬 문법"
   ],
   "metadata": {
    "collapsed": false,
    "pycharm": {
     "name": "#%% md\n"
    }
   }
  },
  {
   "cell_type": "code",
   "execution_count": 13,
   "outputs": [],
   "source": [
    "# 기본 연산\n",
    "a = 1 + 1\n",
    "b = 1 - 1\n",
    "c = 1 * 1\n",
    "d = 1 / 1\n",
    "e = 1 % 1\n",
    "f = 1 ** 1"
   ],
   "metadata": {
    "collapsed": false,
    "pycharm": {
     "name": "#%%\n"
    }
   }
  },
  {
   "cell_type": "code",
   "execution_count": 19,
   "outputs": [
    {
     "name": "stdout",
     "output_type": "stream",
     "text": [
      "fdsfs \"Isn't,\" they said.\n"
     ]
    }
   ],
   "source": [
    "# 문자열 정의\n",
    "a = \"fdsfs\"\n",
    "b = '\"Isn\\'t,\" they said.'\n",
    "print(a, b)"
   ],
   "metadata": {
    "collapsed": false,
    "pycharm": {
     "name": "#%%\n"
    }
   }
  },
  {
   "cell_type": "code",
   "execution_count": 21,
   "outputs": [
    {
     "name": "stdout",
     "output_type": "stream",
     "text": [
      "f\n",
      "e\n"
     ]
    }
   ],
   "source": [
    "a = \"fefpwfwe\"\n",
    "print(a[0])\n",
    "print(a[-1])"
   ],
   "metadata": {
    "collapsed": false,
    "pycharm": {
     "name": "#%%\n"
    }
   }
  },
  {
   "cell_type": "code",
   "execution_count": 28,
   "outputs": [
    {
     "name": "stdout",
     "output_type": "stream",
     "text": [
      "123\n",
      "67\n"
     ]
    },
    {
     "data": {
      "text/plain": "7"
     },
     "execution_count": 28,
     "metadata": {},
     "output_type": "execute_result"
    }
   ],
   "source": [
    "a = \"1234567\"\n",
    "print(a[:3])\n",
    "print(a[-2:])\n",
    "len(a)"
   ],
   "metadata": {
    "collapsed": false,
    "pycharm": {
     "name": "#%%\n"
    }
   }
  },
  {
   "cell_type": "code",
   "execution_count": 34,
   "outputs": [
    {
     "name": "stdout",
     "output_type": "stream",
     "text": [
      "[[5, 0, 0, 0, 0], [0, 5, 0, 0, 0], [0, 0, 5, 0, 0], [0, 0, 0, 5, 0], [0, 0, 0, 0, 5]]\n"
     ]
    }
   ],
   "source": [
    "def makeTest (n):\n",
    "    matrix = []\n",
    "    for col in range (0, n):\n",
    "        row = []\n",
    "        for raw in range (0, n):\n",
    "            if col == raw:\n",
    "                row.append(n)\n",
    "            else:\n",
    "                row.append(0)\n",
    "        matrix.append(row)\n",
    "    return matrix\n",
    "\n",
    "print(makeTest(5))"
   ],
   "metadata": {
    "collapsed": false,
    "pycharm": {
     "name": "#%%\n"
    }
   }
  },
  {
   "cell_type": "code",
   "execution_count": 35,
   "outputs": [
    {
     "name": "stdout",
     "output_type": "stream",
     "text": [
      "[0, 1, 2, 3, 4, 6, 7, 8, 9]\n"
     ]
    }
   ],
   "source": [
    "a = []\n",
    "for x in range(0, 10):\n",
    "    if x == 5:\n",
    "        pass\n",
    "    else:\n",
    "        a.append(x)\n",
    "\n",
    "print(a)"
   ],
   "metadata": {
    "collapsed": false,
    "pycharm": {
     "name": "#%%\n"
    }
   }
  },
  {
   "cell_type": "code",
   "execution_count": 40,
   "outputs": [
    {
     "name": "stdout",
     "output_type": "stream",
     "text": [
      "x = 11\n",
      "None\n"
     ]
    }
   ],
   "source": [
    "def a ():\n",
    "    arr = []\n",
    "\n",
    "    # 디폴트 파라미터\n",
    "    def x (b = 10):\n",
    "        b = b + 1\n",
    "        return b\n",
    "\n",
    "    print(\"x =\", x())\n",
    "\n",
    "print(a())"
   ],
   "metadata": {
    "collapsed": false,
    "pycharm": {
     "name": "#%%\n"
    }
   }
  },
  {
   "cell_type": "code",
   "execution_count": 49,
   "outputs": [
    {
     "name": "stdout",
     "output_type": "stream",
     "text": [
      "첫번쨰 매계변수 : a\n",
      "////////////////////////////////////////\n",
      "b\n",
      "c\n",
      "넌뭐니 : Michael Palin\n",
      "client : John Cleese\n",
      "sketch : Cheese Shop Sketch\n",
      "None\n"
     ]
    }
   ],
   "source": [
    "b = \"fdsafas\"\n",
    "\n",
    "def a (str, *args, **keywords):\n",
    "    print(\"첫번쨰 매계변수 :\", str)\n",
    "    print(\"//\" * 20)\n",
    "\n",
    "    for arg in args:\n",
    "        print(arg)\n",
    "\n",
    "    for key in keywords:\n",
    "        print(key, \":\", keywords[key])\n",
    "\n",
    "    return\n",
    "\n",
    "\n",
    "\n",
    "print(a(\"a\", \"b\", \"c\",\n",
    "        넌뭐니=\"Michael Palin\",\n",
    "        client=\"John Cleese\",\n",
    "        sketch=\"Cheese Shop Sketch\"))"
   ],
   "metadata": {
    "collapsed": false,
    "pycharm": {
     "name": "#%%\n"
    }
   }
  },
  {
   "cell_type": "code",
   "execution_count": null,
   "outputs": [],
   "source": [],
   "metadata": {
    "collapsed": false,
    "pycharm": {
     "name": "#%%\n"
    }
   }
  }
 ],
 "metadata": {
  "kernelspec": {
   "display_name": "Python 3",
   "language": "python",
   "name": "python3"
  },
  "language_info": {
   "codemirror_mode": {
    "name": "ipython",
    "version": 2
   },
   "file_extension": ".py",
   "mimetype": "text/x-python",
   "name": "python",
   "nbconvert_exporter": "python",
   "pygments_lexer": "ipython2",
   "version": "2.7.6"
  }
 },
 "nbformat": 4,
 "nbformat_minor": 0
}