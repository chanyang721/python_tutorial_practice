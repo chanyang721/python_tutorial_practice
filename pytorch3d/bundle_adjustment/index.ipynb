{
 "cells": [
  {
   "cell_type": "code",
   "execution_count": 95,
   "metadata": {
    "collapsed": true,
    "pycharm": {
     "name": "#%%\n"
    }
   },
   "outputs": [],
   "source": [
    "import os\n",
    "import sys\n",
    "import torch\n",
    "need_pytorch3d=False\n",
    "try:\n",
    "    import pytorch3d\n",
    "except ModuleNotFoundError:\n",
    "    need_pytorch3d=True\n",
    "if need_pytorch3d:\n",
    "    if torch.__version__.startswith(\"1.12.\") and sys.platform.startswith(\"linux\"):\n",
    "        # We try to install PyTorch3D via a released wheel.\n",
    "        pyt_version_str=torch.__version__.split(\"+\")[0].replace(\".\", \"\")\n",
    "        version_str=\"\".join([\n",
    "            f\"py3{sys.version_info.minor}_cu\",\n",
    "            torch.version.cuda.replace(\".\",\"\"),\n",
    "            f\"_pyt{pyt_version_str}\"\n",
    "        ])\n",
    "        !pip install fvcore iopath\n",
    "        !pip install --no-index --no-cache-dir pytorch3d -f https://dl.fbaipublicfiles.com/pytorch3d/packaging/wheels/{version_str}/download.html\n",
    "    else:\n",
    "        # We try to install PyTorch3D from source.\n",
    "        !curl -LO https://github.com/NVIDIA/cub/archive/1.10.0.tar.gz\n",
    "        !tar xzf 1.10.0.tar.gz\n",
    "        os.environ[\"CUB_HOME\"] = os.getcwd() + \"/cub-1.10.0\"\n",
    "        !pip install 'git+https://github.com/facebookresearch/pytorch3d.git@stable'"
   ]
  },
  {
   "cell_type": "code",
   "execution_count": 96,
   "outputs": [
    {
     "name": "stdout",
     "output_type": "stream",
     "text": [
      "WARNING: CPU only, this will be slow!\n"
     ]
    }
   ],
   "source": [
    "# imports\n",
    "import torch\n",
    "from pytorch3d.transforms.so3 import (\n",
    "    so3_exp_map,\n",
    "    so3_relative_angle,\n",
    ")\n",
    "from pytorch3d.renderer.cameras import (\n",
    "    PerspectiveCameras,\n",
    ")\n",
    "\n",
    "# add path for demo utils\n",
    "import sys\n",
    "import os\n",
    "sys.path.append(os.path.abspath(''))\n",
    "\n",
    "# set for reproducibility\n",
    "torch.manual_seed(42)\n",
    "if torch.cuda.is_available():\n",
    "    device = torch.device(\"cuda:0\")\n",
    "else:\n",
    "    device = torch.device(\"cpu\")\n",
    "    print(\"WARNING: CPU only, this will be slow!\")"
   ],
   "metadata": {
    "collapsed": false,
    "pycharm": {
     "name": "#%%\n"
    }
   }
  },
  {
   "cell_type": "code",
   "execution_count": 97,
   "outputs": [
    {
     "name": "stdout",
     "output_type": "stream",
     "text": [
      "--2022-09-29 18:22:34--  https://raw.githubusercontent.com/facebookresearch/pytorch3d/main/docs/tutorials/utils/camera_visualization.py\r\n",
      "Resolving raw.githubusercontent.com (raw.githubusercontent.com)... 185.199.108.133, 185.199.109.133, 185.199.111.133, ...\r\n",
      "Connecting to raw.githubusercontent.com (raw.githubusercontent.com)|185.199.108.133|:443... connected.\r\n",
      "HTTP request sent, awaiting response... 200 OK\r\n",
      "Length: 2029 (2.0K) [text/plain]\r\n",
      "Saving to: 'camera_visualization.py.1'\r\n",
      "\r\n",
      "camera_visualizatio 100%[===================>]   1.98K  --.-KB/s    in 0s      \r\n",
      "\r\n",
      "2022-09-29 18:22:35 (17.4 MB/s) - 'camera_visualization.py.1' saved [2029/2029]\r\n",
      "\r\n",
      "mkdir: data: File exists\r\n",
      "--2022-09-29 18:22:35--  https://raw.githubusercontent.com/facebookresearch/pytorch3d/main/docs/tutorials/data/camera_graph.pth\r\n",
      "Resolving raw.githubusercontent.com (raw.githubusercontent.com)... 185.199.109.133, 185.199.111.133, 185.199.110.133, ...\r\n",
      "Connecting to raw.githubusercontent.com (raw.githubusercontent.com)|185.199.109.133|:443... connected.\r\n",
      "HTTP request sent, awaiting response... 200 OK\r\n",
      "Length: 16896 (16K) [application/octet-stream]\r\n",
      "Saving to: 'data/camera_graph.pth.9'\r\n",
      "\r\n",
      "camera_graph.pth.9  100%[===================>]  16.50K  --.-KB/s    in 0.003s  \r\n",
      "\r\n",
      "2022-09-29 18:22:36 (5.80 MB/s) - 'data/camera_graph.pth.9' saved [16896/16896]\r\n",
      "\r\n"
     ]
    }
   ],
   "source": [
    "!wget https://raw.githubusercontent.com/facebookresearch/pytorch3d/main/docs/tutorials/utils/camera_visualization.py\n",
    "from camera_visualization import plot_camera_scene\n",
    "\n",
    "!mkdir data\n",
    "!wget -P data https://raw.githubusercontent.com/facebookresearch/pytorch3d/main/docs/tutorials/data/camera_graph.pth"
   ],
   "metadata": {
    "collapsed": false,
    "pycharm": {
     "name": "#%%\n"
    }
   }
  },
  {
   "cell_type": "code",
   "execution_count": 98,
   "outputs": [],
   "source": [
    "## Setup Camera\n",
    "camera_graph_file = './data/camera_graph.pth'\n",
    "(R_absolute_gt, T_absolte_gt), (R_relative, T_relative), relative_edges = torch.load(camera_graph_file)\n",
    "\n",
    "cameras_relative = PerspectiveCameras(\n",
    "    R = R_relative.to(device),\n",
    "    T = R_relative.to(device),\n",
    "    device = device\n",
    ")\n",
    "\n",
    "cameras_absolute_gt = PerspectiveCameras(\n",
    "    R = R_absolute_gt.to(device),\n",
    "    T = T_absolte_gt.to(device),\n",
    "    device = device\n",
    ")\n",
    "\n",
    "N = R_absolute_gt.shape[0]"
   ],
   "metadata": {
    "collapsed": false,
    "pycharm": {
     "name": "#%%\n"
    }
   }
  },
  {
   "cell_type": "code",
   "execution_count": 99,
   "outputs": [],
   "source": [
    "def calc_camera_distance(cam_1, cam_2):\n",
    "\n",
    "    R_distance = (1.-so3_relative_angle(cam_1.R, cam_2.R, cos_angle=True)).mean()\n",
    "\n",
    "    T_distance = ((cam_1.T - cam_2.T)**2).sum(1).mean()\n",
    "\n",
    "    return R_distance + T_distance\n",
    "\n",
    "def get_relative_camera(cams, edges):\n",
    "    trans_i, trans_j = [\n",
    "        PerspectiveCameras(\n",
    "            R = cams.R[edges[:, i]],\n",
    "            T = cams.T[edges[:, i]],\n",
    "            device = device,\n",
    "        ).get_world_to_view_transform()\n",
    "        for i in (0, 1)\n",
    "    ]\n",
    "\n",
    "    trans_rel = trans_i.inverse().compose(trans_j)\n",
    "\n",
    "    matrix_rel = trans_rel.get_matrix()\n",
    "    cams_relative = PerspectiveCameras(\n",
    "        R = matrix_rel[:, :3, :3],\n",
    "        T = matrix_rel[:, 3, :3],\n",
    "        device = device,\n",
    "    )\n",
    "\n",
    "    return cams_relative"
   ],
   "metadata": {
    "collapsed": false,
    "pycharm": {
     "name": "#%%\n"
    }
   }
  },
  {
   "cell_type": "code",
   "execution_count": 100,
   "outputs": [
    {
     "name": "stdout",
     "output_type": "stream",
     "text": [
      "tensor([1.])\n"
     ]
    },
    {
     "ename": "RuntimeError",
     "evalue": "The size of tensor a (190) must match the size of tensor b (3) at non-singleton dimension 1",
     "output_type": "error",
     "traceback": [
      "\u001B[0;31m---------------------------------------------------------------------------\u001B[0m",
      "\u001B[0;31mRuntimeError\u001B[0m                              Traceback (most recent call last)",
      "Input \u001B[0;32mIn [100]\u001B[0m, in \u001B[0;36m<cell line: 25>\u001B[0;34m()\u001B[0m\n\u001B[1;32m     36\u001B[0m \u001B[38;5;66;03m##\u001B[39;00m\n\u001B[1;32m     37\u001B[0m cameras_relative_composed \u001B[38;5;241m=\u001B[39m get_relative_camera(cameras_absolute, relative_edges)\n\u001B[0;32m---> 38\u001B[0m camera_distance \u001B[38;5;241m=\u001B[39m \u001B[43mcalc_camera_distance\u001B[49m\u001B[43m(\u001B[49m\u001B[43mcameras_relative_composed\u001B[49m\u001B[43m,\u001B[49m\u001B[43m \u001B[49m\u001B[43mcameras_relative\u001B[49m\u001B[43m)\u001B[49m\n\u001B[1;32m     40\u001B[0m \u001B[38;5;66;03m##\u001B[39;00m\n\u001B[1;32m     41\u001B[0m camera_distance\u001B[38;5;241m.\u001B[39mbackword()\n",
      "Input \u001B[0;32mIn [99]\u001B[0m, in \u001B[0;36mcalc_camera_distance\u001B[0;34m(cam_1, cam_2)\u001B[0m\n\u001B[1;32m      1\u001B[0m \u001B[38;5;28;01mdef\u001B[39;00m \u001B[38;5;21mcalc_camera_distance\u001B[39m(cam_1, cam_2):\n\u001B[1;32m      3\u001B[0m     R_distance \u001B[38;5;241m=\u001B[39m (\u001B[38;5;241m1.\u001B[39m\u001B[38;5;241m-\u001B[39mso3_relative_angle(cam_1\u001B[38;5;241m.\u001B[39mR, cam_2\u001B[38;5;241m.\u001B[39mR, cos_angle\u001B[38;5;241m=\u001B[39m\u001B[38;5;28;01mTrue\u001B[39;00m))\u001B[38;5;241m.\u001B[39mmean()\n\u001B[0;32m----> 5\u001B[0m     T_distance \u001B[38;5;241m=\u001B[39m ((\u001B[43mcam_1\u001B[49m\u001B[38;5;241;43m.\u001B[39;49m\u001B[43mT\u001B[49m\u001B[43m \u001B[49m\u001B[38;5;241;43m-\u001B[39;49m\u001B[43m \u001B[49m\u001B[43mcam_2\u001B[49m\u001B[38;5;241;43m.\u001B[39;49m\u001B[43mT\u001B[49m)\u001B[38;5;241m*\u001B[39m\u001B[38;5;241m*\u001B[39m\u001B[38;5;241m2\u001B[39m)\u001B[38;5;241m.\u001B[39msum(\u001B[38;5;241m1\u001B[39m)\u001B[38;5;241m.\u001B[39mmean()\n\u001B[1;32m      7\u001B[0m     \u001B[38;5;28;01mreturn\u001B[39;00m R_distance \u001B[38;5;241m+\u001B[39m T_distance\n",
      "\u001B[0;31mRuntimeError\u001B[0m: The size of tensor a (190) must match the size of tensor b (3) at non-singleton dimension 1"
     ]
    }
   ],
   "source": [
    "# 초기화\n",
    "log_R_absolute_init = torch.randn(N, 3, dtype = torch.float32, device = device)\n",
    "T_absolute_init = torch.randn(N, 3, dtype = torch.float32, device = device)\n",
    "\n",
    "log_R_absolute_init[0, :] = 0.0\n",
    "T_absolute_init[0, :] = 0.0\n",
    "\n",
    "log_R_absolute = log_R_absolute_init.clone().detach()\n",
    "log_R_absolute.requires_grad = True\n",
    "\n",
    "T_absolute = T_absolute_init.clone().detach()\n",
    "T_absolute.requires_grad = True\n",
    "\n",
    "\n",
    "camera_mask = torch.ones(N, 1, dtype = torch.float32, device = device)\n",
    "print(camera_mask[0])\n",
    "camera_mask[0] = 0.0\n",
    "\n",
    "\n",
    "optimizer = torch.optim.SGD([ log_R_absolute, T_absolute ], lr = .1, momentum = .9)\n",
    "\n",
    "\n",
    "n_iter = 2000\n",
    "loop = range(n_iter)\n",
    "for i in range(n_iter):\n",
    "    optimizer.zero_grad() # 최적화 경사도 초기화\n",
    "    R_absolute = so3_exp_map(log_R_absolute * camera_mask)\n",
    "\n",
    "    ##\n",
    "    cameras_absolute = PerspectiveCameras(\n",
    "        R = R_absolute,\n",
    "        T = T_absolute * camera_mask,\n",
    "        device = device,\n",
    "    )\n",
    "\n",
    "    ##\n",
    "    cameras_relative_composed = get_relative_camera(cameras_absolute, relative_edges)\n",
    "    camera_distance = calc_camera_distance(cameras_relative_composed, cameras_relative)\n",
    "\n",
    "    ##\n",
    "    camera_distance.backword()\n",
    "\n",
    "    ##\n",
    "    optimizer.step()\n",
    "\n",
    "    ## 반복문이 끝나는\n",
    "    if i % 200==0 or i==n_iter-1:\n",
    "        status = 'iteration=%3d; camera_distance=%1.3e' % (i, camera_distance)\n",
    "        plot_camera_scene(cameras_absolute, cameras_absolute_gt, status)\n",
    "\n",
    "\n",
    "print('Optimization finished.')"
   ],
   "metadata": {
    "collapsed": false,
    "pycharm": {
     "name": "#%%\n"
    }
   }
  }
 ],
 "metadata": {
  "kernelspec": {
   "display_name": "Python 3",
   "language": "python",
   "name": "python3"
  },
  "language_info": {
   "codemirror_mode": {
    "name": "ipython",
    "version": 2
   },
   "file_extension": ".py",
   "mimetype": "text/x-python",
   "name": "python",
   "nbconvert_exporter": "python",
   "pygments_lexer": "ipython2",
   "version": "2.7.6"
  }
 },
 "nbformat": 4,
 "nbformat_minor": 0
}