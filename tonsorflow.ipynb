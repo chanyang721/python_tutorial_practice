{
 "cells": [
  {
   "cell_type": "markdown",
   "source": [
    "## TensorFlow Tutorial"
   ],
   "metadata": {
    "collapsed": false,
    "pycharm": {
     "name": "#%% md\n"
    }
   }
  },
  {
   "cell_type": "code",
   "execution_count": null,
   "outputs": [],
   "source": [
    "import tensorflow as tf\n",
    "print(\"fdsaf\")\n",
    "print(\"TensorFlow ver sion:\", tf.__version__)"
   ],
   "metadata": {
    "collapsed": false,
    "pycharm": {
     "name": "#%%\n",
     "is_executing": true
    }
   }
  },
  {
   "cell_type": "code",
   "execution_count": 1,
   "outputs": [
    {
     "ename": "NameError",
     "evalue": "name 'tf' is not defined",
     "output_type": "error",
     "traceback": [
      "\u001B[0;31m---------------------------------------------------------------------------\u001B[0m",
      "\u001B[0;31mNameError\u001B[0m                                 Traceback (most recent call last)",
      "Input \u001B[0;32mIn [1]\u001B[0m, in \u001B[0;36m<cell line: 1>\u001B[0;34m()\u001B[0m\n\u001B[0;32m----> 1\u001B[0m mnist \u001B[38;5;241m=\u001B[39m \u001B[43mtf\u001B[49m\u001B[38;5;241m.\u001B[39mkeras\u001B[38;5;241m.\u001B[39mdatasets\u001B[38;5;241m.\u001B[39mmnist\n\u001B[1;32m      3\u001B[0m (x_train, y_train), (x_test, y_test) \u001B[38;5;241m=\u001B[39m mnist\u001B[38;5;241m.\u001B[39mload_data()\n\u001B[1;32m      4\u001B[0m x_train, x_test \u001B[38;5;241m=\u001B[39m x_train \u001B[38;5;241m/\u001B[39m \u001B[38;5;241m255.0\u001B[39m, x_test \u001B[38;5;241m/\u001B[39m \u001B[38;5;241m255.0\u001B[39m\n",
      "\u001B[0;31mNameError\u001B[0m: name 'tf' is not defined"
     ]
    }
   ],
   "source": [
    "mnist = tf.keras.datasets.mnist\n",
    "\n",
    "(x_train, y_train), (x_test, y_test) = mnist.load_data()\n",
    "x_train, x_test = x_train / 255.0, x_test / 255.0"
   ],
   "metadata": {
    "collapsed": false,
    "pycharm": {
     "name": "#%%\n"
    }
   }
  },
  {
   "cell_type": "markdown",
   "source": [],
   "metadata": {
    "collapsed": false,
    "pycharm": {
     "name": "#%% md\n"
    }
   }
  },
  {
   "cell_type": "markdown",
   "source": [],
   "metadata": {
    "collapsed": false,
    "pycharm": {
     "name": "#%% md\n"
    }
   }
  },
  {
   "cell_type": "code",
   "execution_count": 11,
   "outputs": [
    {
     "name": "stdout",
     "output_type": "stream",
     "text": [
      "[7, 3, 31]\n",
      "numpy + : [ 46 426 239]\n",
      "numpy - : [ -38 -378 -181]\n",
      "numpy s* : [ 8 48 58]\n",
      "numpy * : [ 168 9648 6090]\n",
      "numpy / : [0.0952381  0.05970149 0.13809524]\n",
      "None\n"
     ]
    }
   ],
   "source": [
    "# 1. 스칼라의 정의: 크기를 가진 물리량\n",
    "#       표현식: a = 1\n",
    "#       사칙 연산은 기존과 같음\n",
    "# 2. 벡터의 정의: 크기와 방향을 가진 물리량\n",
    "#       표현식: a = [2, 3], b = [2, 4, 5]\n",
    "def AddVector ():\n",
    "    \"\"\"\n",
    "    벡터의 덧셈\n",
    "    \"\"\"\n",
    "    add = []\n",
    "    u = [3, 2, 12]\n",
    "    c = [4, 1, 19]\n",
    "\n",
    "    len(u)\n",
    "\n",
    "    if (len(u) != len(c)):\n",
    "        return F\"덧셈 불가능: {len(u)}, {len(c)}\"\n",
    "\n",
    "    for i in range (0, len(u)):\n",
    "        add.append(u[i] + c[i])\n",
    "\n",
    "    return add\n",
    "\n",
    "# 넘파이 사칙 연산 실습\n",
    "import numpy as np\n",
    "def numpy_v_test ():\n",
    "    u = np.array([4, 24, 29])\n",
    "    v = np.array([42, 402, 210])\n",
    "\n",
    "    w = u + v\n",
    "    print(\"numpy + :\", w)\n",
    "\n",
    "    w = u - v\n",
    "    print(\"numpy - :\", w)\n",
    "\n",
    "    w = 2 * u\n",
    "    print(\"numpy s* :\", w)\n",
    "\n",
    "    w = u * v\n",
    "    print(\"numpy * :\", w)\n",
    "\n",
    "    w = u / v\n",
    "    print(\"numpy / :\", w)\n",
    "\n",
    "print(AddVector())\n",
    "print(numpy_v_test())\n"
   ],
   "metadata": {
    "collapsed": false,
    "pycharm": {
     "name": "#%%\n"
    }
   }
  },
  {
   "cell_type": "code",
   "execution_count": null,
   "outputs": [],
   "source": [],
   "metadata": {
    "collapsed": false,
    "pycharm": {
     "name": "#%%\n"
    }
   }
  }
 ],
 "metadata": {
  "kernelspec": {
   "display_name": "Python 3",
   "language": "python",
   "name": "python3"
  },
  "language_info": {
   "codemirror_mode": {
    "name": "ipython",
    "version": 2
   },
   "file_extension": ".py",
   "mimetype": "text/x-python",
   "name": "python",
   "nbconvert_exporter": "python",
   "pygments_lexer": "ipython2",
   "version": "2.7.6"
  }
 },
 "nbformat": 4,
 "nbformat_minor": 0
}