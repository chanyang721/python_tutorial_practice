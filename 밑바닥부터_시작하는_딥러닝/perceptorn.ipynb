{
 "cells": [
  {
   "cell_type": "markdown",
   "source": [
    "### Perceptron 구현 실습"
   ],
   "metadata": {
    "collapsed": false,
    "pycharm": {
     "name": "#%% md\n"
    }
   }
  },
  {
   "cell_type": "code",
   "execution_count": 34,
   "outputs": [
    {
     "name": "stdout",
     "output_type": "stream",
     "text": [
      "편향을 통해 퍼셉트론 임계값 구하기\n",
      "-------------------\n",
      "x1 = 0, x2 = 0 | 0\n",
      "x1 = 1, x2 = 0 | 0\n",
      "x1 = 0, x2 = 1 | 0\n",
      "x1 = 1, x2 = 1 | 1\n",
      "-------------------\n"
     ]
    }
   ],
   "source": [
    "import numpy as np\n",
    "# print(\"AND 게이트\")\n",
    "# def And(x1, x2):\n",
    "#     w1, w2, theta = 0.5, 0.5, 0.7\n",
    "#\n",
    "#     tmp = x1 * w1 + x2 * w2\n",
    "#\n",
    "#     if tmp > theta:\n",
    "#         return 1\n",
    "#     elif tmp <= theta:\n",
    "#         return 0\n",
    "#\n",
    "# print(\"-------------------\")\n",
    "# print(\"x1 = 0, x2 = 0\", \"|\", And(0, 0))\n",
    "# print(\"x1 = 1, x2 = 0\", \"|\", And(1, 0))\n",
    "# print(\"x1 = 0, x2 = 1\", \"|\", And(0, 1))\n",
    "# print(\"x1 = 1, x2 = 1\", \"|\", And(1, 1))\n",
    "# print(\"-------------------\")\n",
    "\n",
    "print(\"편향을 통해 퍼셉트론 임계값 구하기\")\n",
    "def BiasAddGate(x1, x2):\n",
    "    x = np.array([ x1, x2 ])\n",
    "    w = np.array([ 0.5, 0.5 ])\n",
    "    b = -0.7\n",
    "\n",
    "    r = np.sum(x * w) + b # x1*w1 + x2*w2\n",
    "    if r > 0:\n",
    "        return 1\n",
    "    elif r <= 0:\n",
    "        return 0\n",
    "\n",
    "print(\"-------------------\")\n",
    "print(\"x1 = 0, x2 = 0\", \"|\", BiasAddGate(0, 0))\n",
    "print(\"x1 = 1, x2 = 0\", \"|\", BiasAddGate(1, 0))\n",
    "print(\"x1 = 0, x2 = 1\", \"|\", BiasAddGate(0, 1))\n",
    "print(\"x1 = 1, x2 = 1\", \"|\", BiasAddGate(1, 1))\n",
    "print(\"-------------------\")\n"
   ],
   "metadata": {
    "collapsed": false,
    "pycharm": {
     "name": "#%%\n"
    }
   }
  },
  {
   "cell_type": "code",
   "execution_count": 35,
   "outputs": [
    {
     "name": "stdout",
     "output_type": "stream",
     "text": [
      "NotAND 게이트\n",
      "-------------------\n",
      "x1 = 0, x2 = 0 | 1\n",
      "x1 = 1, x2 = 0 | 1\n",
      "x1 = 0, x2 = 1 | 1\n",
      "x1 = 1, x2 = 1 | 0\n",
      "-------------------\n"
     ]
    }
   ],
   "source": [
    "import numpy as np\n",
    "\n",
    "print(\"NotAND 게이트\")\n",
    "def NotAND(x1, x2):\n",
    "    x = np.array([x1, x2])\n",
    "    w = np.array([-0.5, -0.5])\n",
    "    b = 0.7\n",
    "\n",
    "    r = np.sum(x * w) + b\n",
    "\n",
    "    if r > 0:\n",
    "        return 1\n",
    "    elif r <= 0:\n",
    "        return 0\n",
    "\n",
    "print(\"-------------------\")\n",
    "print(\"x1 = 0, x2 = 0\", \"|\", NotAND(0, 0))\n",
    "print(\"x1 = 1, x2 = 0\", \"|\", NotAND(1, 0))\n",
    "print(\"x1 = 0, x2 = 1\", \"|\", NotAND(0, 1))\n",
    "print(\"x1 = 1, x2 = 1\", \"|\", NotAND(1, 1))\n",
    "print(\"-------------------\")"
   ],
   "metadata": {
    "collapsed": false,
    "pycharm": {
     "name": "#%%\n"
    }
   }
  },
  {
   "cell_type": "code",
   "execution_count": 36,
   "outputs": [
    {
     "name": "stdout",
     "output_type": "stream",
     "text": [
      "OR 게이트\n",
      "-------------------\n",
      "x1 = 0, x2 = 0 | 0\n",
      "x1 = 1, x2 = 0 | 1\n",
      "x1 = 0, x2 = 1 | 1\n",
      "x1 = 1, x2 = 1 | 1\n",
      "-------------------\n"
     ]
    }
   ],
   "source": [
    "import numpy as np\n",
    "print(\"OR 게이트\")\n",
    "def OR(x1, x2):\n",
    "    x = np.array([ x1, x2 ])\n",
    "    w = np.array([ 0.5, 0.5 ])\n",
    "    b = -0.2\n",
    "\n",
    "    r = np.sum(x * w) + b\n",
    "    if r > 0:\n",
    "        return 1\n",
    "    elif r <= 0:\n",
    "        return 0\n",
    "\n",
    "print(\"-------------------\")\n",
    "print(\"x1 = 0, x2 = 0\", \"|\", OR(0, 0))\n",
    "print(\"x1 = 1, x2 = 0\", \"|\", OR(1, 0))\n",
    "print(\"x1 = 0, x2 = 1\", \"|\", OR(0, 1))\n",
    "print(\"x1 = 1, x2 = 1\", \"|\", OR(1, 1))\n",
    "print(\"-------------------\")"
   ],
   "metadata": {
    "collapsed": false,
    "pycharm": {
     "name": "#%%\n"
    }
   }
  },
  {
   "cell_type": "code",
   "execution_count": 37,
   "outputs": [
    {
     "name": "stdout",
     "output_type": "stream",
     "text": [
      "XOR 게이트\n",
      "-------------------\n",
      "x1 | x2 || s1 | s2  || y\n",
      "0  |  0 ||             0\n",
      "1  |  0 ||             1\n",
      "0  |  1 ||             1\n",
      "1  |  1 ||             0\n",
      "-------------------\n"
     ]
    }
   ],
   "source": [
    "print(\"XOR 게이트\")\n",
    "\n",
    "def XOR(x1, x2):\n",
    "    s1 = NotAND(x1, x2)\n",
    "    s2 = OR(x1, x2)\n",
    "    r = BiasAddGate(s1, s2)\n",
    "    return r\n",
    "\n",
    "print(\"-------------------\")\n",
    "print(\"x1 | x2 || s1 | s2  || y\")\n",
    "print(\"0  |  0\", \"||\", \"           \",  XOR(0, 0))\n",
    "print(\"1  |  0\", \"||\", \"           \",  XOR(1, 0))\n",
    "print(\"0  |  1\", \"||\", \"           \",  XOR(0, 1))\n",
    "print(\"1  |  1\", \"||\", \"           \",  XOR(1, 1))\n",
    "print(\"-------------------\")"
   ],
   "metadata": {
    "collapsed": false,
    "pycharm": {
     "name": "#%%\n"
    }
   }
  },
  {
   "cell_type": "code",
   "execution_count": 37,
   "outputs": [],
   "source": [],
   "metadata": {
    "collapsed": false,
    "pycharm": {
     "name": "#%%\n"
    }
   }
  }
 ],
 "metadata": {
  "kernelspec": {
   "display_name": "Python 3",
   "language": "python",
   "name": "python3"
  },
  "language_info": {
   "codemirror_mode": {
    "name": "ipython",
    "version": 2
   },
   "file_extension": ".py",
   "mimetype": "text/x-python",
   "name": "python",
   "nbconvert_exporter": "python",
   "pygments_lexer": "ipython2",
   "version": "2.7.6"
  }
 },
 "nbformat": 4,
 "nbformat_minor": 0
}