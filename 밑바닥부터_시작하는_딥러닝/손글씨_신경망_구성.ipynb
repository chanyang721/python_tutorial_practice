{
 "cells": [
  {
   "cell_type": "markdown",
   "source": [
    "## 손글씨 숫자 인식 신경망 구축"
   ],
   "metadata": {
    "collapsed": false,
    "pycharm": {
     "name": "#%% md\n"
    }
   }
  },
  {
   "cell_type": "code",
   "execution_count": 1,
   "outputs": [
    {
     "name": "stdout",
     "output_type": "stream",
     "text": [
      "  % Total    % Received % Xferd  Average Speed   Time    Time     Time  Current\r\n",
      "                                 Dload  Upload   Total   Spent    Left  Speed\r\n",
      "  0     0    0     0    0     0      0      0 --:--:-- --:--:-- --:--:--     0\r\n",
      "100  404k    0  404k    0     0   435k      0 --:--:-- --:--:-- --:--:-- 3734k\r\n",
      "Collecting git+https://github.com/facebookresearch/pytorch3d.git@stable\r\n",
      "  Cloning https://github.com/facebookresearch/pytorch3d.git (to revision stable) to /private/var/folders/yf/mmrj8c9d2zbfn3w8crhhf0_r0000gn/T/pip-req-build-t8pewzur\r\n",
      "  Running command git clone -q https://github.com/facebookresearch/pytorch3d.git /private/var/folders/yf/mmrj8c9d2zbfn3w8crhhf0_r0000gn/T/pip-req-build-t8pewzur\r\n",
      "  Running command git checkout -q 276c9a8acbfa715f5802f26ec9f4141bde26ecb4\r\n",
      "  Resolved https://github.com/facebookresearch/pytorch3d.git to commit 276c9a8acbfa715f5802f26ec9f4141bde26ecb4\r\n",
      "Requirement already satisfied: fvcore in /Users/tospace01/opt/anaconda3/lib/python3.9/site-packages (from pytorch3d==0.7.0) (0.1.5.post20220512)\r\n",
      "Requirement already satisfied: iopath in /Users/tospace01/opt/anaconda3/lib/python3.9/site-packages (from pytorch3d==0.7.0) (0.1.10)\r\n",
      "Requirement already satisfied: numpy in /Users/tospace01/opt/anaconda3/lib/python3.9/site-packages (from fvcore->pytorch3d==0.7.0) (1.21.5)\r\n",
      "Requirement already satisfied: yacs>=0.1.6 in /Users/tospace01/opt/anaconda3/lib/python3.9/site-packages (from fvcore->pytorch3d==0.7.0) (0.1.8)\r\n",
      "Requirement already satisfied: tqdm in /Users/tospace01/opt/anaconda3/lib/python3.9/site-packages (from fvcore->pytorch3d==0.7.0) (4.64.0)\r\n",
      "Requirement already satisfied: termcolor>=1.1 in /Users/tospace01/opt/anaconda3/lib/python3.9/site-packages (from fvcore->pytorch3d==0.7.0) (2.0.1)\r\n",
      "Requirement already satisfied: Pillow in /Users/tospace01/opt/anaconda3/lib/python3.9/site-packages (from fvcore->pytorch3d==0.7.0) (9.0.1)\r\n",
      "Requirement already satisfied: pyyaml>=5.1 in /Users/tospace01/opt/anaconda3/lib/python3.9/site-packages (from fvcore->pytorch3d==0.7.0) (6.0)\r\n",
      "Requirement already satisfied: tabulate in /Users/tospace01/opt/anaconda3/lib/python3.9/site-packages (from fvcore->pytorch3d==0.7.0) (0.8.9)\r\n",
      "Requirement already satisfied: typing-extensions in /Users/tospace01/opt/anaconda3/lib/python3.9/site-packages (from iopath->pytorch3d==0.7.0) (4.1.1)\r\n",
      "Requirement already satisfied: portalocker in /Users/tospace01/opt/anaconda3/lib/python3.9/site-packages (from iopath->pytorch3d==0.7.0) (2.5.1)\r\n",
      "Building wheels for collected packages: pytorch3d\r\n",
      "  Building wheel for pytorch3d (setup.py) ... \u001B[?25ldone\r\n",
      "\u001B[?25h  Created wheel for pytorch3d: filename=pytorch3d-0.7.0-cp39-cp39-macosx_10_9_x86_64.whl size=807615 sha256=92f2921255b190499fbfaabb3bd42e102788c64579df8e9b275ef0d0afec5fa8\r\n",
      "  Stored in directory: /private/var/folders/yf/mmrj8c9d2zbfn3w8crhhf0_r0000gn/T/pip-ephem-wheel-cache-awexypt3/wheels/d7/e2/25/51fb3f170ac9f43bf7d1bd4bdbf67e4a34104adc2ecfe5f62e\r\n",
      "Successfully built pytorch3d\r\n",
      "Installing collected packages: pytorch3d\r\n",
      "Successfully installed pytorch3d-0.7.0\r\n"
     ]
    }
   ],
   "source": [
    "import os\n",
    "import sys\n",
    "import torch\n",
    "need_pytorch3d=False\n",
    "try:\n",
    "    import pytorch3d\n",
    "except ModuleNotFoundError:\n",
    "    need_pytorch3d=True\n",
    "if need_pytorch3d:\n",
    "    if torch.__version__.startswith(\"1.12.\") and sys.platform.startswith(\"linux\"):\n",
    "        # We try to install PyTorch3D via a released wheel.\n",
    "        pyt_version_str=torch.__version__.split(\"+\")[0].replace(\".\", \"\")\n",
    "\n",
    "        version_str=\"\".join([\n",
    "            f\"py3{sys.version_info.minor}_cu\",\n",
    "            torch.version.cuda.replace(\".\",\"\"),\n",
    "            f\"_pyt{pyt_version_str}\"\n",
    "        ])\n",
    "\n",
    "        !pip install fvcore iopath\n",
    "        !pip install --no-index --no-cache-dir pytorch3d -f https://dl.fbaipublicfiles.com/pytorch3d/packaging/wheels/{version_str}/download.html\n",
    "    else:\n",
    "        # We try to install PyTorch3D from source.\n",
    "        !curl -LO https://github.com/NVIDIA/cub/archive/1.10.0.tar.gz\n",
    "        !tar xzf 1.10.0.tar.gz\n",
    "        os.environ[\"CUB_HOME\"] = os.getcwd() + \"/cub-1.10.0\"\n",
    "        !pip install 'git+https://github.com/facebookresearch/pytorch3d.git@stable'"
   ],
   "metadata": {
    "collapsed": false,
    "pycharm": {
     "name": "#%%\n"
    }
   }
  },
  {
   "cell_type": "code",
   "execution_count": 7,
   "outputs": [
    {
     "name": "stdout",
     "output_type": "stream",
     "text": [
      "WARNING: CPU only, this will be slow!\n"
     ]
    }
   ],
   "source": [
    "import os\n",
    "import torch\n",
    "\n",
    "# Util function for loading meshes\n",
    "from pytorch3d.io import save_obj, load_obj\n",
    "\n",
    "# Data structures and functions for rendering\n",
    "from pytorch3d.structures import Meshes\n",
    "from pytorch3d.utils import ico_sphere\n",
    "from pytorch3d.ops import sample_points_from_meshes\n",
    "from pytorch3d.loss import (\n",
    "    chamfer_distance,\n",
    "    mesh_edge_loss,\n",
    "    mesh_laplacian_smoothing,\n",
    "    mesh_normal_consistency\n",
    ")\n",
    "\n",
    "import numpy as np\n",
    "from tqdm.notebook import tqdm\n",
    "%matplotlib notebook\n",
    "from mpl_toolkits.mplot3d import Axes3D\n",
    "import matplotlib.pyplot as plt\n",
    "import matplotlib as mpl\n",
    "mpl.rcParams['savefig.dpi'] = 80\n",
    "mpl.rcParams['figure.dpi'] = 80\n",
    "\n",
    "# Set the device\n",
    "if torch.cuda.is_available():\n",
    "    device = torch.device(\"cuda:0\")\n",
    "else:\n",
    "    device = torch.device(\"cpu\")\n",
    "    print(\"WARNING: CPU only, this will be slow!\")\n",
    "\n"
   ],
   "metadata": {
    "collapsed": false,
    "pycharm": {
     "name": "#%%\n"
    }
   }
  },
  {
   "cell_type": "code",
   "execution_count": 2,
   "outputs": [
    {
     "name": "stdout",
     "output_type": "stream",
     "text": [
      "--2022-09-22 15:36:27--  https://dl.fbaipublicfiles.com/pytorch3d/data/dolphin/dolphin.obj\r\n",
      "Resolving dl.fbaipublicfiles.com (dl.fbaipublicfiles.com)... 172.67.9.4, 104.22.75.142, 104.22.74.142\r\n",
      "Connecting to dl.fbaipublicfiles.com (dl.fbaipublicfiles.com)|172.67.9.4|:443... connected.\r\n",
      "HTTP request sent, awaiting response... 200 OK\r\n",
      "Length: 156763 (153K) [text/plain]\r\n",
      "Saving to: 'dolphin.obj'\r\n",
      "\r\n",
      "dolphin.obj         100%[===================>] 153.09K  --.-KB/s    in 0.1s    \r\n",
      "\r\n",
      "2022-09-22 15:36:28 (1.33 MB/s) - 'dolphin.obj' saved [156763/156763]\r\n",
      "\r\n"
     ]
    }
   ],
   "source": [
    "!wget https://dl.fbaipublicfiles.com/pytorch3d/data/dolphin/dolphin.obj"
   ],
   "metadata": {
    "collapsed": false,
    "pycharm": {
     "name": "#%%\n"
    }
   }
  },
  {
   "cell_type": "code",
   "execution_count": 5,
   "outputs": [],
   "source": [
    "# Load the dolphin mesh.\n",
    "trg_obj = os.path.join('dolphin.obj')"
   ],
   "metadata": {
    "collapsed": false,
    "pycharm": {
     "name": "#%%\n"
    }
   }
  },
  {
   "cell_type": "code",
   "execution_count": 6,
   "outputs": [
    {
     "ename": "NameError",
     "evalue": "name 'load_obj' is not defined",
     "output_type": "error",
     "traceback": [
      "\u001B[0;31m---------------------------------------------------------------------------\u001B[0m",
      "\u001B[0;31mNameError\u001B[0m                                 Traceback (most recent call last)",
      "Input \u001B[0;32mIn [6]\u001B[0m, in \u001B[0;36m<cell line: 1>\u001B[0;34m()\u001B[0m\n\u001B[0;32m----> 1\u001B[0m verts, faces, aux \u001B[38;5;241m=\u001B[39m \u001B[43mload_obj\u001B[49m(trg_obj)\n\u001B[1;32m      2\u001B[0m \u001B[38;5;66;03m# verts: \u001B[39;00m\n\u001B[1;32m      3\u001B[0m \u001B[38;5;66;03m# faces:\u001B[39;00m\n\u001B[1;32m      4\u001B[0m \u001B[38;5;66;03m# aux:\u001B[39;00m\n\u001B[1;32m      5\u001B[0m faces_idx \u001B[38;5;241m=\u001B[39m faces\u001B[38;5;241m.\u001B[39mverts_idx\u001B[38;5;241m.\u001B[39mto(device)\n",
      "\u001B[0;31mNameError\u001B[0m: name 'load_obj' is not defined"
     ]
    }
   ],
   "source": [
    "verts, faces, aux = load_obj(trg_obj)\n",
    "# verts:\n",
    "# faces:\n",
    "# aux:\n",
    "faces_idx = faces.verts_idx.to(device)\n",
    "verts = verts.to(device)"
   ],
   "metadata": {
    "collapsed": false,
    "pycharm": {
     "name": "#%%\n"
    }
   }
  },
  {
   "cell_type": "code",
   "execution_count": null,
   "outputs": [],
   "source": [],
   "metadata": {
    "collapsed": false,
    "pycharm": {
     "name": "#%%\n"
    }
   }
  }
 ],
 "metadata": {
  "kernelspec": {
   "display_name": "Python 3",
   "language": "python",
   "name": "python3"
  },
  "language_info": {
   "codemirror_mode": {
    "name": "ipython",
    "version": 2
   },
   "file_extension": ".py",
   "mimetype": "text/x-python",
   "name": "python",
   "nbconvert_exporter": "python",
   "pygments_lexer": "ipython2",
   "version": "2.7.6"
  }
 },
 "nbformat": 4,
 "nbformat_minor": 0
}